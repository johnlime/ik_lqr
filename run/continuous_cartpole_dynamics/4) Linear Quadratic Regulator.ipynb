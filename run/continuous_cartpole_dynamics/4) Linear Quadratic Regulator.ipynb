{
 "cells": [
  {
   "cell_type": "markdown",
   "id": "da1ea257",
   "metadata": {},
   "source": [
    "# Linear Quadratic Regulator"
   ]
  },
  {
   "cell_type": "code",
   "execution_count": 1,
   "id": "4113405d",
   "metadata": {},
   "outputs": [],
   "source": [
    "import gym\n",
    "import tensorflow as tf\n",
    "import numpy as np\n",
    "import pickle\n",
    "import control"
   ]
  },
  {
   "cell_type": "code",
   "execution_count": 2,
   "id": "e3186bab",
   "metadata": {},
   "outputs": [
    {
     "name": "stdout",
     "output_type": "stream",
     "text": [
      "A Matrix\n",
      "[[-1.5739264e-08 -3.6348650e-04 -1.6419442e-08  1.4684309e-03]\n",
      " [ 1.9999964e-02  1.8883319e-04 -1.0376565e-08 -1.3297781e-03]\n",
      " [-6.3428889e-09 -1.3173890e-02  1.2812671e-08  3.1240752e-01]\n",
      " [ 2.3316607e-08  1.7133448e-04  2.0000000e-02 -5.5705023e-04]]\n",
      "B Matrix\n",
      "[[-1.7497801e-08]\n",
      " [ 1.9511257e-01]\n",
      " [-6.7852040e-09]\n",
      " [-2.9143080e-01]]\n"
     ]
    },
    {
     "name": "stderr",
     "output_type": "stream",
     "text": [
      "2022-04-27 01:25:50.432471: I tensorflow/core/platform/cpu_feature_guard.cc:151] This TensorFlow binary is optimized with oneAPI Deep Neural Network Library (oneDNN) to use the following CPU instructions in performance-critical operations:  SSE4.1 SSE4.2 AVX AVX2 FMA\n",
      "To enable them in other operations, rebuild TensorFlow with the appropriate compiler flags.\n"
     ]
    }
   ],
   "source": [
    "model = tf.keras.models.load_model(\n",
    "    './cartpole_system_model', custom_objects=None, compile=True, options=None\n",
    ")\n",
    "np_weights = model.get_weights()\n",
    "\n",
    "A = np_weights[0]\n",
    "B = np_weights[1].T\n",
    "print(\"A Matrix\")\n",
    "print(A)\n",
    "print(\"B Matrix\")\n",
    "print(B)"
   ]
  },
  {
   "cell_type": "code",
   "execution_count": 3,
   "id": "43aa5943",
   "metadata": {},
   "outputs": [],
   "source": [
    "def cartpole_simulation(K):\n",
    "    env = gym.make('CartPole-v1')\n",
    "    x = env.reset()\n",
    "    cumul_reward = 0\n",
    "    for _ in range(500):\n",
    "        u = np.matmul(-K, x)\n",
    "        if u < 0:\n",
    "            u = 0\n",
    "        else:\n",
    "            u = 1\n",
    "        x, reward, done, _ = env.step(u)\n",
    "        cumul_reward += reward\n",
    "        if done:\n",
    "            break\n",
    "    env.close()\n",
    "    return cumul_reward"
   ]
  },
  {
   "cell_type": "markdown",
   "id": "1e9bfb77",
   "metadata": {},
   "source": [
    "## Continuous Algebraic Ricatti Equation"
   ]
  },
  {
   "cell_type": "markdown",
   "id": "f8118ce1",
   "metadata": {},
   "source": [
    "We define a cost function for observation/state spaces $x$ and control inputs $u$.\n",
    "\n",
    "$x^T Qx + u^T Ru$,\n",
    "\n",
    "with $Q$ as the state space weight and $R$ as the control input space weight.\n",
    "\n",
    "Infinite-horizon continuous algebraic Ricatti equation (CARE):\n",
    "\n",
    "$Q - S(t)B R^{-1} B^T S(t) + S(t)A + A^T S(t) = 0$\n",
    "\n",
    "The K gain can be derived as\n",
    "\n",
    "$K = R^{-1} B^T S(t)$, \n",
    "\n",
    "which can be used for the control input $u = -Kx$."
   ]
  },
  {
   "cell_type": "code",
   "execution_count": 8,
   "id": "82bbfe0f",
   "metadata": {},
   "outputs": [
    {
     "name": "stdout",
     "output_type": "stream",
     "text": [
      "Solution\n",
      "[[ 1.82223842e+04 -2.48925045e+01 -9.54271217e+01 -1.64570727e+01]\n",
      " [-2.48925045e+01  2.70814641e+02  2.66772666e+01  1.83688452e+02]\n",
      " [-9.54271217e+01  2.66772666e+01  1.06394557e+02  2.93301405e+01]\n",
      " [-1.64570727e+01  1.83688452e+02  2.93301405e+01  1.60191604e+02]] \n",
      "\n",
      "Eigenvalues\n",
      "[-2.92126289e+00+0.j         -9.97788379e-02+0.j\n",
      " -2.30430563e-03+0.00088374j -2.30430563e-03-0.00088374j] \n",
      "\n",
      "K (Gain)\n",
      "[[ -0.06106089  -0.69313154  -3.34263532 -10.84484125]] \n",
      "\n"
     ]
    }
   ],
   "source": [
    "Q = np.diag([1, 1, 10, 100])\n",
    "\n",
    "# R (control input gain) is set as the identity matrix\n",
    "S, Lambda_S, K_gain = control.care(A, B, Q, R=None)\n",
    "\n",
    "print(\"Solution\")\n",
    "print(S, \"\\n\")\n",
    "\n",
    "print(\"Eigenvalues\")\n",
    "print(Lambda_S, \"\\n\")\n",
    "\n",
    "print(\"K (Gain)\")\n",
    "print(K_gain, \"\\n\")"
   ]
  },
  {
   "cell_type": "code",
   "execution_count": 5,
   "id": "d34b496f",
   "metadata": {},
   "outputs": [
    {
     "data": {
      "text/plain": [
       "500.0"
      ]
     },
     "execution_count": 5,
     "metadata": {},
     "output_type": "execute_result"
    }
   ],
   "source": [
    "cartpole_simulation(K_gain)"
   ]
  },
  {
   "cell_type": "markdown",
   "id": "0283ef0d",
   "metadata": {},
   "source": [
    "It seems that despite the aforementioned indication of a continuous control system, DARE performs much better."
   ]
  },
  {
   "cell_type": "code",
   "execution_count": 9,
   "id": "17eee49b",
   "metadata": {},
   "outputs": [
    {
     "name": "stdout",
     "output_type": "stream",
     "text": [
      "{'K': array([[ -0.06106089,  -0.69313154,  -3.34263532, -10.84484125]]), 'S': array([[ 1.82223842e+04, -2.48925045e+01, -9.54271217e+01,\n",
      "        -1.64570727e+01],\n",
      "       [-2.48925045e+01,  2.70814641e+02,  2.66772666e+01,\n",
      "         1.83688452e+02],\n",
      "       [-9.54271217e+01,  2.66772666e+01,  1.06394557e+02,\n",
      "         2.93301405e+01],\n",
      "       [-1.64570727e+01,  1.83688452e+02,  2.93301405e+01,\n",
      "         1.60191604e+02]]), 'A': array([[-1.5739264e-08, -3.6348650e-04, -1.6419442e-08,  1.4684309e-03],\n",
      "       [ 1.9999964e-02,  1.8883319e-04, -1.0376565e-08, -1.3297781e-03],\n",
      "       [-6.3428889e-09, -1.3173890e-02,  1.2812671e-08,  3.1240752e-01],\n",
      "       [ 2.3316607e-08,  1.7133448e-04,  2.0000000e-02, -5.5705023e-04]],\n",
      "      dtype=float32), 'B': array([[-1.7497801e-08],\n",
      "       [ 1.9511257e-01],\n",
      "       [-6.7852040e-09],\n",
      "       [-2.9143080e-01]], dtype=float32)}\n"
     ]
    }
   ],
   "source": [
    "save_care_controller_dict = {\"K\": K_gain, \"S\": S, \"A\": A, \"B\": B}\n",
    "print(save_care_controller_dict)\n",
    "with open('./cartpole_system_model/care_controller.pkl', 'wb') as filepath:\n",
    "    pickle.dump(save_care_controller_dict, filepath, protocol=pickle.HIGHEST_PROTOCOL)"
   ]
  },
  {
   "cell_type": "markdown",
   "id": "8fa333ac",
   "metadata": {},
   "source": [
    "## Optimizing Q for CARE"
   ]
  },
  {
   "cell_type": "code",
   "execution_count": 10,
   "id": "7b7468b9",
   "metadata": {},
   "outputs": [],
   "source": [
    "import cma"
   ]
  },
  {
   "cell_type": "code",
   "execution_count": 11,
   "id": "a63fa0db",
   "metadata": {},
   "outputs": [],
   "source": [
    "# A and B are global variables\n",
    "def cartpole_loss(q_diag):\n",
    "    Q = np.diag(q_diag)\n",
    "    _, _, K = control.dare(A, B, Q, R=None)\n",
    "    \n",
    "    # cartpole simulation\n",
    "    env = gym.make('CartPole-v1')\n",
    "    x = env.reset()\n",
    "    cumul_loss = 500\n",
    "    for _ in range(500):\n",
    "        u = np.matmul(-K, x)\n",
    "        if u < 0:\n",
    "            u = 0\n",
    "        else:\n",
    "            u = 1\n",
    "        x, reward, done, _ = env.step(u)\n",
    "        cumul_loss -= reward\n",
    "        if done:\n",
    "            break\n",
    "    env.close()\n",
    "    return cumul_loss"
   ]
  },
  {
   "cell_type": "code",
   "execution_count": 12,
   "id": "38ac27d4",
   "metadata": {},
   "outputs": [
    {
     "name": "stdout",
     "output_type": "stream",
     "text": [
      "(4_w,8)-aCMA-ES (mu_w=2.6,w_1=52%) in dimension 4 (seed=1101981, Wed Apr 27 01:27:35 2022)\n",
      "Iterat #Fevals   function value  axis ratio  sigma  min&max std  t[m:s]\n",
      "    1      8 4.730000000000000e+02 1.0e+00 9.46e-01  7e-01  1e+00 0:00.0\n",
      "    2     16 4.770000000000000e+02 1.5e+00 8.71e-01  6e-01  1e+00 0:00.1\n",
      "    3     24 4.730000000000000e+02 1.8e+00 8.60e-01  6e-01  1e+00 0:00.1\n",
      "  100    800 4.730000000000000e+02 1.7e+01 1.04e+00  1e-01  8e-01 0:01.7\n",
      "  200   1600 4.730000000000000e+02 5.4e+01 6.54e-01  2e-02  1e-01 0:03.4\n",
      "  300   2400 4.730000000000000e+02 8.1e+02 1.21e+00  2e-02  2e-01 0:05.0\n",
      "  400   3200 4.720000000000000e+02 2.1e+03 1.15e+00  1e-02  9e-02 0:06.7\n",
      "  500   4000 4.720000000000000e+02 4.4e+03 8.22e-01  4e-03  1e-02 0:08.2\n",
      "  505   4040 4.730000000000000e+02 4.6e+03 1.26e+00  5e-03  2e-02 0:08.3\n"
     ]
    }
   ],
   "source": [
    "es = cma.CMAEvolutionStrategy((1, 1, 10, 100), 1.0)\n",
    "with open('./cartpole_system_model/cma_es_history_Q.pkl', 'wb') as filepath:\n",
    "    pickle.dump(es, filepath)\n",
    "\n",
    "while not es.stop():\n",
    "    solutions = es.ask()\n",
    "    es.tell(solutions, [cartpole_loss(x) for x in solutions])\n",
    "    es.logger.add()  # write data to disc to be plotted\n",
    "    es.disp()\n",
    "with open('./cartpole_system_model/cma_es_history_Q.pkl', 'wb') as filepath:\n",
    "    pickle.dump(es, filepath)"
   ]
  },
  {
   "cell_type": "code",
   "execution_count": 13,
   "id": "5a938e9e",
   "metadata": {},
   "outputs": [
    {
     "name": "stdout",
     "output_type": "stream",
     "text": [
      "termination on tolstagnation=198\n",
      "final/bestever f-value = 4.730000e+02 4.720000e+02\n",
      "incumbent solution: [-8.554020517342108, 9.775567091016356, 16.864374503495718, 100.22872195524612]\n",
      "std deviation: [0.018352838315088976, 0.011987899898183805, 0.012625744384984882, 0.005455566939373828]\n"
     ]
    },
    {
     "data": {
      "text/plain": [
       "<cma.logger.CMADataLogger at 0x7ff4bde30eb0>"
      ]
     },
     "execution_count": 13,
     "metadata": {},
     "output_type": "execute_result"
    },
    {
     "data": {
      "image/png": "[encoded data removed]",
      "text/plain": [
       "<Figure size 432x288 with 4 Axes>"
      ]
     },
     "metadata": {
      "needs_background": "light"
     },
     "output_type": "display_data"
    }
   ],
   "source": [
    "with open('./cartpole_system_model/cma_es_history_Q.pkl', 'rb') as filepath:\n",
    "    es = pickle.load(filepath)\n",
    "es.result_pretty()\n",
    "cma.plot()"
   ]
  },
  {
   "cell_type": "code",
   "execution_count": 14,
   "id": "6af8c58c",
   "metadata": {},
   "outputs": [
    {
     "name": "stdout",
     "output_type": "stream",
     "text": [
      "[  2.40373728   1.29433435   9.84547941 100.7513878 ]\n",
      "472.0\n"
     ]
    }
   ],
   "source": [
    "print(es.result.xbest)\n",
    "print(es.result.fbest)"
   ]
  },
  {
   "cell_type": "code",
   "execution_count": 15,
   "id": "1f8f4193",
   "metadata": {},
   "outputs": [],
   "source": [
    "Q = np.diag(es.result.xbest)"
   ]
  },
  {
   "cell_type": "code",
   "execution_count": 16,
   "id": "f0f6cdbb",
   "metadata": {},
   "outputs": [
    {
     "name": "stdout",
     "output_type": "stream",
     "text": [
      "Solution\n",
      "[[20811.76752554   -60.01452612  -113.06004796   -40.3526376 ]\n",
      " [  -60.01452612   302.61789143    32.00933068   205.43036241]\n",
      " [ -113.06004796    32.00933068   106.87251809    32.89380475]\n",
      " [  -40.3526376    205.43036241    32.89380475   175.19335438]] \n",
      "\n",
      "Eigenvalues\n",
      "[-2.93411475e+00 -1.87472859e-03 -3.34728371e-03 -9.85872732e-02] \n",
      "\n",
      "K (Gain)\n",
      "[[  0.05004961  -0.8241794   -3.34084381 -10.97469295]] \n",
      "\n"
     ]
    }
   ],
   "source": [
    "# R (control input gain) is set as the identity matrix\n",
    "S, Lambda_S, K_gain = control.care(A, B, Q, R=None)\n",
    "\n",
    "print(\"Solution\")\n",
    "print(S, \"\\n\")\n",
    "\n",
    "print(\"Eigenvalues\")\n",
    "print(Lambda_S, \"\\n\")\n",
    "\n",
    "print(\"K (Gain)\")\n",
    "print(K_gain, \"\\n\")"
   ]
  },
  {
   "cell_type": "code",
   "execution_count": 17,
   "id": "916305df",
   "metadata": {},
   "outputs": [
    {
     "data": {
      "text/plain": [
       "500.0"
      ]
     },
     "execution_count": 17,
     "metadata": {},
     "output_type": "execute_result"
    }
   ],
   "source": [
    "cartpole_simulation(K_gain)"
   ]
  },
  {
   "cell_type": "code",
   "execution_count": 18,
   "id": "268cd93b",
   "metadata": {},
   "outputs": [
    {
     "name": "stdout",
     "output_type": "stream",
     "text": [
      "{'K': array([[  0.05004961,  -0.8241794 ,  -3.34084381, -10.97469295]]), 'S': array([[20811.76752554,   -60.01452612,  -113.06004796,   -40.3526376 ],\n",
      "       [  -60.01452612,   302.61789143,    32.00933068,   205.43036241],\n",
      "       [ -113.06004796,    32.00933068,   106.87251809,    32.89380475],\n",
      "       [  -40.3526376 ,   205.43036241,    32.89380475,   175.19335438]]), 'A': array([[-1.5739264e-08, -3.6348650e-04, -1.6419442e-08,  1.4684309e-03],\n",
      "       [ 1.9999964e-02,  1.8883319e-04, -1.0376565e-08, -1.3297781e-03],\n",
      "       [-6.3428889e-09, -1.3173890e-02,  1.2812671e-08,  3.1240752e-01],\n",
      "       [ 2.3316607e-08,  1.7133448e-04,  2.0000000e-02, -5.5705023e-04]],\n",
      "      dtype=float32), 'B': array([[-1.7497801e-08],\n",
      "       [ 1.9511257e-01],\n",
      "       [-6.7852040e-09],\n",
      "       [-2.9143080e-01]], dtype=float32)}\n"
     ]
    }
   ],
   "source": [
    "save_care_controller_dict = {\"K\": K_gain, \"S\": S, \"A\": A, \"B\": B}\n",
    "print(save_care_controller_dict)\n",
    "with open('./cartpole_system_model/best_care_controller.pkl', 'wb') as filepath:\n",
    "    pickle.dump(save_care_controller_dict, filepath, protocol=pickle.HIGHEST_PROTOCOL)"
   ]
  }
 ],
 "metadata": {
  "kernelspec": {
   "display_name": "Python 3 (ipykernel)",
   "language": "python",
   "name": "python3"
  },
  "language_info": {
   "codemirror_mode": {
    "name": "ipython",
    "version": 3
   },
   "file_extension": ".py",
   "mimetype": "text/x-python",
   "name": "python",
   "nbconvert_exporter": "python",
   "pygments_lexer": "ipython3",
   "version": "3.8.12"
  }
 },
 "nbformat": 4,
 "nbformat_minor": 5
}
