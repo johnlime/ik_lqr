{
 "cells": [
  {
   "cell_type": "markdown",
   "id": "29e460cd",
   "metadata": {},
   "source": [
    "# 1. Cartpole System Evaluation"
   ]
  },
  {
   "cell_type": "code",
   "execution_count": 1,
   "id": "af15a131",
   "metadata": {},
   "outputs": [],
   "source": [
    "import gym\n",
    "import tensorflow as tf\n",
    "import numpy as np\n",
    "import pickle\n",
    "\n",
    "import control\n",
    "from scipy.linalg import lu\n",
    "import math\n",
    "import cmath\n",
    "\n",
    "import matplotlib.pyplot as plt\n",
    "%matplotlib inline"
   ]
  },
  {
   "cell_type": "code",
   "execution_count": 2,
   "id": "6c1f081d",
   "metadata": {},
   "outputs": [
    {
     "name": "stderr",
     "output_type": "stream",
     "text": [
      "2022-04-27 00:54:45.803611: I tensorflow/core/platform/cpu_feature_guard.cc:151] This TensorFlow binary is optimized with oneAPI Deep Neural Network Library (oneDNN) to use the following CPU instructions in performance-critical operations:  SSE4.1 SSE4.2 AVX AVX2 FMA\n",
      "To enable them in other operations, rebuild TensorFlow with the appropriate compiler flags.\n"
     ]
    }
   ],
   "source": [
    "model = tf.keras.models.load_model(\n",
    "    './cartpole_system_model', custom_objects=None, compile=True, options=None\n",
    ")"
   ]
  },
  {
   "cell_type": "code",
   "execution_count": 3,
   "id": "8df9cfc4",
   "metadata": {},
   "outputs": [
    {
     "name": "stdout",
     "output_type": "stream",
     "text": [
      "[array([[-1.5739264e-08, -3.6348650e-04, -1.6419442e-08,  1.4684309e-03],\n",
      "       [ 1.9999964e-02,  1.8883319e-04, -1.0376565e-08, -1.3297781e-03],\n",
      "       [-6.3428889e-09, -1.3173890e-02,  1.2812671e-08,  3.1240752e-01],\n",
      "       [ 2.3316607e-08,  1.7133448e-04,  2.0000000e-02, -5.5705023e-04]],\n",
      "      dtype=float32)]\n",
      "[array([[-1.7497801e-08,  1.9511257e-01, -6.7852040e-09, -2.9143080e-01]],\n",
      "      dtype=float32)]\n"
     ]
    }
   ],
   "source": [
    "np_weights = model.get_weights()\n",
    "print(model.A.get_weights())\n",
    "print(model.B.get_weights())"
   ]
  },
  {
   "cell_type": "code",
   "execution_count": 4,
   "id": "ae63602b",
   "metadata": {},
   "outputs": [
    {
     "name": "stdout",
     "output_type": "stream",
     "text": [
      "A Matrix\n",
      "[[-1.5739264e-08 -3.6348650e-04 -1.6419442e-08  1.4684309e-03]\n",
      " [ 1.9999964e-02  1.8883319e-04 -1.0376565e-08 -1.3297781e-03]\n",
      " [-6.3428889e-09 -1.3173890e-02  1.2812671e-08  3.1240752e-01]\n",
      " [ 2.3316607e-08  1.7133448e-04  2.0000000e-02 -5.5705023e-04]]\n",
      "B Matrix\n",
      "[[-1.7497801e-08]\n",
      " [ 1.9511257e-01]\n",
      " [-6.7852040e-09]\n",
      " [-2.9143080e-01]]\n"
     ]
    }
   ],
   "source": [
    "A = np_weights[0]\n",
    "B = np_weights[1].T\n",
    "print(\"A Matrix\")\n",
    "print(A)\n",
    "print(\"B Matrix\")\n",
    "print(B)"
   ]
  },
  {
   "cell_type": "markdown",
   "id": "634dae0c",
   "metadata": {},
   "source": [
    "## Controllability"
   ]
  },
  {
   "cell_type": "code",
   "execution_count": 5,
   "id": "95b2a3eb",
   "metadata": {},
   "outputs": [
    {
     "name": "stdout",
     "output_type": "stream",
     "text": [
      "[[ 1.00000000e+00  0.00000000e+00  0.00000000e+00  0.00000000e+00]\n",
      " [ 2.32823845e-08  1.00000000e+00  0.00000000e+00  0.00000000e+00]\n",
      " [-6.69498798e-01 -5.93330927e-03  1.00000000e+00  0.00000000e+00]\n",
      " [ 6.00410131e-08  5.32888703e-03  1.27628800e-04  1.00000000e+00]]\n",
      "[[-2.91430801e-01  1.95770969e-04 -1.87234764e-03  2.15261888e-06]\n",
      " [ 0.00000000e+00 -9.36155664e-02  5.55684132e-05 -5.84801688e-04]\n",
      " [ 0.00000000e+00  0.00000000e+00 -1.26336133e-03  4.61950197e-07]\n",
      " [ 0.00000000e+00  0.00000000e+00  0.00000000e+00  3.70560843e-07]]\n"
     ]
    }
   ],
   "source": [
    "# controllability matrix\n",
    "C_matrix = control.ctrb(A, B)\n",
    "\n",
    "# obtain rank via LU decomposition\n",
    "_, L_matrix, U_matrix = lu(C_matrix, permute_l = False)\n",
    "\n",
    "print(L_matrix)\n",
    "print(U_matrix)"
   ]
  },
  {
   "cell_type": "markdown",
   "id": "9f8d5f38",
   "metadata": {},
   "source": [
    "The controllability matrix is fully-ranked column-wise."
   ]
  },
  {
   "cell_type": "markdown",
   "id": "a193d5e9",
   "metadata": {},
   "source": [
    "## Controllability Gramian"
   ]
  },
  {
   "cell_type": "code",
   "execution_count": 6,
   "id": "beb45a4b",
   "metadata": {
    "scrolled": true
   },
   "outputs": [
    {
     "name": "stdout",
     "output_type": "stream",
     "text": [
      "[[ 2.48875608e-07 -2.15132164e-07  4.67033081e-05 -9.28224680e-08]\n",
      " [-2.15132164e-07  3.80690956e-02 -3.97320761e-05 -5.68617108e-02]\n",
      " [ 4.67033081e-05 -3.97320761e-05  8.76421936e-03 -1.84305349e-05]\n",
      " [-9.28224680e-08 -5.68617108e-02 -1.84305349e-05  8.49354559e-02]]\n",
      "Eigenvalue:  0\n",
      "0.12300323620534576\n",
      "Eigenvector\n",
      "[-3.68482309e-07 -5.32872039e-03 -9.99985786e-01  1.80061230e-04]\n",
      "Eigenvalue:  1\n",
      "0.008764681482166175\n",
      "Eigenvector\n",
      "[5.56317654e-01 4.06988785e-03 1.27733160e-04 8.30959739e-01]\n",
      "Eigenvalue:  2\n",
      "1.3730605092133755e-13\n",
      "Eigenvector\n",
      "[-5.94232729e-05 -9.99973611e-01  5.32954444e-03  4.93665061e-03]\n",
      "Eigenvalue:  3\n",
      "1.1020438465338832e-06\n",
      "Eigenvector\n",
      "[-8.30969713e-01  2.79622000e-03  8.55771145e-05  5.56310624e-01]\n"
     ]
    }
   ],
   "source": [
    "# gramian can be derived from the controllability matrix\n",
    "W_c = np.matmul(C_matrix, C_matrix.T)\n",
    "print(W_c)\n",
    "\n",
    "lambda_wc, xi_wc = np.linalg.eig(W_c)\n",
    "for i in range(len(lambda_wc)):\n",
    "    print(\"Eigenvalue: \", i)\n",
    "    print(lambda_wc[i])\n",
    "    print(\"Eigenvector\")\n",
    "    print(xi_wc[i])"
   ]
  },
  {
   "cell_type": "markdown",
   "id": "9e64910e",
   "metadata": {},
   "source": [
    "Looking at the eigenvalues of the controllable gramian, we can see that, as expected, the pole's angle and angular velocities are less controllable compared to the cart's position and velocity."
   ]
  },
  {
   "cell_type": "markdown",
   "id": "36c4ee1f",
   "metadata": {},
   "source": [
    "Visualization of the gramian is abridged, since it requires a projection of a 4-dimensional ellipsoid onto a 2-dimensional plane, which is out of the scope of this project."
   ]
  },
  {
   "cell_type": "code",
   "execution_count": 11,
   "id": "ef1b67b4",
   "metadata": {},
   "outputs": [],
   "source": [
    "# def gramian_2d_ellipoid_projection(eig_x, eig_y, eig_vec): \n",
    "#     # parameterized ellipsOID function\n",
    "#     # IMPORTANT: Cut the ellipsoid along a plane\n",
    "#     return cut_gramian"
   ]
  },
  {
   "cell_type": "code",
   "execution_count": 12,
   "id": "2d9f4f20",
   "metadata": {},
   "outputs": [],
   "source": [
    "# cart_gramian_ellipse = gramian_2d_ellipse(lambda_wc[0], lambda_wc[1], xi_wc[0])\n",
    "# measure eigenvector sizes projected onto xy-plane"
   ]
  }
 ],
 "metadata": {
  "kernelspec": {
   "display_name": "Python 3 (ipykernel)",
   "language": "python",
   "name": "python3"
  },
  "language_info": {
   "codemirror_mode": {
    "name": "ipython",
    "version": 3
   },
   "file_extension": ".py",
   "mimetype": "text/x-python",
   "name": "python",
   "nbconvert_exporter": "python",
   "pygments_lexer": "ipython3",
   "version": "3.8.12"
  }
 },
 "nbformat": 4,
 "nbformat_minor": 5
}
