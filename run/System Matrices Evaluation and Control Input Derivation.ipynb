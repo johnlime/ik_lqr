{
 "cells": [
  {
   "cell_type": "markdown",
   "id": "aa53a653",
   "metadata": {},
   "source": [
    "# System Matrices Evaluation and Control Input Derivation"
   ]
  },
  {
   "cell_type": "code",
   "execution_count": 1,
   "id": "6116f0ae",
   "metadata": {},
   "outputs": [],
   "source": [
    "import gym\n",
    "import numpy as np\n",
    "import tensorflow as tf\n",
    "import pickle\n",
    "import os\n",
    "from os import path"
   ]
  },
  {
   "cell_type": "markdown",
   "id": "61ef17b1",
   "metadata": {},
   "source": [
    "## Import matrices for linear control systems"
   ]
  },
  {
   "cell_type": "code",
   "execution_count": 2,
   "id": "35084d75",
   "metadata": {},
   "outputs": [
    {
     "name": "stderr",
     "output_type": "stream",
     "text": [
      "2022-03-15 01:10:50.123978: I tensorflow/core/platform/cpu_feature_guard.cc:151] This TensorFlow binary is optimized with oneAPI Deep Neural Network Library (oneDNN) to use the following CPU instructions in performance-critical operations:  SSE4.1 SSE4.2 AVX AVX2 FMA\n",
      "To enable them in other operations, rebuild TensorFlow with the appropriate compiler flags.\n"
     ]
    }
   ],
   "source": [
    "model = tf.keras.models.load_model(\n",
    "    './cartpole_system_model', custom_objects=None, compile=True, options=None\n",
    ")"
   ]
  },
  {
   "cell_type": "code",
   "execution_count": 3,
   "id": "7bf8d811",
   "metadata": {},
   "outputs": [
    {
     "name": "stdout",
     "output_type": "stream",
     "text": [
      "[array([[ 1.0000000e+00,  2.8594382e-04, -4.5564782e-08,  8.6408173e-04],\n",
      "       [ 2.0000003e-02,  9.9994367e-01,  2.9265443e-08, -7.2883966e-04],\n",
      "       [-3.1767406e-08, -1.3775987e-02,  1.0000000e+00,  3.1655234e-01],\n",
      "       [-3.4968859e-09,  2.1930250e-04,  2.0000009e-02,  9.9978548e-01]],\n",
      "      dtype=float32)]\n",
      "[array([[-1.4053483e-09,  1.9509907e-01, -1.3254321e-08, -2.9150683e-01]],\n",
      "      dtype=float32)]\n"
     ]
    }
   ],
   "source": [
    "np_weights = model.get_weights()\n",
    "print(model.A.get_weights())\n",
    "print(model.B.get_weights())"
   ]
  },
  {
   "cell_type": "code",
   "execution_count": 4,
   "id": "84fea393",
   "metadata": {},
   "outputs": [
    {
     "name": "stdout",
     "output_type": "stream",
     "text": [
      "A Matrix\n",
      "[[ 1.0000000e+00  2.8594382e-04 -4.5564782e-08  8.6408173e-04]\n",
      " [ 2.0000003e-02  9.9994367e-01  2.9265443e-08 -7.2883966e-04]\n",
      " [-3.1767406e-08 -1.3775987e-02  1.0000000e+00  3.1655234e-01]\n",
      " [-3.4968859e-09  2.1930250e-04  2.0000009e-02  9.9978548e-01]]\n",
      "B Matrix\n",
      "[[-1.4053483e-09]\n",
      " [ 1.9509907e-01]\n",
      " [-1.3254321e-08]\n",
      " [-2.9150683e-01]]\n"
     ]
    }
   ],
   "source": [
    "A = np_weights[0]\n",
    "B = np_weights[1].T\n",
    "print(\"A Matrix\")\n",
    "print(A)\n",
    "print(\"B Matrix\")\n",
    "print(B)"
   ]
  },
  {
   "cell_type": "markdown",
   "id": "b6f7c411",
   "metadata": {},
   "source": [
    "## Deriving K"
   ]
  },
  {
   "cell_type": "markdown",
   "id": "d2f7f3ec",
   "metadata": {},
   "source": [
    "Rewrite the control system equation using $u = - Kx$.\n",
    "\n",
    "$$\n",
    "\\begin{align}\n",
    "    \\dot x &= Ax - Bu \\\\\n",
    "    \\dot x &= Ax - BKx \\\\\n",
    "\\end{align}\n",
    "$$\n",
    "\n",
    "Define the target control system with the desired eigenvalue and eigenvector placements as $\\dot x = Tx$.\n",
    "\n",
    "Derive the state space to control input transformation $K$.\n",
    "\n",
    "$$\n",
    "\\begin{align}\n",
    "    \\dot x \n",
    "        &= Tx \\\\\n",
    "        &= Ax - BKx \\\\\n",
    "    Tx &= Ax - BKx \\\\\n",
    "    T &= A - BK \\\\\n",
    "    K &= - B^{-1}_{left} (T - A) \\\\\n",
    "\\end{align}\n",
    "$$\n",
    "\n",
    "where $B^{-1}_{left}$ is the left inverse of $B$, which can be derived as,\n",
    "\n",
    "$$\n",
    "\\begin{align}\n",
    "    (A^T A)^{-1} A^T A &= I \\\\\n",
    "    (A^T A)^{-1} A^T &= A^{-1}_{left} \\\\\n",
    "\\end{align}\n",
    "$$"
   ]
  },
  {
   "cell_type": "code",
   "execution_count": 5,
   "id": "5c43520c",
   "metadata": {},
   "outputs": [
    {
     "name": "stdout",
     "output_type": "stream",
     "text": [
      "Eigenvalues\n",
      "[0.9203467 0.9974113 1.0025    1.0794711]\n",
      "Eigenvectors\n",
      "[[-0.0026594  -0.12393044  0.12821224  0.0026406 ]\n",
      " [ 0.00290405  0.9912179   0.990798   -0.00156652]\n",
      " [-0.9697325  -0.01600512 -0.0050172   0.9699134 ]\n",
      " [ 0.2441379   0.04326752  0.04307875  0.24343067]]\n"
     ]
    }
   ],
   "source": [
    "L, V = np.linalg.eig(A)\n",
    "print(\"Eigenvalues\")\n",
    "print(L)\n",
    "print(\"Eigenvectors\")\n",
    "print(V)"
   ]
  },
  {
   "cell_type": "code",
   "execution_count": 19,
   "id": "07b20f5c",
   "metadata": {},
   "outputs": [
    {
     "name": "stdout",
     "output_type": "stream",
     "text": [
      "K Matrix\n",
      "[[ 0.03171315  2.37787697 -0.04738431 -3.79137701]]\n"
     ]
    }
   ],
   "source": [
    "# Define desirable T = A - BK (test)\n",
    "T = np.diag((-0.05, -0.5, -1, -0.6))\n",
    "\n",
    "# calculate K\n",
    "B_left_inv = np.matmul(np.linalg.inv(np.matmul(B.T, B)), B.T)\n",
    "K = - np.matmul(B_left_inv, (T - A))\n",
    "print(\"K Matrix\")\n",
    "print(K)"
   ]
  },
  {
   "cell_type": "code",
   "execution_count": 20,
   "id": "51a6d3f1",
   "metadata": {},
   "outputs": [
    {
     "name": "stdout",
     "output_type": "stream",
     "text": [
      "{'K': array([[ 0.03171315,  2.37787697, -0.04738431, -3.79137701]]), 'Target': array([[-0.05,  0.  ,  0.  ,  0.  ],\n",
      "       [ 0.  , -0.5 ,  0.  ,  0.  ],\n",
      "       [ 0.  ,  0.  , -1.  ,  0.  ],\n",
      "       [ 0.  ,  0.  ,  0.  , -0.6 ]]), 'A': array([[ 1.0000000e+00,  2.8594382e-04, -4.5564782e-08,  8.6408173e-04],\n",
      "       [ 2.0000003e-02,  9.9994367e-01,  2.9265443e-08, -7.2883966e-04],\n",
      "       [-3.1767406e-08, -1.3775987e-02,  1.0000000e+00,  3.1655234e-01],\n",
      "       [-3.4968859e-09,  2.1930250e-04,  2.0000009e-02,  9.9978548e-01]],\n",
      "      dtype=float32), 'B': array([[-1.4053483e-09],\n",
      "       [ 1.9509907e-01],\n",
      "       [-1.3254321e-08],\n",
      "       [-2.9150683e-01]], dtype=float32)}\n"
     ]
    }
   ],
   "source": [
    "save_controller_dict = {\"K\": K, \"Target\": T, \"A\": A, \"B\": B}\n",
    "print(save_controller_dict)\n",
    "with open('./cartpole_system_model/controller.pkl', 'wb') as filepath:\n",
    "    pickle.dump(save_controller_dict, filepath, protocol=pickle.HIGHEST_PROTOCOL)"
   ]
  },
  {
   "cell_type": "markdown",
   "id": "101b484d",
   "metadata": {},
   "source": [
    "## Testing"
   ]
  },
  {
   "cell_type": "code",
   "execution_count": 21,
   "id": "5fd09217",
   "metadata": {},
   "outputs": [],
   "source": [
    "with open('./cartpole_system_model/controller.pkl', 'rb') as filepath:\n",
    "    controller_dict = pickle.load(filepath)\n",
    "K = controller_dict['K']"
   ]
  },
  {
   "cell_type": "code",
   "execution_count": 22,
   "id": "6b927288",
   "metadata": {},
   "outputs": [
    {
     "name": "stdout",
     "output_type": "stream",
     "text": [
      "[0.04975393]\n",
      "[1.6820682]\n",
      "[3.31497472]\n",
      "[4.95550494]\n",
      "[6.61045301]\n",
      "[8.28618529]\n",
      "[9.98842958]\n",
      "[11.7220223]\n",
      "8.0\n"
     ]
    }
   ],
   "source": [
    "env = gym.make('CartPole-v0')\n",
    "x = env.reset()\n",
    "cumul_reward = 0\n",
    "for _ in range(1000):\n",
    "    u = np.matmul(K, x)\n",
    "    print(u)\n",
    "    if u < 0:\n",
    "        u = 0\n",
    "    else:\n",
    "        u = 1\n",
    "    x, reward, done, _ = env.step(u)\n",
    "    cumul_reward += reward\n",
    "    if done:\n",
    "        break\n",
    "env.close()\n",
    "print(cumul_reward)"
   ]
  },
  {
   "cell_type": "code",
   "execution_count": null,
   "id": "9e5a8be1",
   "metadata": {},
   "outputs": [],
   "source": [
    "# optimizing T"
   ]
  }
 ],
 "metadata": {
  "kernelspec": {
   "display_name": "Python 3 (ipykernel)",
   "language": "python",
   "name": "python3"
  },
  "language_info": {
   "codemirror_mode": {
    "name": "ipython",
    "version": 3
   },
   "file_extension": ".py",
   "mimetype": "text/x-python",
   "name": "python",
   "nbconvert_exporter": "python",
   "pygments_lexer": "ipython3",
   "version": "3.8.12"
  }
 },
 "nbformat": 4,
 "nbformat_minor": 5
}
