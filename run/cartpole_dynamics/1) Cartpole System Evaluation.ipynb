{
 "cells": [
  {
   "cell_type": "markdown",
   "id": "29e460cd",
   "metadata": {},
   "source": [
    "# 1. Cartpole System Evaluation"
   ]
  },
  {
   "cell_type": "code",
   "execution_count": 3,
   "id": "af15a131",
   "metadata": {},
   "outputs": [],
   "source": [
    "import gym\n",
    "import tensorflow as tf\n",
    "import numpy as np\n",
    "import pickle\n",
    "# import os\n",
    "# from os import path"
   ]
  },
  {
   "cell_type": "code",
   "execution_count": 4,
   "id": "6c1f081d",
   "metadata": {},
   "outputs": [
    {
     "name": "stderr",
     "output_type": "stream",
     "text": [
      "2022-04-07 23:54:48.407827: I tensorflow/core/platform/cpu_feature_guard.cc:151] This TensorFlow binary is optimized with oneAPI Deep Neural Network Library (oneDNN) to use the following CPU instructions in performance-critical operations:  SSE4.1 SSE4.2 AVX AVX2 FMA\n",
      "To enable them in other operations, rebuild TensorFlow with the appropriate compiler flags.\n"
     ]
    }
   ],
   "source": [
    "model = tf.keras.models.load_model(\n",
    "    './cartpole_system_model', custom_objects=None, compile=True, options=None\n",
    ")"
   ]
  },
  {
   "cell_type": "code",
   "execution_count": 5,
   "id": "8df9cfc4",
   "metadata": {},
   "outputs": [
    {
     "name": "stdout",
     "output_type": "stream",
     "text": [
      "[array([[ 1.0000035e+00, -1.2942681e-05, -2.3801964e-05,  1.6305943e-03],\n",
      "       [ 2.0008639e-02,  9.9992085e-01, -2.6311722e-05, -9.5092575e-04],\n",
      "       [-8.2056704e-07, -1.3424688e-02,  1.0000260e+00,  3.1254122e-01],\n",
      "       [-4.4493249e-06, -5.0352475e-05,  2.0024499e-02,  9.9951327e-01]],\n",
      "      dtype=float32)]\n",
      "[array([[ 6.6651064e-06,  1.9508155e-01, -1.1186228e-05, -2.9142728e-01]],\n",
      "      dtype=float32)]\n"
     ]
    }
   ],
   "source": [
    "np_weights = model.get_weights()\n",
    "print(model.A.get_weights())\n",
    "print(model.B.get_weights())"
   ]
  },
  {
   "cell_type": "code",
   "execution_count": 6,
   "id": "ae63602b",
   "metadata": {},
   "outputs": [
    {
     "name": "stdout",
     "output_type": "stream",
     "text": [
      "A Matrix\n",
      "[[ 1.0000035e+00 -1.2942681e-05 -2.3801964e-05  1.6305943e-03]\n",
      " [ 2.0008639e-02  9.9992085e-01 -2.6311722e-05 -9.5092575e-04]\n",
      " [-8.2056704e-07 -1.3424688e-02  1.0000260e+00  3.1254122e-01]\n",
      " [-4.4493249e-06 -5.0352475e-05  2.0024499e-02  9.9951327e-01]]\n",
      "B Matrix\n",
      "[[ 6.6651064e-06]\n",
      " [ 1.9508155e-01]\n",
      " [-1.1186228e-05]\n",
      " [-2.9142728e-01]]\n"
     ]
    }
   ],
   "source": [
    "A = np_weights[0]\n",
    "B = np_weights[1].T\n",
    "print(\"A Matrix\")\n",
    "print(A)\n",
    "print(\"B Matrix\")\n",
    "print(B)"
   ]
  },
  {
   "cell_type": "code",
   "execution_count": null,
   "id": "7828d608",
   "metadata": {},
   "outputs": [],
   "source": [
    "import control"
   ]
  },
  {
   "cell_type": "code",
   "execution_count": null,
   "id": "beb45a4b",
   "metadata": {},
   "outputs": [],
   "source": [
    "# controllability\n",
    "# gramian\n",
    "# analysis"
   ]
  }
 ],
 "metadata": {
  "kernelspec": {
   "display_name": "Python 3 (ipykernel)",
   "language": "python",
   "name": "python3"
  },
  "language_info": {
   "codemirror_mode": {
    "name": "ipython",
    "version": 3
   },
   "file_extension": ".py",
   "mimetype": "text/x-python",
   "name": "python",
   "nbconvert_exporter": "python",
   "pygments_lexer": "ipython3",
   "version": "3.8.12"
  }
 },
 "nbformat": 4,
 "nbformat_minor": 5
}
