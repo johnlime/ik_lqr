{
 "cells": [
  {
   "cell_type": "markdown",
   "id": "aa53a653",
   "metadata": {},
   "source": [
    "# 2. System Matrices Evaluation and Control Input Derivation"
   ]
  },
  {
   "cell_type": "code",
   "execution_count": 1,
   "id": "6116f0ae",
   "metadata": {},
   "outputs": [],
   "source": [
    "import gym\n",
    "import numpy as np\n",
    "import tensorflow as tf\n",
    "import pickle\n",
    "import os\n",
    "from os import path"
   ]
  },
  {
   "cell_type": "markdown",
   "id": "61ef17b1",
   "metadata": {},
   "source": [
    "## Import matrices for linear control systems"
   ]
  },
  {
   "cell_type": "code",
   "execution_count": 2,
   "id": "35084d75",
   "metadata": {},
   "outputs": [
    {
     "name": "stderr",
     "output_type": "stream",
     "text": [
      "2022-04-06 15:18:23.847550: I tensorflow/core/platform/cpu_feature_guard.cc:151] This TensorFlow binary is optimized with oneAPI Deep Neural Network Library (oneDNN) to use the following CPU instructions in performance-critical operations:  SSE4.1 SSE4.2 AVX AVX2 FMA\n",
      "To enable them in other operations, rebuild TensorFlow with the appropriate compiler flags.\n"
     ]
    }
   ],
   "source": [
    "model = tf.keras.models.load_model(\n",
    "    './cartpole_system_model', custom_objects=None, compile=True, options=None\n",
    ")"
   ]
  },
  {
   "cell_type": "code",
   "execution_count": 3,
   "id": "7bf8d811",
   "metadata": {},
   "outputs": [
    {
     "name": "stdout",
     "output_type": "stream",
     "text": [
      "[array([[ 1.0000035e+00, -1.2942681e-05, -2.3801964e-05,  1.6305943e-03],\n",
      "       [ 2.0008639e-02,  9.9992085e-01, -2.6311722e-05, -9.5092575e-04],\n",
      "       [-8.2056704e-07, -1.3424688e-02,  1.0000260e+00,  3.1254122e-01],\n",
      "       [-4.4493249e-06, -5.0352475e-05,  2.0024499e-02,  9.9951327e-01]],\n",
      "      dtype=float32)]\n",
      "[array([[ 6.6651064e-06,  1.9508155e-01, -1.1186228e-05, -2.9142728e-01]],\n",
      "      dtype=float32)]\n"
     ]
    }
   ],
   "source": [
    "np_weights = model.get_weights()\n",
    "print(model.A.get_weights())\n",
    "print(model.B.get_weights())"
   ]
  },
  {
   "cell_type": "code",
   "execution_count": 4,
   "id": "84fea393",
   "metadata": {},
   "outputs": [
    {
     "name": "stdout",
     "output_type": "stream",
     "text": [
      "A Matrix\n",
      "[[ 1.0000035e+00 -1.2942681e-05 -2.3801964e-05  1.6305943e-03]\n",
      " [ 2.0008639e-02  9.9992085e-01 -2.6311722e-05 -9.5092575e-04]\n",
      " [-8.2056704e-07 -1.3424688e-02  1.0000260e+00  3.1254122e-01]\n",
      " [-4.4493249e-06 -5.0352475e-05  2.0024499e-02  9.9951327e-01]]\n",
      "B Matrix\n",
      "[[ 6.6651064e-06]\n",
      " [ 1.9508155e-01]\n",
      " [-1.1186228e-05]\n",
      " [-2.9142728e-01]]\n"
     ]
    }
   ],
   "source": [
    "A = np_weights[0]\n",
    "B = np_weights[1].T\n",
    "print(\"A Matrix\")\n",
    "print(A)\n",
    "print(\"B Matrix\")\n",
    "print(B)"
   ]
  },
  {
   "cell_type": "markdown",
   "id": "b6f7c411",
   "metadata": {},
   "source": [
    "## Deriving K"
   ]
  },
  {
   "cell_type": "markdown",
   "id": "d2f7f3ec",
   "metadata": {},
   "source": [
    "Rewrite the control system equation using $u = - Kx$.\n",
    "\n",
    "$$\n",
    "\\begin{align}\n",
    "    \\dot x &= Ax - Bu \\\\\n",
    "    \\dot x &= Ax - BKx \\\\\n",
    "\\end{align}\n",
    "$$\n",
    "\n",
    "Define the target control system with the desired eigenvalue and eigenvector placements as $\\dot x = Tx$.\n",
    "\n",
    "Derive the state space to control input transformation $K$.\n",
    "\n",
    "$$\n",
    "\\begin{align}\n",
    "    \\dot x \n",
    "        &= Tx \\\\\n",
    "        &= Ax - BKx \\\\\n",
    "    Tx &= Ax - BKx \\\\\n",
    "    T &= A - BK \\\\\n",
    "    K &= - B^{-1}_{left} (T - A) \\\\\n",
    "\\end{align}\n",
    "$$\n",
    "\n",
    "where $B^{-1}_{left}$ is the left inverse of $B$, which can be derived as,\n",
    "\n",
    "$$\n",
    "\\begin{align}\n",
    "    (A^T A)^{-1} A^T A &= I \\\\\n",
    "    (A^T A)^{-1} A^T &= A^{-1}_{left} \\\\\n",
    "\\end{align}\n",
    "$$\n",
    "\n",
    "since $A^{-1}_{left} A = I$."
   ]
  },
  {
   "cell_type": "code",
   "execution_count": 5,
   "id": "5c43520c",
   "metadata": {},
   "outputs": [
    {
     "name": "stdout",
     "output_type": "stream",
     "text": [
      "Eigenvalues\n",
      "[1.0788951  1.0010113  0.9988714  0.92068577]\n",
      "Eigenvectors\n",
      "[[-0.0047632   0.05640477  0.05029647 -0.00535164]\n",
      " [ 0.00206137  0.99747103 -0.9978138   0.00398437]\n",
      " [-0.9696124   0.00572724 -0.0011242  -0.96919453]\n",
      " [-0.24459109  0.04286291 -0.04285515  0.24620616]]\n"
     ]
    }
   ],
   "source": [
    "L, V = np.linalg.eig(A)\n",
    "print(\"Eigenvalues\")\n",
    "print(L)\n",
    "print(\"Eigenvectors\")\n",
    "print(V)"
   ]
  },
  {
   "cell_type": "code",
   "execution_count": 6,
   "id": "07b20f5c",
   "metadata": {},
   "outputs": [
    {
     "name": "stdout",
     "output_type": "stream",
     "text": [
      "K Matrix\n",
      "[[ 0.03180245  3.17239641 -0.04794625 -7.10913631]]\n"
     ]
    }
   ],
   "source": [
    "# Define desirable T = A - BK (test)\n",
    "T = np.diag((0, -1, -4, -2))\n",
    "\n",
    "# calculate K\n",
    "B_left_inv = np.matmul(np.linalg.inv(np.matmul(B.T, B)), B.T)\n",
    "K = - np.matmul(B_left_inv, (T - A))\n",
    "print(\"K Matrix\")\n",
    "print(K)"
   ]
  },
  {
   "cell_type": "code",
   "execution_count": 7,
   "id": "51a6d3f1",
   "metadata": {},
   "outputs": [
    {
     "name": "stdout",
     "output_type": "stream",
     "text": [
      "{'K': array([[ 0.03180245,  3.17239641, -0.04794625, -7.10913631]]), 'Target': array([[ 0,  0,  0,  0],\n",
      "       [ 0, -1,  0,  0],\n",
      "       [ 0,  0, -4,  0],\n",
      "       [ 0,  0,  0, -2]]), 'A': array([[ 1.0000035e+00, -1.2942681e-05, -2.3801964e-05,  1.6305943e-03],\n",
      "       [ 2.0008639e-02,  9.9992085e-01, -2.6311722e-05, -9.5092575e-04],\n",
      "       [-8.2056704e-07, -1.3424688e-02,  1.0000260e+00,  3.1254122e-01],\n",
      "       [-4.4493249e-06, -5.0352475e-05,  2.0024499e-02,  9.9951327e-01]],\n",
      "      dtype=float32), 'B': array([[ 6.6651064e-06],\n",
      "       [ 1.9508155e-01],\n",
      "       [-1.1186228e-05],\n",
      "       [-2.9142728e-01]], dtype=float32)}\n"
     ]
    }
   ],
   "source": [
    "save_controller_dict = {\"K\": K, \"Target\": T, \"A\": A, \"B\": B}\n",
    "print(save_controller_dict)\n",
    "with open('./cartpole_system_model/controller.pkl', 'wb') as filepath:\n",
    "    pickle.dump(save_controller_dict, filepath, protocol=pickle.HIGHEST_PROTOCOL)"
   ]
  },
  {
   "cell_type": "markdown",
   "id": "101b484d",
   "metadata": {},
   "source": [
    "## Testing"
   ]
  },
  {
   "cell_type": "code",
   "execution_count": 8,
   "id": "5fd09217",
   "metadata": {},
   "outputs": [],
   "source": [
    "with open('./cartpole_system_model/controller.pkl', 'rb') as filepath:\n",
    "    controller_dict = pickle.load(filepath)\n",
    "K = controller_dict['K']"
   ]
  },
  {
   "cell_type": "markdown",
   "id": "a487315d",
   "metadata": {},
   "source": [
    "Plug in $u = -Kx$"
   ]
  },
  {
   "cell_type": "code",
   "execution_count": 9,
   "id": "6b927288",
   "metadata": {},
   "outputs": [
    {
     "name": "stdout",
     "output_type": "stream",
     "text": [
      "121.0\n"
     ]
    }
   ],
   "source": [
    "env = gym.make('CartPole-v0')\n",
    "x = env.reset()\n",
    "cumul_reward = 0\n",
    "for _ in range(1000):\n",
    "    u = np.matmul(-K, x)\n",
    "    if u < 0:\n",
    "        u = 0\n",
    "    else:\n",
    "        u = 1\n",
    "    x, reward, done, _ = env.step(u)\n",
    "    cumul_reward += reward\n",
    "    if done:\n",
    "        break\n",
    "env.close()\n",
    "print(cumul_reward)"
   ]
  },
  {
   "cell_type": "markdown",
   "id": "364879c0",
   "metadata": {},
   "source": [
    "## Optimizing T"
   ]
  },
  {
   "cell_type": "code",
   "execution_count": 10,
   "id": "9e452cf7",
   "metadata": {},
   "outputs": [],
   "source": [
    "import cma"
   ]
  },
  {
   "cell_type": "code",
   "execution_count": 11,
   "id": "8b041f3a",
   "metadata": {},
   "outputs": [],
   "source": [
    "# A, B, and B_left_inv matrices are global\n",
    "def cartpole_loss(target_matrix):\n",
    "    # row-major target matrix to T\n",
    "    selected_T = tf.reshape(target_matrix, [4, 4])\n",
    "    \n",
    "    # compute K given T\n",
    "    selected_K = - np.matmul(B_left_inv, selected_T - A)\n",
    "    \n",
    "    # cartpole simulation\n",
    "    env = gym.make('CartPole-v1')\n",
    "    x = env.reset()\n",
    "    cumul_reward = 500\n",
    "    for _ in range(500):\n",
    "        u = np.matmul(-selected_K, x)\n",
    "        if u < 0:\n",
    "            u = 0\n",
    "        else:\n",
    "            u = 1\n",
    "        x, reward, done, _ = env.step(u)\n",
    "        cumul_reward -= reward\n",
    "        if done:\n",
    "            break\n",
    "    env.close()\n",
    "    return cumul_reward"
   ]
  },
  {
   "cell_type": "code",
   "execution_count": 12,
   "id": "c4066371",
   "metadata": {},
   "outputs": [
    {
     "name": "stdout",
     "output_type": "stream",
     "text": [
      "(6_w,12)-aCMA-ES (mu_w=3.7,w_1=40%) in dimension 16 (seed=331572, Wed Apr  6 15:18:25 2022)\n",
      "Iterat #Fevals   function value  axis ratio  sigma  min&max std  t[m:s]\n",
      "    1     12 5.000000000000000e+00 1.0e+00 9.23e-01  9e-01  9e-01 0:00.0\n",
      "    2     24 0.000000000000000e+00 1.1e+00 9.11e-01  9e-01  9e-01 0:00.1\n",
      "    3     36 0.000000000000000e+00 1.2e+00 9.35e-01  9e-01  1e+00 0:00.2\n",
      "   16    192 0.000000000000000e+00 1.8e+00 8.97e-01  8e-01  1e+00 0:01.3\n"
     ]
    }
   ],
   "source": [
    "init_T = np.reshape(np.diag((0, -1, -4, -2)), [16, ])\n",
    "es = cma.CMAEvolutionStrategy(init_T, 1.0)\n",
    "with open('./cartpole_system_model/cma_es_history.pkl', 'wb') as filepath:\n",
    "    pickle.dump(es, filepath)\n",
    "\n",
    "while not es.stop():\n",
    "    solutions = es.ask()\n",
    "    es.tell(solutions, [cartpole_loss(x) for x in solutions])\n",
    "    es.logger.add()  # write data to disc to be plotted\n",
    "    es.disp()\n",
    "with open('./cartpole_system_model/cma_es_history.pkl', 'wb') as filepath:\n",
    "    pickle.dump(es, filepath)"
   ]
  },
  {
   "cell_type": "code",
   "execution_count": 13,
   "id": "118b0bbd",
   "metadata": {},
   "outputs": [
    {
     "name": "stdout",
     "output_type": "stream",
     "text": [
      "termination on tolflatfitness=1\n",
      "final/bestever f-value = 0.000000e+00 0.000000e+00\n",
      "incumbent solution: [ 2.37992189  0.56374039 -3.47585936  0.88628805  0.19970891 -0.00735497\n",
      "  2.7185344   3.28261219 ...]\n",
      "std deviations: [0.84808557 0.94051928 0.88469366 0.86580675 0.80810827 0.875854\n",
      " 0.9179952  0.96253578 ...]\n"
     ]
    },
    {
     "data": {
      "text/plain": [
       "<cma.logger.CMADataLogger at 0x7fc1cde85e80>"
      ]
     },
     "execution_count": 13,
     "metadata": {},
     "output_type": "execute_result"
    },
    {
     "data": {
      "image/png": "[encoded data removed]",
      "text/plain": [
       "<Figure size 432x288 with 4 Axes>"
      ]
     },
     "metadata": {
      "needs_background": "light"
     },
     "output_type": "display_data"
    }
   ],
   "source": [
    "es.result_pretty()\n",
    "cma.plot()  # shortcut for es.logger.plot()"
   ]
  },
  {
   "cell_type": "code",
   "execution_count": 14,
   "id": "e31ac14a",
   "metadata": {},
   "outputs": [
    {
     "name": "stdout",
     "output_type": "stream",
     "text": [
      "<cma.evolution_strategy.CMAEvolutionStrategy object at 0x7fc1cde858e0>\n"
     ]
    }
   ],
   "source": [
    "with open('./cartpole_system_model/cma_es_history.pkl', 'rb') as filepath:\n",
    "    es = pickle.load(filepath)\n",
    "print(es)"
   ]
  },
  {
   "cell_type": "code",
   "execution_count": 15,
   "id": "c9447ab7",
   "metadata": {},
   "outputs": [
    {
     "data": {
      "text/plain": [
       "['B',\n",
       " 'C',\n",
       " 'D',\n",
       " 'N',\n",
       " 'N_pheno',\n",
       " '__class__',\n",
       " '__delattr__',\n",
       " '__dict__',\n",
       " '__dir__',\n",
       " '__doc__',\n",
       " '__eq__',\n",
       " '__format__',\n",
       " '__ge__',\n",
       " '__getattribute__',\n",
       " '__gt__',\n",
       " '__hash__',\n",
       " '__init__',\n",
       " '__init_subclass__',\n",
       " '__le__',\n",
       " '__lt__',\n",
       " '__module__',\n",
       " '__ne__',\n",
       " '__new__',\n",
       " '__reduce__',\n",
       " '__reduce_ex__',\n",
       " '__repr__',\n",
       " '__setattr__',\n",
       " '__sizeof__',\n",
       " '__slotnames__',\n",
       " '__str__',\n",
       " '__subclasshook__',\n",
       " '__weakref__',\n",
       " '_copy_light',\n",
       " '_flgtelldone',\n",
       " '_force_final_logging',\n",
       " '_injected_solutions_archive',\n",
       " '_prepare_callback_list',\n",
       " '_prepare_injection_directions',\n",
       " '_random_rescaling_factor_to_mahalanobis_size',\n",
       " '_record_rankings',\n",
       " '_record_rankings_',\n",
       " '_set_x0',\n",
       " '_stopdict',\n",
       " '_tfg',\n",
       " '_tfp',\n",
       " '_updateBDfromSM',\n",
       " 'adapt_sigma',\n",
       " 'alleviate_conditioning',\n",
       " 'alleviate_conditioning_in_coordinates',\n",
       " 'archive',\n",
       " 'ary',\n",
       " 'ask',\n",
       " 'ask_and_eval',\n",
       " 'ask_geno',\n",
       " 'best',\n",
       " 'boundary_handler',\n",
       " 'callbackstop',\n",
       " 'condition_number',\n",
       " 'const',\n",
       " 'count_eigen',\n",
       " 'countevals',\n",
       " 'countiter',\n",
       " 'dC',\n",
       " 'disp',\n",
       " 'disp_annotation',\n",
       " 'evaluations_per_f_value',\n",
       " 'feed_for_resume',\n",
       " 'fit',\n",
       " 'get_mirror',\n",
       " 'get_selective_mirrors',\n",
       " 'gp',\n",
       " 'hsiglist',\n",
       " 'initialize',\n",
       " 'inject',\n",
       " 'inopts',\n",
       " 'inputargs',\n",
       " 'isotropic_mean_shift',\n",
       " 'itereigenupdated',\n",
       " 'logger',\n",
       " 'mahalanobis_norm',\n",
       " 'manage_plateaus',\n",
       " 'mean',\n",
       " 'mean0',\n",
       " 'mean_old',\n",
       " 'mean_old_old',\n",
       " 'mean_shift_samples',\n",
       " 'more_to_write',\n",
       " 'noiseS',\n",
       " 'number_of_injections',\n",
       " 'number_of_injections_delivered',\n",
       " 'number_of_solutions_asked',\n",
       " 'optimize',\n",
       " 'opts',\n",
       " 'pc',\n",
       " 'pc_neg',\n",
       " 'pickle_dumps',\n",
       " 'plot',\n",
       " 'pop',\n",
       " 'pop_injection_directions',\n",
       " 'pop_injection_solutions',\n",
       " 'pop_sorted',\n",
       " 'popsize',\n",
       " 'randn',\n",
       " 'random_rescale_to_mahalanobis',\n",
       " 'repair_genotype',\n",
       " 'result',\n",
       " 'result_pretty',\n",
       " 'sent_solutions',\n",
       " 'sigma',\n",
       " 'sigma0',\n",
       " 'sigma_vec',\n",
       " 'sigma_vec0',\n",
       " 'sm',\n",
       " 'sp',\n",
       " 'sp0',\n",
       " 'stop',\n",
       " 'tell',\n",
       " 'time_last_displayed',\n",
       " 'timer',\n",
       " 'times_displayed',\n",
       " 'x0']"
      ]
     },
     "execution_count": 15,
     "metadata": {},
     "output_type": "execute_result"
    }
   ],
   "source": [
    "dir(es)"
   ]
  },
  {
   "cell_type": "code",
   "execution_count": 16,
   "id": "da069936",
   "metadata": {},
   "outputs": [
    {
     "name": "stdout",
     "output_type": "stream",
     "text": [
      "[ 1.30221468 -2.47239739 -1.1913795   1.62084544  0.10320403 -0.01669319\n",
      "  1.07277205  0.32080505  0.58742325  0.11949963 -4.66529641 -0.55672433\n",
      "  0.85978345 -1.43065735 -1.79578298 -4.35433958]\n",
      "0.0\n"
     ]
    }
   ],
   "source": [
    "print(es.result.xbest)\n",
    "print(es.result.fbest)"
   ]
  },
  {
   "cell_type": "code",
   "execution_count": 17,
   "id": "86213021",
   "metadata": {},
   "outputs": [
    {
     "name": "stdout",
     "output_type": "stream",
     "text": [
      "{'K': array([[  1.90541239,  -1.77724393,  -6.00483319, -13.19694214]]), 'Target': array([[ 1.30221468, -2.47239739, -1.1913795 ,  1.62084544],\n",
      "       [ 0.10320403, -0.01669319,  1.07277205,  0.32080505],\n",
      "       [ 0.58742325,  0.11949963, -4.66529641, -0.55672433],\n",
      "       [ 0.85978345, -1.43065735, -1.79578298, -4.35433958]]), 'A': array([[ 1.0000035e+00, -1.2942681e-05, -2.3801964e-05,  1.6305943e-03],\n",
      "       [ 2.0008639e-02,  9.9992085e-01, -2.6311722e-05, -9.5092575e-04],\n",
      "       [-8.2056704e-07, -1.3424688e-02,  1.0000260e+00,  3.1254122e-01],\n",
      "       [-4.4493249e-06, -5.0352475e-05,  2.0024499e-02,  9.9951327e-01]],\n",
      "      dtype=float32), 'B': array([[ 6.6651064e-06],\n",
      "       [ 1.9508155e-01],\n",
      "       [-1.1186228e-05],\n",
      "       [-2.9142728e-01]], dtype=float32)}\n"
     ]
    }
   ],
   "source": [
    "best_T = np.reshape(es.result.xbest, [4, 4])\n",
    "best_K = - np.matmul(B_left_inv, best_T - A)\n",
    "\n",
    "save_best_controller_dict = {\"K\": best_K, \"Target\": best_T, \"A\": A, \"B\": B}\n",
    "print(save_best_controller_dict)\n",
    "with open('./cartpole_system_model/best_controller.pkl', 'wb') as filepath:\n",
    "    pickle.dump(save_best_controller_dict, filepath, protocol=pickle.HIGHEST_PROTOCOL)"
   ]
  },
  {
   "cell_type": "code",
   "execution_count": null,
   "id": "7374ed58",
   "metadata": {},
   "outputs": [],
   "source": []
  }
 ],
 "metadata": {
  "kernelspec": {
   "display_name": "Python 3 (ipykernel)",
   "language": "python",
   "name": "python3"
  },
  "language_info": {
   "codemirror_mode": {
    "name": "ipython",
    "version": 3
   },
   "file_extension": ".py",
   "mimetype": "text/x-python",
   "name": "python",
   "nbconvert_exporter": "python",
   "pygments_lexer": "ipython3",
   "version": "3.8.12"
  }
 },
 "nbformat": 4,
 "nbformat_minor": 5
}
