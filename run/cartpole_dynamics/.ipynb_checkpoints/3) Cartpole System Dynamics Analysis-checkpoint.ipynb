{
 "cells": [
  {
   "cell_type": "code",
   "execution_count": 1,
   "id": "29929559",
   "metadata": {},
   "outputs": [],
   "source": [
    "import pickle\n",
    "import numpy as np"
   ]
  },
  {
   "cell_type": "code",
   "execution_count": 2,
   "id": "8adafee7",
   "metadata": {},
   "outputs": [],
   "source": [
    "with open('./cartpole_system_model/best_controller.pkl', 'rb') as filepath:\n",
    "    save_best_controller_dict = pickle.load(filepath)"
   ]
  },
  {
   "cell_type": "code",
   "execution_count": 7,
   "id": "9bfe390b",
   "metadata": {},
   "outputs": [
    {
     "name": "stdout",
     "output_type": "stream",
     "text": [
      "[[ 1.30221468 -2.47239739 -1.1913795   1.62084544]\n",
      " [ 0.10320403 -0.01669319  1.07277205  0.32080505]\n",
      " [ 0.58742325  0.11949963 -4.66529641 -0.55672433]\n",
      " [ 0.85978345 -1.43065735 -1.79578298 -4.35433958]]\n"
     ]
    }
   ],
   "source": [
    "T = save_best_controller_dict[\"Target\"]\n",
    "print(T)"
   ]
  },
  {
   "cell_type": "code",
   "execution_count": 31,
   "id": "702a9006",
   "metadata": {},
   "outputs": [
    {
     "name": "stdout",
     "output_type": "stream",
     "text": [
      "Eigenvalue:  0\n",
      "(0.7194754187804548+0.458684687475165j)\n",
      "Eigenvector:  0\n",
      "[-0.95601235+0.j         -0.22104407+0.14348659j -0.10085314+0.01590847j\n",
      " -0.06759264-0.03997872j]\n",
      "\n",
      "\n",
      "Eigenvalue:  1\n",
      "(0.7194754187804548-0.458684687475165j)\n",
      "Eigenvector:  1\n",
      "[-0.95601235-0.j         -0.22104407-0.14348659j -0.10085314-0.01590847j\n",
      " -0.06759264+0.03997872j]\n",
      "\n",
      "\n",
      "Eigenvalue:  2\n",
      "(-5.573790543562167+0j)\n",
      "Eigenvector:  2\n",
      "[-0.13827982+0.j -0.15614575+0.j  0.58858564+0.j  0.78106603+0.j]\n",
      "\n",
      "\n",
      "Eigenvalue:  3\n",
      "(-3.599274793902627+0j)\n",
      "Eigenvector:  3\n",
      "[-0.32921831+0.j  0.11031138+0.j -0.56136353+0.j  0.75121082+0.j]\n",
      "\n",
      "\n"
     ]
    }
   ],
   "source": [
    "w, V = np.linalg.eig(T)\n",
    "for i in range(len(w)):\n",
    "    print(\"Eigenvalue: \", i)\n",
    "    print(w[i])\n",
    "    print(\"Eigenvector: \", i)\n",
    "    print(V[:, i])\n",
    "    print(\"\\n\")"
   ]
  },
  {
   "cell_type": "markdown",
   "id": "3b53e39f",
   "metadata": {},
   "source": [
    "### Cart Position and Velocity\n",
    "\n",
    "The eigenvalues for cart position and cart velocity are complex.\n",
    "\n",
    "Since the real values of the 2 complex eigenvalues are positive, these are unstable spirals.\n",
    "\n",
    "The spiral is counter-clockwise since $Tx$, when $x = [0, 1, 0, 0]$ is substituted, results in \n",
    "\n",
    "$[-2.47239739, -0.01669319]$,\n",
    "\n",
    "which is a negative direction.\n",
    "\n",
    "### Pole Angle and Angular Velocity\n",
    "\n",
    "The eigenvalues for the pole angle and pole angular velocity are real.\n",
    "\n",
    "Both are negative, suggesting a stable fixed point at the origin.\n",
    "\n",
    "The pole angle has a higher convergence rate than the angular velocity."
   ]
  },
  {
   "cell_type": "code",
   "execution_count": 13,
   "id": "182aeac8",
   "metadata": {},
   "outputs": [],
   "source": [
    "import matplotlib.pyplot as plt"
   ]
  },
  {
   "cell_type": "code",
   "execution_count": 33,
   "id": "6a9f6203",
   "metadata": {},
   "outputs": [
    {
     "data": {
      "image/png": "[encoded data removed]",
      "text/plain": [
       "<Figure size 432x288 with 1 Axes>"
      ]
     },
     "metadata": {
      "needs_background": "light"
     },
     "output_type": "display_data"
    }
   ],
   "source": [
    "x_ang = [V[2, 2] * -10, V[2, 2] * 10]\n",
    "y_ang = [V[3, 2] * -10, V[3, 2] * 10]\n",
    "plt.plot(x_ang, y_ang, label = \"Angle eigenvector\")\n",
    "\n",
    "x_ang_vel = [V[2, 3] * -10, V[2, 3] * 10]\n",
    "y_ang_vel = [V[3, 3] * -10, V[3, 3] * 10]\n",
    "plt.plot(x_ang_vel, y_ang_vel, label = \"Angular velocity eigenvector\")\n",
    "\n",
    "plt.plot([-8, 8], [0, 0], color = \"black\")\n",
    "plt.plot([0, 0], [-8, 8], color = \"black\")\n",
    "\n",
    "plt.xlabel(r\"$\\theta$\")\n",
    "plt.ylabel(r\"$\\dot \\theta $\")\n",
    "\n",
    "plt.legend()\n",
    "plt.show()"
   ]
  },
  {
   "cell_type": "code",
   "execution_count": null,
   "id": "0944abc1",
   "metadata": {},
   "outputs": [],
   "source": []
  }
 ],
 "metadata": {
  "kernelspec": {
   "display_name": "Python 3 (ipykernel)",
   "language": "python",
   "name": "python3"
  },
  "language_info": {
   "codemirror_mode": {
    "name": "ipython",
    "version": 3
   },
   "file_extension": ".py",
   "mimetype": "text/x-python",
   "name": "python",
   "nbconvert_exporter": "python",
   "pygments_lexer": "ipython3",
   "version": "3.8.12"
  }
 },
 "nbformat": 4,
 "nbformat_minor": 5
}
