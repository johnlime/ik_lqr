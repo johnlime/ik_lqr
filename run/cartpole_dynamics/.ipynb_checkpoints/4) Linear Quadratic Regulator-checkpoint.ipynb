{
 "cells": [
  {
   "cell_type": "markdown",
   "id": "da1ea257",
   "metadata": {},
   "source": [
    "# Linear Quadratic Regulator"
   ]
  },
  {
   "cell_type": "markdown",
   "id": "5539b21d",
   "metadata": {},
   "source": [
    "The previous section showed that the eigenvalues of the stable system regarding the angle and angular velocity of the pole have characteristics of continuous systems rather than discrete systems.\n",
    "\n",
    "We solve the linear quadratic regulator problem by solving the continuous Ricatti equation."
   ]
  },
  {
   "cell_type": "code",
   "execution_count": 1,
   "id": "4113405d",
   "metadata": {},
   "outputs": [],
   "source": [
    "import gym\n",
    "import tensorflow as tf\n",
    "import numpy as np\n",
    "import pickle\n",
    "import control"
   ]
  },
  {
   "cell_type": "code",
   "execution_count": 2,
   "id": "e3186bab",
   "metadata": {},
   "outputs": [
    {
     "name": "stdout",
     "output_type": "stream",
     "text": [
      "A Matrix\n",
      "[[ 1.0000035e+00 -1.2942681e-05 -2.3801964e-05  1.6305943e-03]\n",
      " [ 2.0008639e-02  9.9992085e-01 -2.6311722e-05 -9.5092575e-04]\n",
      " [-8.2056704e-07 -1.3424688e-02  1.0000260e+00  3.1254122e-01]\n",
      " [-4.4493249e-06 -5.0352475e-05  2.0024499e-02  9.9951327e-01]]\n",
      "B Matrix\n",
      "[[ 6.6651064e-06]\n",
      " [ 1.9508155e-01]\n",
      " [-1.1186228e-05]\n",
      " [-2.9142728e-01]]\n"
     ]
    },
    {
     "name": "stderr",
     "output_type": "stream",
     "text": [
      "2022-04-10 16:55:27.254677: I tensorflow/core/platform/cpu_feature_guard.cc:151] This TensorFlow binary is optimized with oneAPI Deep Neural Network Library (oneDNN) to use the following CPU instructions in performance-critical operations:  SSE4.1 SSE4.2 AVX AVX2 FMA\n",
      "To enable them in other operations, rebuild TensorFlow with the appropriate compiler flags.\n"
     ]
    }
   ],
   "source": [
    "model = tf.keras.models.load_model(\n",
    "    './cartpole_system_model', custom_objects=None, compile=True, options=None\n",
    ")\n",
    "np_weights = model.get_weights()\n",
    "\n",
    "A = np_weights[0]\n",
    "B = np_weights[1].T\n",
    "print(\"A Matrix\")\n",
    "print(A)\n",
    "print(\"B Matrix\")\n",
    "print(B)"
   ]
  },
  {
   "cell_type": "code",
   "execution_count": null,
   "id": "82bbfe0f",
   "metadata": {},
   "outputs": [],
   "source": [
    "# Q = \n",
    "\n",
    "# Continuous Algebraic Ricatti Equation solution\n",
    "S, Lambda_S, K_gain = control.care(A, B, Q, R=None)"
   ]
  }
 ],
 "metadata": {
  "kernelspec": {
   "display_name": "Python 3 (ipykernel)",
   "language": "python",
   "name": "python3"
  },
  "language_info": {
   "codemirror_mode": {
    "name": "ipython",
    "version": 3
   },
   "file_extension": ".py",
   "mimetype": "text/x-python",
   "name": "python",
   "nbconvert_exporter": "python",
   "pygments_lexer": "ipython3",
   "version": "3.8.12"
  }
 },
 "nbformat": 4,
 "nbformat_minor": 5
}
