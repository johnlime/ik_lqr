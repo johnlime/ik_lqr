{
 "cells": [
  {
   "cell_type": "markdown",
   "id": "da1ea257",
   "metadata": {},
   "source": [
    "# Linear Quadratic Regulator"
   ]
  },
  {
   "cell_type": "markdown",
   "id": "5539b21d",
   "metadata": {},
   "source": [
    "The previous section showed that the eigenvalues of the stable system regarding the angle and angular velocity of the pole have characteristics of continuous systems rather than discrete systems.\n",
    "\n",
    "We solve the linear quadratic regulator problem by solving the continuous Ricatti equation."
   ]
  },
  {
   "cell_type": "code",
   "execution_count": null,
   "id": "4113405d",
   "metadata": {},
   "outputs": [],
   "source": [
    "import control"
   ]
  },
  {
   "cell_type": "code",
   "execution_count": null,
   "id": "e3186bab",
   "metadata": {},
   "outputs": [],
   "source": []
  }
 ],
 "metadata": {
  "kernelspec": {
   "display_name": "Python 3 (ipykernel)",
   "language": "python",
   "name": "python3"
  },
  "language_info": {
   "codemirror_mode": {
    "name": "ipython",
    "version": 3
   },
   "file_extension": ".py",
   "mimetype": "text/x-python",
   "name": "python",
   "nbconvert_exporter": "python",
   "pygments_lexer": "ipython3",
   "version": "3.8.12"
  }
 },
 "nbformat": 4,
 "nbformat_minor": 5
}
