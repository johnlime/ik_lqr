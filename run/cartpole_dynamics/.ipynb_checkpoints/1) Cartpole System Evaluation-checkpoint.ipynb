{
 "cells": [
  {
   "cell_type": "markdown",
   "id": "29e460cd",
   "metadata": {},
   "source": [
    "# 1. Cartpole System Evaluation"
   ]
  },
  {
   "cell_type": "code",
   "execution_count": 1,
   "id": "af15a131",
   "metadata": {},
   "outputs": [],
   "source": [
    "import gym\n",
    "import tensorflow as tf\n",
    "import numpy as np\n",
    "import pickle\n",
    "\n",
    "import control\n",
    "from scipy.linalg import lu\n",
    "import math\n",
    "import cmath\n",
    "\n",
    "import matplotlib.pyplot as plt\n",
    "%matplotlib inline"
   ]
  },
  {
   "cell_type": "code",
   "execution_count": 2,
   "id": "6c1f081d",
   "metadata": {},
   "outputs": [
    {
     "name": "stderr",
     "output_type": "stream",
     "text": [
      "2022-04-10 16:03:52.273958: I tensorflow/core/platform/cpu_feature_guard.cc:151] This TensorFlow binary is optimized with oneAPI Deep Neural Network Library (oneDNN) to use the following CPU instructions in performance-critical operations:  SSE4.1 SSE4.2 AVX AVX2 FMA\n",
      "To enable them in other operations, rebuild TensorFlow with the appropriate compiler flags.\n"
     ]
    }
   ],
   "source": [
    "model = tf.keras.models.load_model(\n",
    "    './cartpole_system_model', custom_objects=None, compile=True, options=None\n",
    ")"
   ]
  },
  {
   "cell_type": "code",
   "execution_count": 3,
   "id": "8df9cfc4",
   "metadata": {},
   "outputs": [
    {
     "name": "stdout",
     "output_type": "stream",
     "text": [
      "[array([[ 1.0000035e+00, -1.2942681e-05, -2.3801964e-05,  1.6305943e-03],\n",
      "       [ 2.0008639e-02,  9.9992085e-01, -2.6311722e-05, -9.5092575e-04],\n",
      "       [-8.2056704e-07, -1.3424688e-02,  1.0000260e+00,  3.1254122e-01],\n",
      "       [-4.4493249e-06, -5.0352475e-05,  2.0024499e-02,  9.9951327e-01]],\n",
      "      dtype=float32)]\n",
      "[array([[ 6.6651064e-06,  1.9508155e-01, -1.1186228e-05, -2.9142728e-01]],\n",
      "      dtype=float32)]\n"
     ]
    }
   ],
   "source": [
    "np_weights = model.get_weights()\n",
    "print(model.A.get_weights())\n",
    "print(model.B.get_weights())"
   ]
  },
  {
   "cell_type": "code",
   "execution_count": 4,
   "id": "ae63602b",
   "metadata": {},
   "outputs": [
    {
     "name": "stdout",
     "output_type": "stream",
     "text": [
      "A Matrix\n",
      "[[ 1.0000035e+00 -1.2942681e-05 -2.3801964e-05  1.6305943e-03]\n",
      " [ 2.0008639e-02  9.9992085e-01 -2.6311722e-05 -9.5092575e-04]\n",
      " [-8.2056704e-07 -1.3424688e-02  1.0000260e+00  3.1254122e-01]\n",
      " [-4.4493249e-06 -5.0352475e-05  2.0024499e-02  9.9951327e-01]]\n",
      "B Matrix\n",
      "[[ 6.6651064e-06]\n",
      " [ 1.9508155e-01]\n",
      " [-1.1186228e-05]\n",
      " [-2.9142728e-01]]\n"
     ]
    }
   ],
   "source": [
    "A = np_weights[0]\n",
    "B = np_weights[1].T\n",
    "print(\"A Matrix\")\n",
    "print(A)\n",
    "print(\"B Matrix\")\n",
    "print(B)"
   ]
  },
  {
   "cell_type": "markdown",
   "id": "634dae0c",
   "metadata": {},
   "source": [
    "## Controllability"
   ]
  },
  {
   "cell_type": "code",
   "execution_count": 5,
   "id": "95b2a3eb",
   "metadata": {},
   "outputs": [
    {
     "name": "stdout",
     "output_type": "stream",
     "text": [
      "[[ 1.00000000e+00  0.00000000e+00  0.00000000e+00  0.00000000e+00]\n",
      " [ 3.83842859e-05  1.00000000e+00  0.00000000e+00  0.00000000e+00]\n",
      " [-6.69400421e-01 -3.73572422e-03  1.00000000e+00  0.00000000e+00]\n",
      " [-2.28705642e-05  5.09830605e-03 -1.75525639e-03  1.00000000e+00]]\n",
      "[[-2.91427284e-01 -2.91295484e-01 -2.93040094e-01 -2.96659494e-01]\n",
      " [ 0.00000000e+00 -9.37019523e-02 -1.87368589e-01 -2.81586268e-01]\n",
      " [ 0.00000000e+00  0.00000000e+00 -1.26317676e-03 -3.78880392e-03]\n",
      " [ 0.00000000e+00  0.00000000e+00  0.00000000e+00 -6.96584977e-08]]\n"
     ]
    }
   ],
   "source": [
    "# controllability matrix\n",
    "C_matrix = control.ctrb(A, B)\n",
    "\n",
    "# obtain rank via LU decomposition\n",
    "_, L_matrix, U_matrix = lu(C_matrix, permute_l = False)\n",
    "\n",
    "print(L_matrix)\n",
    "print(U_matrix)"
   ]
  },
  {
   "cell_type": "markdown",
   "id": "9f8d5f38",
   "metadata": {},
   "source": [
    "The controllability matrix is fully-ranked column-wise."
   ]
  },
  {
   "cell_type": "markdown",
   "id": "a193d5e9",
   "metadata": {},
   "source": [
    "## Controllability Gramian"
   ]
  },
  {
   "cell_type": "code",
   "execution_count": 6,
   "id": "beb45a4b",
   "metadata": {
    "scrolled": true
   },
   "outputs": [
    {
     "name": "stdout",
     "output_type": "stream",
     "text": [
      "[[ 3.14029469e-06 -5.54363903e-04  6.21971564e-04  8.34514749e-04]\n",
      " [-5.54363903e-04  1.52830488e-01 -1.10109620e-01 -2.29172671e-01]\n",
      " [ 6.21971564e-04 -1.10109620e-01  1.23190594e-01  1.65749896e-01]\n",
      " [ 8.34514749e-04 -2.29172671e-01  1.65749896e-01  3.43662274e-01]]\n",
      "Eigenvalue:  0\n",
      "0.5826697169407788\n",
      "Eigenvector\n",
      "[0.00200205 0.00466293 0.99998485 0.00213298]\n",
      "Eigenvalue:  1\n",
      "0.03701567940873113\n",
      "Eigenvector\n",
      "[-0.50891785  0.22773799  0.00172766 -0.83014158]\n",
      "Eigenvalue:  2\n",
      "2.4474805252676195e-16\n",
      "Eigenvector\n",
      "[ 0.39741134  0.91759083 -0.00509163  0.00808509]\n",
      "Eigenvalue:  3\n",
      "1.0999789443842272e-06\n",
      "Eigenvector\n",
      "[ 0.76358552 -0.32579247  0.00117955 -0.55748994]\n"
     ]
    }
   ],
   "source": [
    "# gramian can be derived from the controllability matrix\n",
    "W_c = np.matmul(C_matrix, C_matrix.T)\n",
    "print(W_c)\n",
    "\n",
    "lambda_wc, xi_wc = np.linalg.eig(W_c)\n",
    "for i in range(len(lambda_wc)):\n",
    "    print(\"Eigenvalue: \", i)\n",
    "    print(lambda_wc[i])\n",
    "    print(\"Eigenvector\")\n",
    "    print(xi_wc[i])"
   ]
  },
  {
   "cell_type": "markdown",
   "id": "9e64910e",
   "metadata": {},
   "source": [
    "Looking at the eigenvalues of the controllable gramian, we can see that, as expected, the pole's angle and angular velocities are less controllable compared to the cart's position and velocity."
   ]
  },
  {
   "cell_type": "code",
   "execution_count": 7,
   "id": "ef1b67b4",
   "metadata": {},
   "outputs": [],
   "source": [
    "def gramian_2d_ellipse(eig_x, eig_y, eig_vec_x, eig_vec_y):\n",
    "    t = np.linspace(0, 2 * math.pi, 100)\n",
    "    gramian = np.array([eig_x * np.cos(t), eig_y * np.sin(t)])\n",
    "    gramian_angle = np.angle(complex(eig_vec_x, eig_vec_y))\n",
    "    gramian_rotation = np.array([\n",
    "        [np.cos(gramian_angle), - np.sin(gramian_angle)],\n",
    "        [np.sin(gramian_angle), np.cos(gramian_angle)],\n",
    "        ])\n",
    "    gramian = np.matmul(gramian_rotation, gramian)\n",
    "    return gramian"
   ]
  },
  {
   "cell_type": "markdown",
   "id": "f3741d8c",
   "metadata": {},
   "source": [
    "### Cart Position and Velocity"
   ]
  },
  {
   "cell_type": "code",
   "execution_count": 8,
   "id": "2d9f4f20",
   "metadata": {},
   "outputs": [],
   "source": [
    "cart_gramian_ellipse = gramian_2d_ellipse(lambda_wc[0], lambda_wc[1], xi_wc[0][0], xi_wc[0][1])"
   ]
  },
  {
   "cell_type": "code",
   "execution_count": 9,
   "id": "ae2cb4c6",
   "metadata": {},
   "outputs": [
    {
     "data": {
      "image/png": "[encoded data removed]",
      "text/plain": [
       "<Figure size 432x288 with 1 Axes>"
      ]
     },
     "metadata": {
      "needs_background": "light"
     },
     "output_type": "display_data"
    }
   ],
   "source": [
    "plt.plot(cart_gramian_ellipse[0], cart_gramian_ellipse[1])\n",
    "plt.xlabel(\"Cart Position\")\n",
    "plt.ylabel(\"Cart Velocity\")\n",
    "plt.show()"
   ]
  },
  {
   "cell_type": "markdown",
   "id": "14995140",
   "metadata": {},
   "source": [
    "### Pole Angle and Angular Velocity"
   ]
  },
  {
   "cell_type": "code",
   "execution_count": 10,
   "id": "c7cf8d73",
   "metadata": {},
   "outputs": [],
   "source": [
    "pole_gramian_ellipse = gramian_2d_ellipse(lambda_wc[2], lambda_wc[3], xi_wc[2][0], xi_wc[2][1])"
   ]
  },
  {
   "cell_type": "code",
   "execution_count": 11,
   "id": "ae55aac9",
   "metadata": {},
   "outputs": [
    {
     "data": {
      "image/png": "[encoded data removed]",
      "text/plain": [
       "<Figure size 432x288 with 1 Axes>"
      ]
     },
     "metadata": {
      "needs_background": "light"
     },
     "output_type": "display_data"
    }
   ],
   "source": [
    "plt.plot(pole_gramian_ellipse[0], pole_gramian_ellipse[1])\n",
    "plt.xlabel(\"Pole Angle\")\n",
    "plt.ylabel(\"Pole Angular Velocity\")\n",
    "plt.show()"
   ]
  }
 ],
 "metadata": {
  "kernelspec": {
   "display_name": "Python 3 (ipykernel)",
   "language": "python",
   "name": "python3"
  },
  "language_info": {
   "codemirror_mode": {
    "name": "ipython",
    "version": 3
   },
   "file_extension": ".py",
   "mimetype": "text/x-python",
   "name": "python",
   "nbconvert_exporter": "python",
   "pygments_lexer": "ipython3",
   "version": "3.8.12"
  }
 },
 "nbformat": 4,
 "nbformat_minor": 5
}
