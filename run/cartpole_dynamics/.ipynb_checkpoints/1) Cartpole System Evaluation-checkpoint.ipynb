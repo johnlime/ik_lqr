{
 "cells": [
  {
   "cell_type": "markdown",
   "id": "29e460cd",
   "metadata": {},
   "source": [
    "# 1. Cartpole System Evaluation"
   ]
  },
  {
   "cell_type": "code",
   "execution_count": 34,
   "id": "af15a131",
   "metadata": {},
   "outputs": [],
   "source": [
    "import gym\n",
    "import tensorflow as tf\n",
    "import numpy as np\n",
    "import pickle\n",
    "\n",
    "import control\n",
    "from scipy.linalg import lu\n",
    "import math\n",
    "import cmath\n",
    "\n",
    "import matplotlib.pyplot as plt\n",
    "%matplotlib inline"
   ]
  },
  {
   "cell_type": "code",
   "execution_count": 2,
   "id": "6c1f081d",
   "metadata": {},
   "outputs": [
    {
     "name": "stderr",
     "output_type": "stream",
     "text": [
      "2022-04-10 12:25:41.081053: I tensorflow/core/platform/cpu_feature_guard.cc:151] This TensorFlow binary is optimized with oneAPI Deep Neural Network Library (oneDNN) to use the following CPU instructions in performance-critical operations:  SSE4.1 SSE4.2 AVX AVX2 FMA\n",
      "To enable them in other operations, rebuild TensorFlow with the appropriate compiler flags.\n"
     ]
    }
   ],
   "source": [
    "model = tf.keras.models.load_model(\n",
    "    './cartpole_system_model', custom_objects=None, compile=True, options=None\n",
    ")"
   ]
  },
  {
   "cell_type": "code",
   "execution_count": 3,
   "id": "8df9cfc4",
   "metadata": {},
   "outputs": [
    {
     "name": "stdout",
     "output_type": "stream",
     "text": [
      "[array([[ 1.0000035e+00, -1.2942681e-05, -2.3801964e-05,  1.6305943e-03],\n",
      "       [ 2.0008639e-02,  9.9992085e-01, -2.6311722e-05, -9.5092575e-04],\n",
      "       [-8.2056704e-07, -1.3424688e-02,  1.0000260e+00,  3.1254122e-01],\n",
      "       [-4.4493249e-06, -5.0352475e-05,  2.0024499e-02,  9.9951327e-01]],\n",
      "      dtype=float32)]\n",
      "[array([[ 6.6651064e-06,  1.9508155e-01, -1.1186228e-05, -2.9142728e-01]],\n",
      "      dtype=float32)]\n"
     ]
    }
   ],
   "source": [
    "np_weights = model.get_weights()\n",
    "print(model.A.get_weights())\n",
    "print(model.B.get_weights())"
   ]
  },
  {
   "cell_type": "code",
   "execution_count": 4,
   "id": "ae63602b",
   "metadata": {},
   "outputs": [
    {
     "name": "stdout",
     "output_type": "stream",
     "text": [
      "A Matrix\n",
      "[[ 1.0000035e+00 -1.2942681e-05 -2.3801964e-05  1.6305943e-03]\n",
      " [ 2.0008639e-02  9.9992085e-01 -2.6311722e-05 -9.5092575e-04]\n",
      " [-8.2056704e-07 -1.3424688e-02  1.0000260e+00  3.1254122e-01]\n",
      " [-4.4493249e-06 -5.0352475e-05  2.0024499e-02  9.9951327e-01]]\n",
      "B Matrix\n",
      "[[ 6.6651064e-06]\n",
      " [ 1.9508155e-01]\n",
      " [-1.1186228e-05]\n",
      " [-2.9142728e-01]]\n"
     ]
    }
   ],
   "source": [
    "A = np_weights[0]\n",
    "B = np_weights[1].T\n",
    "print(\"A Matrix\")\n",
    "print(A)\n",
    "print(\"B Matrix\")\n",
    "print(B)"
   ]
  },
  {
   "cell_type": "markdown",
   "id": "4fa8a66e",
   "metadata": {},
   "source": [
    "## Controllability"
   ]
  },
  {
   "cell_type": "code",
   "execution_count": 10,
   "id": "bf760474",
   "metadata": {},
   "outputs": [
    {
     "name": "stdout",
     "output_type": "stream",
     "text": [
      "[[ 1.00000000e+00  0.00000000e+00  0.00000000e+00  0.00000000e+00]\n",
      " [ 3.83842859e-05  1.00000000e+00  0.00000000e+00  0.00000000e+00]\n",
      " [-6.69400421e-01 -3.73572422e-03  1.00000000e+00  0.00000000e+00]\n",
      " [-2.28705642e-05  5.09830605e-03 -1.75525639e-03  1.00000000e+00]]\n",
      "[[-2.91427284e-01 -2.91295484e-01 -2.93040094e-01 -2.96659494e-01]\n",
      " [ 0.00000000e+00 -9.37019523e-02 -1.87368589e-01 -2.81586268e-01]\n",
      " [ 0.00000000e+00  0.00000000e+00 -1.26317676e-03 -3.78880392e-03]\n",
      " [ 0.00000000e+00  0.00000000e+00  0.00000000e+00 -6.96584977e-08]]\n"
     ]
    }
   ],
   "source": [
    "# controllability matrix\n",
    "C_matrix = control.ctrb(A, B)\n",
    "\n",
    "# obtain rank via LU decomposition\n",
    "_, L_matrix, U_matrix = lu(C_matrix, permute_l = False)\n",
    "\n",
    "print(L_matrix)\n",
    "print(U_matrix)"
   ]
  },
  {
   "cell_type": "markdown",
   "id": "bbf497d7",
   "metadata": {},
   "source": [
    "The controllability matrix is fully-ranked column-wise."
   ]
  },
  {
   "cell_type": "markdown",
   "id": "ad1ef47b",
   "metadata": {},
   "source": [
    "## Controllability Gramian"
   ]
  },
  {
   "cell_type": "code",
   "execution_count": 15,
   "id": "beb45a4b",
   "metadata": {
    "scrolled": true
   },
   "outputs": [
    {
     "name": "stdout",
     "output_type": "stream",
     "text": [
      "[[ 3.14029469e-06 -5.54363903e-04  6.21971564e-04  8.34514749e-04]\n",
      " [-5.54363903e-04  1.52830488e-01 -1.10109620e-01 -2.29172671e-01]\n",
      " [ 6.21971564e-04 -1.10109620e-01  1.23190594e-01  1.65749896e-01]\n",
      " [ 8.34514749e-04 -2.29172671e-01  1.65749896e-01  3.43662274e-01]]\n",
      "Eigenvalue:  0\n",
      "0.5826697169407788\n",
      "Eigenvector\n",
      "[0.00200205 0.00466293 0.99998485 0.00213298]\n",
      "Eigenvalue:  1\n",
      "0.03701567940873113\n",
      "Eigenvector\n",
      "[-0.50891785  0.22773799  0.00172766 -0.83014158]\n",
      "Eigenvalue:  2\n",
      "2.4474805252676195e-16\n",
      "Eigenvector\n",
      "[ 0.39741134  0.91759083 -0.00509163  0.00808509]\n",
      "Eigenvalue:  3\n",
      "1.0999789443842272e-06\n",
      "Eigenvector\n",
      "[ 0.76358552 -0.32579247  0.00117955 -0.55748994]\n"
     ]
    }
   ],
   "source": [
    "# gramian can be derived from the controllability matrix\n",
    "W_c = np.matmul(C_matrix, C_matrix.T)\n",
    "print(W_c)\n",
    "\n",
    "lambda_wc, xi_wc = np.linalg.eig(W_c)\n",
    "for i in range(len(lambda_wc)):\n",
    "    print(\"Eigenvalue: \", i)\n",
    "    print(lambda_wc[i])\n",
    "    print(\"Eigenvector\")\n",
    "    print(xi_wc[i])"
   ]
  },
  {
   "cell_type": "markdown",
   "id": "411d3dbe",
   "metadata": {},
   "source": [
    "Looking at the eigenvalues of the controllable gramian, we can see that, as expected, the pole's angle and angular velocities are less controllable compared to the cart's position and velocity."
   ]
  },
  {
   "cell_type": "markdown",
   "id": "bfbc93db",
   "metadata": {},
   "source": [
    "### Pole Position and Velocity"
   ]
  },
  {
   "cell_type": "code",
   "execution_count": 35,
   "id": "4ca2ba1d",
   "metadata": {},
   "outputs": [
    {
     "name": "stdout",
     "output_type": "stream",
     "text": [
      "[[ 5.82669717e-01  5.81496614e-01  5.77982030e-01  5.72140116e-01\n",
      "   5.63994396e-01  5.53577669e-01  5.40931881e-01  5.26107950e-01\n",
      "   5.09165569e-01  4.90172958e-01  4.69206593e-01  4.46350899e-01\n",
      "   4.21697907e-01  3.95346887e-01  3.67403944e-01  3.37981595e-01\n",
      "   3.07198314e-01  2.75178053e-01  2.42049748e-01  2.07946794e-01\n",
      "   1.73006511e-01  1.37369592e-01  1.01179535e-01  6.45820626e-02\n",
      "   2.77245414e-02 -9.24461666e-03 -4.61765499e-02 -8.29225465e-02\n",
      "  -1.19334643e-01 -1.55266222e-01 -1.90572598e-01 -2.25111605e-01\n",
      "  -2.58744167e-01 -2.91334858e-01 -3.22752447e-01 -3.52870425e-01\n",
      "  -3.81567518e-01 -4.08728174e-01 -4.34243026e-01 -4.58009334e-01\n",
      "  -4.79931401e-01 -4.99920953e-01 -5.17897499e-01 -5.33788656e-01\n",
      "  -5.47530433e-01 -5.59067499e-01 -5.68353398e-01 -5.75350738e-01\n",
      "  -5.80031343e-01 -5.82376367e-01 -5.82376367e-01 -5.80031343e-01\n",
      "  -5.75350738e-01 -5.68353398e-01 -5.59067499e-01 -5.47530433e-01\n",
      "  -5.33788656e-01 -5.17897499e-01 -4.99920953e-01 -4.79931401e-01\n",
      "  -4.58009334e-01 -4.34243026e-01 -4.08728174e-01 -3.81567518e-01\n",
      "  -3.52870425e-01 -3.22752447e-01 -2.91334858e-01 -2.58744167e-01\n",
      "  -2.25111605e-01 -1.90572598e-01 -1.55266222e-01 -1.19334643e-01\n",
      "  -8.29225465e-02 -4.61765499e-02 -9.24461666e-03  2.77245414e-02\n",
      "   6.45820626e-02  1.01179535e-01  1.37369592e-01  1.73006511e-01\n",
      "   2.07946794e-01  2.42049748e-01  2.75178053e-01  3.07198314e-01\n",
      "   3.37981595e-01  3.67403944e-01  3.95346887e-01  4.21697907e-01\n",
      "   4.46350899e-01  4.69206593e-01  4.90172958e-01  5.09165569e-01\n",
      "   5.26107950e-01  5.40931881e-01  5.53577669e-01  5.63994396e-01\n",
      "   5.72140116e-01  5.77982030e-01  5.81496614e-01  5.82669717e-01]\n",
      " [ 0.00000000e+00  2.34767948e-03  4.68590568e-03  7.00526339e-03\n",
      "   9.29641338e-03  1.15501300e-02  1.37573383e-02  1.59091507e-02\n",
      "   1.79969025e-02  2.00121872e-02  2.19468898e-02  2.37932201e-02\n",
      "   2.55437435e-02  2.71914112e-02  2.87295887e-02  3.01520823e-02\n",
      "   3.14531641e-02  3.26275951e-02  3.36706463e-02  3.45781177e-02\n",
      "   3.53463552e-02  3.59722655e-02  3.64533281e-02  3.67876060e-02\n",
      "   3.69737532e-02  3.70110202e-02  3.68992568e-02  3.66389132e-02\n",
      "   3.62310376e-02  3.56772723e-02  3.49798473e-02  3.41415709e-02\n",
      "   3.31658183e-02  3.20565187e-02  3.08181388e-02  2.94556652e-02\n",
      "   2.79745840e-02  2.63808590e-02  2.46809076e-02  2.28815749e-02\n",
      "   2.09901061e-02  1.90141176e-02  1.69615660e-02  1.48407162e-02\n",
      "   1.26601080e-02  1.04285220e-02  8.15494405e-03  5.84852902e-03\n",
      "   3.51856402e-03  1.17443101e-03 -1.17443101e-03 -3.51856402e-03\n",
      "  -5.84852902e-03 -8.15494405e-03 -1.04285220e-02 -1.26601080e-02\n",
      "  -1.48407162e-02 -1.69615660e-02 -1.90141176e-02 -2.09901061e-02\n",
      "  -2.28815749e-02 -2.46809076e-02 -2.63808590e-02 -2.79745840e-02\n",
      "  -2.94556652e-02 -3.08181388e-02 -3.20565187e-02 -3.31658183e-02\n",
      "  -3.41415709e-02 -3.49798473e-02 -3.56772723e-02 -3.62310376e-02\n",
      "  -3.66389132e-02 -3.68992568e-02 -3.70110202e-02 -3.69737532e-02\n",
      "  -3.67876060e-02 -3.64533281e-02 -3.59722655e-02 -3.53463552e-02\n",
      "  -3.45781177e-02 -3.36706463e-02 -3.26275951e-02 -3.14531641e-02\n",
      "  -3.01520823e-02 -2.87295887e-02 -2.71914112e-02 -2.55437435e-02\n",
      "  -2.37932201e-02 -2.19468898e-02 -2.00121872e-02 -1.79969025e-02\n",
      "  -1.59091507e-02 -1.37573383e-02 -1.15501300e-02 -9.29641338e-03\n",
      "  -7.00526339e-03 -4.68590568e-03 -2.34767948e-03 -9.06622666e-18]]\n",
      "[[ 0.39452676 -0.91888445]\n",
      " [ 0.91888445  0.39452676]]\n"
     ]
    }
   ],
   "source": [
    "t = np.linspace(0, 2 * math.pi, 100)\n",
    "pole_gramian = np.array([lambda_wc[0] * np.cos(t), lambda_wc[1] * np.sin(t)])\n",
    "pole_gramian_angle = np.angle(complex(xi_wc[0][0], xi_wc[0][1]))\n",
    "pole_gramian_rotation = np.array([\n",
    "    [np.cos(pole_gramian_angle), - np.sin(pole_gramian_angle)],\n",
    "    [np.sin(pole_gramian_angle), np.cos(pole_gramian_angle)],\n",
    "    ])\n",
    "pole_gramian = np.matmul(pole_gramian_rotation, pole_gramian)"
   ]
  },
  {
   "cell_type": "code",
   "execution_count": 20,
   "id": "7bf200bb",
   "metadata": {},
   "outputs": [
    {
     "data": {
      "text/plain": [
       "4.718447854656915e-16"
      ]
     },
     "execution_count": 20,
     "metadata": {},
     "output_type": "execute_result"
    }
   ],
   "source": []
  },
  {
   "cell_type": "code",
   "execution_count": null,
   "id": "88e476cb",
   "metadata": {},
   "outputs": [],
   "source": []
  }
 ],
 "metadata": {
  "kernelspec": {
   "display_name": "Python 3 (ipykernel)",
   "language": "python",
   "name": "python3"
  },
  "language_info": {
   "codemirror_mode": {
    "name": "ipython",
    "version": 3
   },
   "file_extension": ".py",
   "mimetype": "text/x-python",
   "name": "python",
   "nbconvert_exporter": "python",
   "pygments_lexer": "ipython3",
   "version": "3.8.12"
  }
 },
 "nbformat": 4,
 "nbformat_minor": 5
}
