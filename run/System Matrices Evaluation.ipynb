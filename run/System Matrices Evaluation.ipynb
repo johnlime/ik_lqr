{
 "cells": [
  {
   "cell_type": "code",
   "execution_count": 32,
   "id": "6116f0ae",
   "metadata": {},
   "outputs": [],
   "source": [
    "import gym\n",
    "import numpy as np\n",
    "import tensorflow as tf\n",
    "import pickle\n",
    "import os\n",
    "from os import path"
   ]
  },
  {
   "cell_type": "code",
   "execution_count": 33,
   "id": "35084d75",
   "metadata": {},
   "outputs": [],
   "source": [
    "model = tf.keras.models.load_model(\n",
    "    './cartpole_system_model', custom_objects=None, compile=True, options=None\n",
    ")"
   ]
  },
  {
   "cell_type": "code",
   "execution_count": 34,
   "id": "7bf8d811",
   "metadata": {},
   "outputs": [
    {
     "name": "stdout",
     "output_type": "stream",
     "text": [
      "[array([[ 1.00000298e+00,  1.03474304e-01, -6.81955644e-05,\n",
      "        -1.53411880e-01],\n",
      "       [ 2.00001802e-02,  9.95905221e-01, -1.23909122e-05,\n",
      "         6.26267958e-03],\n",
      "       [-5.69764438e-07, -5.87693080e-02,  1.00003278e+00,\n",
      "         3.81267816e-01],\n",
      "       [ 3.71733137e-07, -1.13821297e-03,  2.00367365e-02,\n",
      "         1.00111854e+00]], dtype=float32)]\n",
      "[array([[-2.2487126e-07,  1.9629727e-01,  2.1716911e-05, -2.9252878e-01]],\n",
      "      dtype=float32)]\n"
     ]
    }
   ],
   "source": [
    "np_weights = model.get_weights()\n",
    "print(model.A.get_weights())\n",
    "print(model.B.get_weights())"
   ]
  },
  {
   "cell_type": "code",
   "execution_count": 37,
   "id": "84fea393",
   "metadata": {},
   "outputs": [
    {
     "name": "stdout",
     "output_type": "stream",
     "text": [
      "A Matrix\n",
      "[[ 1.00000298e+00  1.03474304e-01 -6.81955644e-05 -1.53411880e-01]\n",
      " [ 2.00001802e-02  9.95905221e-01 -1.23909122e-05  6.26267958e-03]\n",
      " [-5.69764438e-07 -5.87693080e-02  1.00003278e+00  3.81267816e-01]\n",
      " [ 3.71733137e-07 -1.13821297e-03  2.00367365e-02  1.00111854e+00]]\n",
      "B Matrix\n",
      "[[-2.2487126e-07]\n",
      " [ 1.9629727e-01]\n",
      " [ 2.1716911e-05]\n",
      " [-2.9252878e-01]]\n"
     ]
    }
   ],
   "source": [
    "print(\"A Matrix\")\n",
    "print(np_weights[0])\n",
    "print(\"B Matrix\")\n",
    "print(np_weights[1].T)"
   ]
  },
  {
   "cell_type": "code",
   "execution_count": null,
   "id": "e09bb3f6",
   "metadata": {},
   "outputs": [],
   "source": []
  }
 ],
 "metadata": {
  "kernelspec": {
   "display_name": "Python 3 (ipykernel)",
   "language": "python",
   "name": "python3"
  },
  "language_info": {
   "codemirror_mode": {
    "name": "ipython",
    "version": 3
   },
   "file_extension": ".py",
   "mimetype": "text/x-python",
   "name": "python",
   "nbconvert_exporter": "python",
   "pygments_lexer": "ipython3",
   "version": "3.8.12"
  }
 },
 "nbformat": 4,
 "nbformat_minor": 5
}
