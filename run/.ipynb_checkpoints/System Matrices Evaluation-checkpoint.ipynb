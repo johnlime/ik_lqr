{
 "cells": [
  {
   "cell_type": "code",
   "execution_count": 1,
   "id": "6116f0ae",
   "metadata": {},
   "outputs": [],
   "source": [
    "import gym\n",
    "import numpy as np\n",
    "import tensorflow as tf\n",
    "import pickle\n",
    "import os\n",
    "from os import path"
   ]
  },
  {
   "cell_type": "code",
   "execution_count": 2,
   "id": "35084d75",
   "metadata": {},
   "outputs": [
    {
     "name": "stderr",
     "output_type": "stream",
     "text": [
      "2022-03-10 08:51:18.305700: I tensorflow/core/platform/cpu_feature_guard.cc:151] This TensorFlow binary is optimized with oneAPI Deep Neural Network Library (oneDNN) to use the following CPU instructions in performance-critical operations:  SSE4.1 SSE4.2 AVX AVX2 FMA\n",
      "To enable them in other operations, rebuild TensorFlow with the appropriate compiler flags.\n"
     ]
    }
   ],
   "source": [
    "model = tf.keras.models.load_model(\n",
    "    './cartpole_system_model', custom_objects=None, compile=True, options=None\n",
    ")"
   ]
  },
  {
   "cell_type": "code",
   "execution_count": 6,
   "id": "7bf8d811",
   "metadata": {},
   "outputs": [
    {
     "name": "stdout",
     "output_type": "stream",
     "text": [
      "[array([[ 0.9248389 ,  0.50807655, -0.13568638,  0.23905176],\n",
      "       [ 0.06506144,  0.50349087,  0.08545925, -0.75586605],\n",
      "       [-0.13493538,  0.82650167,  0.7027278 ,  1.3792988 ],\n",
      "       [ 0.03512419, -0.3653296 ,  0.09017479,  0.44217753]],\n",
      "      dtype=float32)]\n",
      "[array([[-9.2811701e-05,  1.9885701e-01,  1.7286059e-04, -2.8716338e-01]],\n",
      "      dtype=float32)]\n"
     ]
    }
   ],
   "source": [
    "np_weights = model.get_weights()\n",
    "print(model.A.get_weights())\n",
    "print(model.B.get_weights())"
   ]
  },
  {
   "cell_type": "code",
   "execution_count": 8,
   "id": "84fea393",
   "metadata": {},
   "outputs": [
    {
     "name": "stdout",
     "output_type": "stream",
     "text": [
      "A Matrix\n",
      "[[ 0.9248389   0.50807655 -0.13568638  0.23905176]\n",
      " [ 0.06506144  0.50349087  0.08545925 -0.75586605]\n",
      " [-0.13493538  0.82650167  0.7027278   1.3792988 ]\n",
      " [ 0.03512419 -0.3653296   0.09017479  0.44217753]]\n",
      "B Matrix\n",
      "[[-9.2811701e-05]\n",
      " [ 1.9885701e-01]\n",
      " [ 1.7286059e-04]\n",
      " [-2.8716338e-01]]\n"
     ]
    }
   ],
   "source": [
    "print(\"A Matrix\")\n",
    "print(np_weights[0])\n",
    "print(\"B Matrix\")\n",
    "print(np_weights[1].T)"
   ]
  },
  {
   "cell_type": "code",
   "execution_count": null,
   "id": "77fdb5e0",
   "metadata": {},
   "outputs": [],
   "source": []
  }
 ],
 "metadata": {
  "kernelspec": {
   "display_name": "Python 3 (ipykernel)",
   "language": "python",
   "name": "python3"
  },
  "language_info": {
   "codemirror_mode": {
    "name": "ipython",
    "version": 3
   },
   "file_extension": ".py",
   "mimetype": "text/x-python",
   "name": "python",
   "nbconvert_exporter": "python",
   "pygments_lexer": "ipython3",
   "version": "3.8.12"
  }
 },
 "nbformat": 4,
 "nbformat_minor": 5
}
