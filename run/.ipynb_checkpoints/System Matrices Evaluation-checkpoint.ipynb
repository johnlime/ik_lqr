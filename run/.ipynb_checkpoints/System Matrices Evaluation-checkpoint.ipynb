{
 "cells": [
  {
   "cell_type": "code",
   "execution_count": 1,
   "id": "6116f0ae",
   "metadata": {},
   "outputs": [],
   "source": [
    "import gym\n",
    "import numpy as np\n",
    "import tensorflow as tf\n",
    "import pickle\n",
    "import os\n",
    "from os import path"
   ]
  },
  {
   "cell_type": "code",
   "execution_count": 2,
   "id": "35084d75",
   "metadata": {},
   "outputs": [
    {
     "name": "stderr",
     "output_type": "stream",
     "text": [
      "2022-03-10 08:51:18.305700: I tensorflow/core/platform/cpu_feature_guard.cc:151] This TensorFlow binary is optimized with oneAPI Deep Neural Network Library (oneDNN) to use the following CPU instructions in performance-critical operations:  SSE4.1 SSE4.2 AVX AVX2 FMA\n",
      "To enable them in other operations, rebuild TensorFlow with the appropriate compiler flags.\n"
     ]
    }
   ],
   "source": [
    "model = tf.keras.models.load_model(\n",
    "    './cartpole_system_model', custom_objects=None, compile=True, options=None\n",
    ")"
   ]
  },
  {
   "cell_type": "code",
   "execution_count": 6,
   "id": "7bf8d811",
   "metadata": {},
   "outputs": [
    {
     "name": "stdout",
     "output_type": "stream",
     "text": [
      "[array([[ 0.9248389 ,  0.50807655, -0.13568638,  0.23905176],\n",
      "       [ 0.06506144,  0.50349087,  0.08545925, -0.75586605],\n",
      "       [-0.13493538,  0.82650167,  0.7027278 ,  1.3792988 ],\n",
      "       [ 0.03512419, -0.3653296 ,  0.09017479,  0.44217753]],\n",
      "      dtype=float32)]\n",
      "[array([[-9.2811701e-05,  1.9885701e-01,  1.7286059e-04, -2.8716338e-01]],\n",
      "      dtype=float32)]\n"
     ]
    }
   ],
   "source": [
    "np_weights = model.get_weights()\n",
    "print(model.A.get_weights())\n",
    "print(model.B.get_weights())"
   ]
  },
  {
   "cell_type": "code",
   "execution_count": 8,
   "id": "84fea393",
   "metadata": {},
   "outputs": [
    {
     "name": "stdout",
     "output_type": "stream",
     "text": [
      "A Matrix\n",
      "[[ 0.9248389   0.50807655 -0.13568638  0.23905176]\n",
      " [ 0.06506144  0.50349087  0.08545925 -0.75586605]\n",
      " [-0.13493538  0.82650167  0.7027278   1.3792988 ]\n",
      " [ 0.03512419 -0.3653296   0.09017479  0.44217753]]\n",
      "B Matrix\n",
      "[[-9.2811701e-05]\n",
      " [ 1.9885701e-01]\n",
      " [ 1.7286059e-04]\n",
      " [-2.8716338e-01]]\n"
     ]
    }
   ],
   "source": [
    "print(\"A Matrix\")\n",
    "print(np_weights[0])\n",
    "print(\"B Matrix\")\n",
    "print(np_weights[1].T)"
   ]
  },
  {
   "cell_type": "code",
   "execution_count": 31,
   "id": "2ea505be",
   "metadata": {},
   "outputs": [
    {
     "ename": "NotFoundError",
     "evalue": "./cartpole_system_model/dataset_testing/dataset_spec.pb; No such file or directory",
     "output_type": "error",
     "traceback": [
      "\u001b[0;31m---------------------------------------------------------------------------\u001b[0m",
      "\u001b[0;31mNotFoundError\u001b[0m                             Traceback (most recent call last)",
      "\u001b[0;32m/var/folders/z9/d3462rf1391bntsj4j_8rn_h0000gn/T/ipykernel_1464/138580489.py\u001b[0m in \u001b[0;36m<cell line: 1>\u001b[0;34m()\u001b[0m\n\u001b[0;32m----> 1\u001b[0;31m \u001b[0mdataset_testing\u001b[0m \u001b[0;34m=\u001b[0m \u001b[0mtf\u001b[0m\u001b[0;34m.\u001b[0m\u001b[0mdata\u001b[0m\u001b[0;34m.\u001b[0m\u001b[0mexperimental\u001b[0m\u001b[0;34m.\u001b[0m\u001b[0mload\u001b[0m\u001b[0;34m(\u001b[0m\u001b[0;34m'./cartpole_system_model/dataset_testing'\u001b[0m\u001b[0;34m)\u001b[0m\u001b[0;34m\u001b[0m\u001b[0;34m\u001b[0m\u001b[0m\n\u001b[0m\u001b[1;32m      2\u001b[0m \u001b[0mprint\u001b[0m\u001b[0;34m(\u001b[0m\u001b[0mdataset_testing\u001b[0m\u001b[0;34m)\u001b[0m\u001b[0;34m\u001b[0m\u001b[0;34m\u001b[0m\u001b[0m\n",
      "\u001b[0;32m~/anaconda3/lib/python3.8/site-packages/tensorflow/python/data/experimental/ops/io.py\u001b[0m in \u001b[0;36mload\u001b[0;34m(path, element_spec, compression, reader_func)\u001b[0m\n\u001b[1;32m    307\u001b[0m   \"\"\"\n\u001b[1;32m    308\u001b[0m \u001b[0;34m\u001b[0m\u001b[0m\n\u001b[0;32m--> 309\u001b[0;31m   return _LoadDataset(\n\u001b[0m\u001b[1;32m    310\u001b[0m       \u001b[0mpath\u001b[0m\u001b[0;34m=\u001b[0m\u001b[0mpath\u001b[0m\u001b[0;34m,\u001b[0m\u001b[0;34m\u001b[0m\u001b[0;34m\u001b[0m\u001b[0m\n\u001b[1;32m    311\u001b[0m       \u001b[0melement_spec\u001b[0m\u001b[0;34m=\u001b[0m\u001b[0melement_spec\u001b[0m\u001b[0;34m,\u001b[0m\u001b[0;34m\u001b[0m\u001b[0;34m\u001b[0m\u001b[0m\n",
      "\u001b[0;32m~/anaconda3/lib/python3.8/site-packages/tensorflow/python/data/experimental/ops/io.py\u001b[0m in \u001b[0;36m__init__\u001b[0;34m(self, path, element_spec, compression, reader_func)\u001b[0m\n\u001b[1;32m    215\u001b[0m     \u001b[0;32mif\u001b[0m \u001b[0melement_spec\u001b[0m \u001b[0;32mis\u001b[0m \u001b[0;32mNone\u001b[0m\u001b[0;34m:\u001b[0m\u001b[0;34m\u001b[0m\u001b[0;34m\u001b[0m\u001b[0m\n\u001b[1;32m    216\u001b[0m       \u001b[0;32mwith\u001b[0m \u001b[0mgfile\u001b[0m\u001b[0;34m.\u001b[0m\u001b[0mGFile\u001b[0m\u001b[0;34m(\u001b[0m\u001b[0mos\u001b[0m\u001b[0;34m.\u001b[0m\u001b[0mpath\u001b[0m\u001b[0;34m.\u001b[0m\u001b[0mjoin\u001b[0m\u001b[0;34m(\u001b[0m\u001b[0mpath\u001b[0m\u001b[0;34m,\u001b[0m \u001b[0mDATASET_SPEC_FILENAME\u001b[0m\u001b[0;34m)\u001b[0m\u001b[0;34m,\u001b[0m \u001b[0;34m\"rb\"\u001b[0m\u001b[0;34m)\u001b[0m \u001b[0;32mas\u001b[0m \u001b[0mf\u001b[0m\u001b[0;34m:\u001b[0m\u001b[0;34m\u001b[0m\u001b[0;34m\u001b[0m\u001b[0m\n\u001b[0;32m--> 217\u001b[0;31m         \u001b[0mencoded_spec\u001b[0m \u001b[0;34m=\u001b[0m \u001b[0mf\u001b[0m\u001b[0;34m.\u001b[0m\u001b[0mread\u001b[0m\u001b[0;34m(\u001b[0m\u001b[0;34m)\u001b[0m\u001b[0;34m\u001b[0m\u001b[0;34m\u001b[0m\u001b[0m\n\u001b[0m\u001b[1;32m    218\u001b[0m       \u001b[0mstruct_pb\u001b[0m \u001b[0;34m=\u001b[0m \u001b[0mnested_structure_coder\u001b[0m\u001b[0;34m.\u001b[0m\u001b[0mstruct_pb2\u001b[0m\u001b[0;34m.\u001b[0m\u001b[0mStructuredValue\u001b[0m\u001b[0;34m(\u001b[0m\u001b[0;34m)\u001b[0m\u001b[0;34m\u001b[0m\u001b[0;34m\u001b[0m\u001b[0m\n\u001b[1;32m    219\u001b[0m       \u001b[0mstruct_pb\u001b[0m\u001b[0;34m.\u001b[0m\u001b[0mParseFromString\u001b[0m\u001b[0;34m(\u001b[0m\u001b[0mencoded_spec\u001b[0m\u001b[0;34m)\u001b[0m\u001b[0;34m\u001b[0m\u001b[0;34m\u001b[0m\u001b[0m\n",
      "\u001b[0;32m~/anaconda3/lib/python3.8/site-packages/tensorflow/python/lib/io/file_io.py\u001b[0m in \u001b[0;36mread\u001b[0;34m(self, n)\u001b[0m\n\u001b[1;32m    116\u001b[0m       \u001b[0mstring\u001b[0m \u001b[0;32mif\u001b[0m \u001b[0;32min\u001b[0m \u001b[0mstring\u001b[0m \u001b[0;34m(\u001b[0m\u001b[0mregular\u001b[0m\u001b[0;34m)\u001b[0m \u001b[0mmode\u001b[0m\u001b[0;34m.\u001b[0m\u001b[0;34m\u001b[0m\u001b[0;34m\u001b[0m\u001b[0m\n\u001b[1;32m    117\u001b[0m     \"\"\"\n\u001b[0;32m--> 118\u001b[0;31m     \u001b[0mself\u001b[0m\u001b[0;34m.\u001b[0m\u001b[0m_preread_check\u001b[0m\u001b[0;34m(\u001b[0m\u001b[0;34m)\u001b[0m\u001b[0;34m\u001b[0m\u001b[0;34m\u001b[0m\u001b[0m\n\u001b[0m\u001b[1;32m    119\u001b[0m     \u001b[0;32mif\u001b[0m \u001b[0mn\u001b[0m \u001b[0;34m==\u001b[0m \u001b[0;34m-\u001b[0m\u001b[0;36m1\u001b[0m\u001b[0;34m:\u001b[0m\u001b[0;34m\u001b[0m\u001b[0;34m\u001b[0m\u001b[0m\n\u001b[1;32m    120\u001b[0m       \u001b[0mlength\u001b[0m \u001b[0;34m=\u001b[0m \u001b[0mself\u001b[0m\u001b[0;34m.\u001b[0m\u001b[0msize\u001b[0m\u001b[0;34m(\u001b[0m\u001b[0;34m)\u001b[0m \u001b[0;34m-\u001b[0m \u001b[0mself\u001b[0m\u001b[0;34m.\u001b[0m\u001b[0mtell\u001b[0m\u001b[0;34m(\u001b[0m\u001b[0;34m)\u001b[0m\u001b[0;34m\u001b[0m\u001b[0;34m\u001b[0m\u001b[0m\n",
      "\u001b[0;32m~/anaconda3/lib/python3.8/site-packages/tensorflow/python/lib/io/file_io.py\u001b[0m in \u001b[0;36m_preread_check\u001b[0;34m(self)\u001b[0m\n\u001b[1;32m     78\u001b[0m         raise errors.PermissionDeniedError(None, None,\n\u001b[1;32m     79\u001b[0m                                            \"File isn't open for reading\")\n\u001b[0;32m---> 80\u001b[0;31m       self._read_buf = _pywrap_file_io.BufferedInputStream(\n\u001b[0m\u001b[1;32m     81\u001b[0m           compat.path_to_str(self.__name), 1024 * 512)\n\u001b[1;32m     82\u001b[0m \u001b[0;34m\u001b[0m\u001b[0m\n",
      "\u001b[0;31mNotFoundError\u001b[0m: ./cartpole_system_model/dataset_testing/dataset_spec.pb; No such file or directory"
     ]
    }
   ],
   "source": [
    "dataset = tf.data.experimental.load('./cartpole_system_model/dataset')\n",
    "print(dataset_testing)"
   ]
  },
  {
   "cell_type": "code",
   "execution_count": 28,
   "id": "e2d2db49",
   "metadata": {},
   "outputs": [],
   "source": [
    "for x, i in dataset_testing.as_numpy_iterator():\n",
    "    print(x, i)"
   ]
  },
  {
   "cell_type": "code",
   "execution_count": 24,
   "id": "e616e59f",
   "metadata": {},
   "outputs": [
    {
     "name": "stdout",
     "output_type": "stream",
     "text": [
      "[]\n"
     ]
    }
   ],
   "source": [
    "print(list(dataset_testing.as_numpy_iterator()))"
   ]
  },
  {
   "cell_type": "code",
   "execution_count": 29,
   "id": "2d0ede9e",
   "metadata": {},
   "outputs": [
    {
     "name": "stdout",
     "output_type": "stream",
     "text": [
      "<_LoadDataset shapes: (((5000, 4), (5000, 1)), (5000, 4)), types: ((tf.float64, tf.float64), tf.float64)>\n"
     ]
    }
   ],
   "source": [
    "dataset = tf.data.experimental.load('./cartpole_system_model/dataset')\n",
    "print(dataset)"
   ]
  },
  {
   "cell_type": "code",
   "execution_count": 30,
   "id": "fb5a163e",
   "metadata": {},
   "outputs": [
    {
     "name": "stdout",
     "output_type": "stream",
     "text": [
      "(array([[ 0.04120661,  0.02153552, -0.00229906, -0.03755131],\n",
      "       [ 0.04163732, -0.17355339, -0.00305008,  0.25440535],\n",
      "       [ 0.03816625, -0.36863166,  0.00203802,  0.5461247 ],\n",
      "       ...,\n",
      "       [-0.08876514, -0.98013949,  0.20336553,  1.68243563],\n",
      "       [-0.03065345, -0.04290749, -0.04840908,  0.016099  ],\n",
      "       [-0.0315116 , -0.23730297, -0.0480871 ,  0.2931239 ]]), array([[0.],\n",
      "       [0.],\n",
      "       [0.],\n",
      "       ...,\n",
      "       [1.],\n",
      "       [0.],\n",
      "       [1.]])) [[ 0.04163732 -0.17355339 -0.00305008  0.25440535]\n",
      " [ 0.03816625 -0.36863166  0.00203802  0.5461247 ]\n",
      " [ 0.03079361 -0.56378216  0.01296052  0.83944905]\n",
      " ...\n",
      " [-0.10836793 -0.78787047  0.23701425  1.45935357]\n",
      " [-0.0315116  -0.23730297 -0.0480871   0.2931239 ]\n",
      " [-0.03625766 -0.04152957 -0.04222462 -0.01432889]]\n"
     ]
    }
   ],
   "source": [
    "for testig in dataset.as_numpy_iterator():\n",
    "    print(x, i)"
   ]
  },
  {
   "cell_type": "code",
   "execution_count": null,
   "id": "748d0950",
   "metadata": {},
   "outputs": [],
   "source": []
  }
 ],
 "metadata": {
  "kernelspec": {
   "display_name": "Python 3 (ipykernel)",
   "language": "python",
   "name": "python3"
  },
  "language_info": {
   "codemirror_mode": {
    "name": "ipython",
    "version": 3
   },
   "file_extension": ".py",
   "mimetype": "text/x-python",
   "name": "python",
   "nbconvert_exporter": "python",
   "pygments_lexer": "ipython3",
   "version": "3.8.12"
  }
 },
 "nbformat": 4,
 "nbformat_minor": 5
}
