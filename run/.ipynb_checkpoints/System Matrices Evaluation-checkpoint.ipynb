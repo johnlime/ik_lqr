{
 "cells": [
  {
   "cell_type": "code",
   "execution_count": 1,
   "id": "6116f0ae",
   "metadata": {},
   "outputs": [],
   "source": [
    "import gym\n",
    "import numpy as np\n",
    "import tensorflow as tf\n",
    "import pickle\n",
    "import os\n",
    "from os import path"
   ]
  },
  {
   "cell_type": "code",
   "execution_count": 2,
   "id": "35084d75",
   "metadata": {},
   "outputs": [
    {
     "name": "stderr",
     "output_type": "stream",
     "text": [
      "2022-03-08 13:55:42.614163: I tensorflow/core/platform/cpu_feature_guard.cc:151] This TensorFlow binary is optimized with oneAPI Deep Neural Network Library (oneDNN) to use the following CPU instructions in performance-critical operations:  SSE4.1 SSE4.2 AVX AVX2 FMA\n",
      "To enable them in other operations, rebuild TensorFlow with the appropriate compiler flags.\n"
     ]
    }
   ],
   "source": [
    "model = tf.keras.models.load_model(\n",
    "    './cartpole_system_model', custom_objects=None, compile=True, options=None\n",
    ")"
   ]
  },
  {
   "cell_type": "code",
   "execution_count": 6,
   "id": "7bf8d811",
   "metadata": {},
   "outputs": [
    {
     "name": "stdout",
     "output_type": "stream",
     "text": [
      "A Matrix\n",
      "[[ 0.6364069   0.95900077  0.12296377  0.29094964]\n",
      " [ 0.26316372  0.43023634 -0.08147145 -0.32828495]\n",
      " [-0.6197034  -0.35744616  1.2098693   0.7076696 ]\n",
      " [ 0.18480468 -0.28356367 -0.04188489  0.7647021 ]]\n",
      "B Matrix\n",
      "[ 1.6391998e-04 -9.6513622e-02 -6.8874164e-05  1.4688468e-01]\n"
     ]
    }
   ],
   "source": [
    "np_weights = model.get_weights()\n",
    "print(\"A Matrix\")\n",
    "print(np_weights[0])\n",
    "print(\"B Matrix\")\n",
    "print(np_weights[1])"
   ]
  },
  {
   "cell_type": "code",
   "execution_count": null,
   "id": "84fea393",
   "metadata": {},
   "outputs": [],
   "source": []
  }
 ],
 "metadata": {
  "kernelspec": {
   "display_name": "Python 3 (ipykernel)",
   "language": "python",
   "name": "python3"
  },
  "language_info": {
   "codemirror_mode": {
    "name": "ipython",
    "version": 3
   },
   "file_extension": ".py",
   "mimetype": "text/x-python",
   "name": "python",
   "nbconvert_exporter": "python",
   "pygments_lexer": "ipython3",
   "version": "3.8.12"
  }
 },
 "nbformat": 4,
 "nbformat_minor": 5
}
