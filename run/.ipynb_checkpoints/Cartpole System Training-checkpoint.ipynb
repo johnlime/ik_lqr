{
 "cells": [
  {
   "cell_type": "markdown",
   "id": "1390764b",
   "metadata": {},
   "source": [
    "# Cartpole System Training"
   ]
  },
  {
   "cell_type": "code",
   "execution_count": 1,
   "id": "7c57f8cf",
   "metadata": {},
   "outputs": [],
   "source": [
    "import gym\n",
    "import numpy as np\n",
    "import tensorflow as tf\n",
    "import pickle\n",
    "import os\n",
    "from os import path"
   ]
  },
  {
   "cell_type": "code",
   "execution_count": 2,
   "id": "6fcc3462",
   "metadata": {},
   "outputs": [],
   "source": [
    "TOTAL_STEPS = 5000\n",
    "TRAINING_STEPS = 4000\n",
    "BATCH_SIZE = 64"
   ]
  },
  {
   "cell_type": "markdown",
   "id": "8b970745",
   "metadata": {},
   "source": [
    "## Cartpole-v0 Info\n",
    "### Action Space\n",
    "    The action is a `ndarray` with shape `(1,)` which can take values `{0, 1}` indicating the direction of the fixed force the cart is pushed with.\n",
    "    | Num | Action                 |\n",
    "    |-----|------------------------|\n",
    "    | 0   | Push cart to the left  |\n",
    "    | 1   | Push cart to the right |\n",
    "    \n",
    "### Observation Space\n",
    "    The observation is a `ndarray` with shape `(4,)` with the values corresponding to the following positions and velocities:\n",
    "    | Num | Observation           | Min                  | Max                |\n",
    "    |-----|-----------------------|----------------------|--------------------|\n",
    "    | 0   | Cart Position         | -4.8                 | 4.8                |\n",
    "    | 1   | Cart Velocity         | -Inf                 | Inf                |\n",
    "    | 2   | Pole Angle            | ~ -0.418 rad (-24°)  | ~ 0.418 rad (24°)  |\n",
    "    | 3   | Pole Angular Velocity | -Inf                 | Inf                |\n",
    "    \n",
    "(https://github.com/openai/gym/blob/master/gym/envs/classic_control/cartpole.py)"
   ]
  },
  {
   "cell_type": "code",
   "execution_count": 3,
   "id": "8d074c44",
   "metadata": {},
   "outputs": [],
   "source": [
    "env = gym.make('CartPole-v0')\n",
    "X = np.empty((TOTAL_STEPS, 4)) # len(env.observation_space.sample()) == 4\n",
    "U = np.empty((TOTAL_STEPS, 1))\n",
    "y = np.empty((TOTAL_STEPS, 4))"
   ]
  },
  {
   "cell_type": "code",
   "execution_count": 4,
   "id": "81f88362",
   "metadata": {},
   "outputs": [],
   "source": [
    "tf.random.set_seed(1)\n",
    "np.random.seed(1)"
   ]
  },
  {
   "cell_type": "markdown",
   "id": "eabcb5f4",
   "metadata": {},
   "source": [
    "## Sample Trajectories"
   ]
  },
  {
   "cell_type": "code",
   "execution_count": 6,
   "id": "6397e173",
   "metadata": {},
   "outputs": [],
   "source": [
    "x_present = env.reset()\n",
    "for num_timestep in range(TOTAL_STEPS):\n",
    "    u = env.action_space.sample() # sidenote: should this be one-hot encoded?\n",
    "    x_prime, _, done, _ = env.step(u)\n",
    "\n",
    "    # sample x[n], u[n], and x[n+1]\n",
    "    if u == 0:\n",
    "        u = -1\n",
    "    X[num_timestep] = x_present\n",
    "    U[num_timestep] = u\n",
    "    y[num_timestep] = x_prime\n",
    "    x_present = x_prime\n",
    "    if done:\n",
    "        x_present = env.reset()\n",
    "env.close()"
   ]
  },
  {
   "cell_type": "code",
   "execution_count": null,
   "id": "dba90294",
   "metadata": {},
   "outputs": [],
   "source": [
    "#### \"Let-it-run method\" ####\n",
    "for iteration in range(TOTAL_STEPS // 1000):\n",
    "    x_present = env.reset()\n",
    "    for timestep in range(1000):\n",
    "        u = env.action_space.sample()\n",
    "        x_prime, _, done, _ = env.step(u)\n",
    "\n",
    "        # sample x[n], u[n], and x[n+1]\n",
    "        if u == 0:\n",
    "            u = -1\n",
    "        X[1000 * iteration + timestep] = x_present\n",
    "        U[1000 * iteration + timestep] = u\n",
    "        y[1000 * iteration + timestep] = x_prime\n",
    "        x_present = x_prime\n",
    "env.close()"
   ]
  },
  {
   "cell_type": "markdown",
   "id": "05861f60",
   "metadata": {},
   "source": [
    "## Tensorflow Dataset"
   ]
  },
  {
   "cell_type": "code",
   "execution_count": 7,
   "id": "8b1c08d1",
   "metadata": {},
   "outputs": [],
   "source": [
    "if not path.exists('./cartpole_system_model'):\n",
    "  os.mkdir('./cartpole_system_model')"
   ]
  },
  {
   "cell_type": "code",
   "execution_count": 8,
   "id": "24351ad0",
   "metadata": {},
   "outputs": [
    {
     "name": "stdout",
     "output_type": "stream",
     "text": [
      "<ShuffleDataset shapes: (((4,), (1,)), (4,)), types: ((tf.float64, tf.float64), tf.float64)>\n",
      "<BatchDataset shapes: (((None, 4), (None, 1)), (None, 4)), types: ((tf.float64, tf.float64), tf.float64)>\n",
      "<SkipDataset shapes: (((4,), (1,)), (4,)), types: ((tf.float64, tf.float64), tf.float64)>\n"
     ]
    },
    {
     "name": "stderr",
     "output_type": "stream",
     "text": [
      "2022-03-15 00:59:15.674241: I tensorflow/core/platform/cpu_feature_guard.cc:151] This TensorFlow binary is optimized with oneAPI Deep Neural Network Library (oneDNN) to use the following CPU instructions in performance-critical operations:  SSE4.1 SSE4.2 AVX AVX2 FMA\n",
      "To enable them in other operations, rebuild TensorFlow with the appropriate compiler flags.\n"
     ]
    }
   ],
   "source": [
    "# create tensorflow dataset object instance; concat X and y\n",
    "dataset_xu = tf.data.Dataset.from_tensor_slices((X, U))\n",
    "dataset_y = tf.data.Dataset.from_tensor_slices(y)\n",
    "dataset = tf.data.Dataset.zip((dataset_xu, dataset_y)).shuffle(1000, reshuffle_each_iteration = False)\n",
    "print(dataset)\n",
    "# split trajectories into training and testing (no validation)\n",
    "dataset_training = dataset.take(TRAINING_STEPS)\n",
    "dataset_testing = dataset.skip(TRAINING_STEPS)\n",
    "# split training data into batches\n",
    "dataset_training = dataset_training.repeat(5).batch(BATCH_SIZE)\n",
    "print(dataset_training)\n",
    "print(dataset_testing)"
   ]
  },
  {
   "cell_type": "code",
   "execution_count": 9,
   "id": "5af04daf",
   "metadata": {},
   "outputs": [
    {
     "name": "stdout",
     "output_type": "stream",
     "text": [
      "<ShuffleDataset shapes: (((4,), (1,)), (4,)), types: ((tf.float64, tf.float64), tf.float64)>\n",
      "<tensorflow.python.data.ops.dataset_ops._NumpyIterator object at 0x7f8c914a9670>\n",
      "X and U Sample\n",
      "[ 0.03569881 -0.20724778 -0.01433196  0.26277724]\n",
      "[-1.]\n",
      "X Prime Sample\n",
      "[ 0.03155385 -0.40216225 -0.00907642  0.55090547]\n"
     ]
    }
   ],
   "source": [
    "# ShuffleDataset inner workings\n",
    "print(dataset)\n",
    "print(dataset.as_numpy_iterator())\n",
    "for x, i in dataset.as_numpy_iterator():\n",
    "    print(\"X and U Sample\")\n",
    "    print(x[0])\n",
    "    print(x[1])\n",
    "    print(\"X Prime Sample\")\n",
    "    print(i)\n",
    "    break"
   ]
  },
  {
   "cell_type": "code",
   "execution_count": 10,
   "id": "954baad3",
   "metadata": {},
   "outputs": [
    {
     "name": "stdout",
     "output_type": "stream",
     "text": [
      "<BatchDataset shapes: (((None, 4), (None, 1)), (None, 4)), types: ((tf.float64, tf.float64), tf.float64)>\n",
      "Batch Size:  64\n",
      "X and U Sample\n",
      "[ 0.03569881 -0.20724778 -0.01433196  0.26277724] [-1.]\n",
      "X Prime Sample\n",
      "[ 0.03155385 -0.40216225 -0.00907642  0.55090547]\n"
     ]
    }
   ],
   "source": [
    "# BatchDataset / TakeDataset inner workings\n",
    "print(dataset_training)\n",
    "for x, i in dataset_training.as_numpy_iterator():\n",
    "    print(\"Batch Size: \", len(x[0]))\n",
    "    print(\"X and U Sample\")\n",
    "    print(x[0][0], x[1][0])\n",
    "    print(\"X Prime Sample\")\n",
    "    print(i[0])\n",
    "    break"
   ]
  },
  {
   "cell_type": "code",
   "execution_count": 11,
   "id": "8e714f3f",
   "metadata": {},
   "outputs": [
    {
     "name": "stdout",
     "output_type": "stream",
     "text": [
      "<SkipDataset shapes: (((4,), (1,)), (4,)), types: ((tf.float64, tf.float64), tf.float64)>\n",
      "Repetition:  4\n",
      "X and U Sample\n",
      "[ 0.02482882 -0.18662952  0.03150921  0.2973583 ] [1.]\n",
      "X Prime Sample\n",
      "[0.02109623 0.00802943 0.03745638 0.014777  ]\n"
     ]
    }
   ],
   "source": [
    "# SkipDataset inner workings\n",
    "print(dataset_testing)\n",
    "for x, i in dataset_testing.as_numpy_iterator():\n",
    "    print(\"Repetition: \", len(x[0]))\n",
    "    print(\"X and U Sample\")\n",
    "    print(x[0], x[1])\n",
    "    print(\"X Prime Sample\")\n",
    "    print(i)\n",
    "    break"
   ]
  },
  {
   "cell_type": "code",
   "execution_count": 11,
   "id": "d11414f8",
   "metadata": {},
   "outputs": [],
   "source": [
    "# tf.data.experimental.save() and load() are deprecated and buggy with Tensorflow 2.\n",
    "# tf.data.experimental.save(dataset_training, './cartpole_system_model/dataset_training')\n",
    "# tf.data.experimental.save(dataset_testing, './cartpole_system_model/dataset_testing')\n",
    "# tf.data.experimental.save(dataset, './cartpole_system_model/dataset')"
   ]
  },
  {
   "cell_type": "markdown",
   "id": "94187c9e",
   "metadata": {},
   "source": [
    "## Model Definition and Training"
   ]
  },
  {
   "cell_type": "code",
   "execution_count": 12,
   "id": "4084a3c0",
   "metadata": {},
   "outputs": [],
   "source": [
    "class CartpoleLinearControlSystem(tf.keras.Model):\n",
    "    def __init__(self):\n",
    "        super(CartpoleLinearControlSystem, self).__init__()\n",
    "        self.A = tf.keras.layers.Dense(4, input_shape = (4, ), \n",
    "                                       activation = 'linear', \n",
    "                                       use_bias = False, # Dense is meant to be used as NN layer\n",
    "                                       name = 'A')\n",
    "        \n",
    "        self.B = tf.keras.layers.Dense(4, input_shape = (1, ), \n",
    "                                       activation = 'linear', \n",
    "                                       use_bias = False, \n",
    "                                       name = 'B')\n",
    "        \n",
    "        self.add = tf.keras.layers.Add()\n",
    "        \n",
    "    def call(self, inputs):\n",
    "        x, u = inputs\n",
    "        return self.A(x) + self.B(u)"
   ]
  },
  {
   "cell_type": "markdown",
   "id": "452d7334",
   "metadata": {},
   "source": [
    "Uses reference code in *Python Machine Learning: 3rd Edition* (Raschka and Mirjalili, 2019) pp. 438, 512-515"
   ]
  },
  {
   "cell_type": "code",
   "execution_count": null,
   "id": "1657fa62",
   "metadata": {},
   "outputs": [
    {
     "name": "stdout",
     "output_type": "stream",
     "text": [
      "Epoch 1/1000\n",
      "313/313 [==============================] - 1s 1ms/step - loss: 0.5755 - mean_squared_error: 0.5755\n",
      "Epoch 2/1000\n",
      "313/313 [==============================] - 1s 2ms/step - loss: 0.2495 - mean_squared_error: 0.2495\n",
      "Epoch 3/1000\n",
      "313/313 [==============================] - 0s 2ms/step - loss: 0.1023 - mean_squared_error: 0.1023\n",
      "Epoch 4/1000\n",
      "313/313 [==============================] - 1s 2ms/step - loss: 0.0402 - mean_squared_error: 0.0402\n",
      "Epoch 5/1000\n",
      "313/313 [==============================] - 1s 2ms/step - loss: 0.0164 - mean_squared_error: 0.0164\n",
      "Epoch 6/1000\n",
      "313/313 [==============================] - 1s 2ms/step - loss: 0.0081 - mean_squared_error: 0.0081\n",
      "Epoch 7/1000\n",
      "313/313 [==============================] - 1s 2ms/step - loss: 0.0054 - mean_squared_error: 0.0054\n",
      "Epoch 8/1000\n",
      "313/313 [==============================] - 0s 1ms/step - loss: 0.0042 - mean_squared_error: 0.0042\n",
      "Epoch 9/1000\n",
      "313/313 [==============================] - 0s 1ms/step - loss: 0.0035 - mean_squared_error: 0.0035\n",
      "Epoch 10/1000\n",
      "313/313 [==============================] - 0s 1ms/step - loss: 0.0030 - mean_squared_error: 0.0030\n",
      "Epoch 11/1000\n",
      "313/313 [==============================] - 0s 1ms/step - loss: 0.0025 - mean_squared_error: 0.0025\n",
      "Epoch 12/1000\n",
      "313/313 [==============================] - 0s 1ms/step - loss: 0.0021 - mean_squared_error: 0.0021\n",
      "Epoch 13/1000\n",
      "313/313 [==============================] - 1s 2ms/step - loss: 0.0018 - mean_squared_error: 0.0018\n",
      "Epoch 14/1000\n",
      "313/313 [==============================] - 1s 2ms/step - loss: 0.0015 - mean_squared_error: 0.0015\n",
      "Epoch 15/1000\n",
      "313/313 [==============================] - 0s 1ms/step - loss: 0.0013 - mean_squared_error: 0.0013\n",
      "Epoch 16/1000\n",
      "313/313 [==============================] - 0s 2ms/step - loss: 0.0012 - mean_squared_error: 0.0012\n",
      "Epoch 17/1000\n",
      "313/313 [==============================] - 0s 1ms/step - loss: 0.0010 - mean_squared_error: 0.0010\n",
      "Epoch 18/1000\n",
      "313/313 [==============================] - 0s 1ms/step - loss: 9.2330e-04 - mean_squared_error: 9.2330e-04\n",
      "Epoch 19/1000\n",
      "313/313 [==============================] - 0s 1ms/step - loss: 8.3483e-04 - mean_squared_error: 8.3483e-04\n",
      "Epoch 20/1000\n",
      "313/313 [==============================] - 0s 1ms/step - loss: 7.5804e-04 - mean_squared_error: 7.5804e-04\n",
      "Epoch 21/1000\n",
      "313/313 [==============================] - 0s 1ms/step - loss: 6.8749e-04 - mean_squared_error: 6.8749e-04\n",
      "Epoch 22/1000\n",
      "313/313 [==============================] - 0s 1ms/step - loss: 6.1978e-04 - mean_squared_error: 6.1978e-04\n",
      "Epoch 23/1000\n",
      "313/313 [==============================] - 0s 1ms/step - loss: 5.5339e-04 - mean_squared_error: 5.5339e-04\n",
      "Epoch 24/1000\n",
      "313/313 [==============================] - 0s 2ms/step - loss: 4.8815e-04 - mean_squared_error: 4.8815e-04\n",
      "Epoch 25/1000\n",
      "313/313 [==============================] - 1s 2ms/step - loss: 4.2461e-04 - mean_squared_error: 4.2461e-04\n",
      "Epoch 26/1000\n",
      "313/313 [==============================] - 1s 2ms/step - loss: 3.6363e-04 - mean_squared_error: 3.6363e-04\n",
      "Epoch 27/1000\n",
      "313/313 [==============================] - 0s 1ms/step - loss: 3.0614e-04 - mean_squared_error: 3.0614e-04\n",
      "Epoch 28/1000\n",
      "313/313 [==============================] - 0s 1ms/step - loss: 2.5294e-04 - mean_squared_error: 2.5294e-04\n",
      "Epoch 29/1000\n",
      "313/313 [==============================] - 1s 2ms/step - loss: 2.0468e-04 - mean_squared_error: 2.0468e-04\n",
      "Epoch 30/1000\n",
      "313/313 [==============================] - 0s 2ms/step - loss: 1.6182e-04 - mean_squared_error: 1.6182e-04\n",
      "Epoch 31/1000\n",
      "313/313 [==============================] - 0s 1ms/step - loss: 1.2461e-04 - mean_squared_error: 1.2461e-04\n",
      "Epoch 32/1000\n",
      "313/313 [==============================] - 0s 1ms/step - loss: 9.3105e-05 - mean_squared_error: 9.3105e-05\n",
      "Epoch 33/1000\n",
      "313/313 [==============================] - 0s 2ms/step - loss: 6.7163e-05 - mean_squared_error: 6.7163e-05\n",
      "Epoch 34/1000\n",
      "313/313 [==============================] - 0s 2ms/step - loss: 4.6506e-05 - mean_squared_error: 4.6506e-05\n",
      "Epoch 35/1000\n",
      "313/313 [==============================] - 1s 2ms/step - loss: 3.0711e-05 - mean_squared_error: 3.0711e-05\n",
      "Epoch 36/1000\n",
      "279/313 [=========================>....] - ETA: 0s - loss: 1.9707e-05 - mean_squared_error: 1.9707e-05"
     ]
    }
   ],
   "source": [
    "# compile model\n",
    "model = CartpoleLinearControlSystem()\n",
    "model.compile(tf.keras.optimizers.Adam(),\n",
    "              loss = tf.keras.losses.MeanSquaredError(),\n",
    "              metrics = [tf.keras.metrics.MeanSquaredError()])\n",
    "history = model.fit(dataset_training, epochs = 1000)\n",
    "tf.keras.models.save_model(\n",
    "    model, './cartpole_system_model', overwrite = True, include_optimizer = True, save_format = None,\n",
    "    signatures = None, options = None, save_traces = True\n",
    ")"
   ]
  },
  {
   "cell_type": "code",
   "execution_count": null,
   "id": "5bf4bba1",
   "metadata": {},
   "outputs": [],
   "source": [
    "with open('./cartpole_system_model/history.pkl', 'wb') as filepath:\n",
    "    pickle.dump(history, filepath)"
   ]
  },
  {
   "cell_type": "markdown",
   "id": "826c4999",
   "metadata": {},
   "source": [
    "## Model Evaluation and Learning Curve Visualization"
   ]
  },
  {
   "cell_type": "code",
   "execution_count": null,
   "id": "abcf1575",
   "metadata": {},
   "outputs": [],
   "source": [
    "model = tf.keras.models.load_model(\n",
    "    './cartpole_system_model', custom_objects=None, compile=True, options=None\n",
    ")\n",
    "\n",
    "history = None\n",
    "with open('./cartpole_system_model/history.pkl', 'rb') as filepath:\n",
    "    history = pickle.load(filepath)\n",
    "    \n",
    "history_keys = history.history.keys()"
   ]
  },
  {
   "cell_type": "code",
   "execution_count": null,
   "id": "a082d7a4",
   "metadata": {},
   "outputs": [],
   "source": [
    "# tf.data.experimental.save() and load() are deprecated and buggy with Tensorflow 2.\n",
    "# dataset_training = tf.data.experimental.load('./cartpole_system_model/dataset_training')\n",
    "# dataset_testing = tf.data.experimental.load('./cartpole_system_model/dataset_testing')\n",
    "# dataset = tf.data.experimental.load('./cartpole_system_model/dataset')"
   ]
  },
  {
   "cell_type": "code",
   "execution_count": null,
   "id": "e2d31dd7",
   "metadata": {},
   "outputs": [],
   "source": [
    "import matplotlib.pyplot as plt\n",
    "%matplotlib inline"
   ]
  },
  {
   "cell_type": "code",
   "execution_count": null,
   "id": "d7fa0bde",
   "metadata": {},
   "outputs": [],
   "source": [
    "def show_history(history_obj, y_data_name):\n",
    "    # plt.plot(range(history_obj.params['epochs']), history_obj.history[y_data_name])\n",
    "    plt.plot(range(100), history_obj.history[y_data_name][:100])\n",
    "    plt.xlabel(\"Epochs\")\n",
    "    plt.ylabel(y_data_name)\n",
    "    plt.savefig('./cartpole_system_model/' + y_data_name + '.png')\n",
    "    plt.show()"
   ]
  },
  {
   "cell_type": "code",
   "execution_count": null,
   "id": "fceb90d8",
   "metadata": {
    "scrolled": false
   },
   "outputs": [],
   "source": [
    "for i, key in enumerate(history.history.keys()):\n",
    "  show_history(history, key)"
   ]
  },
  {
   "cell_type": "code",
   "execution_count": null,
   "id": "285d954a",
   "metadata": {},
   "outputs": [],
   "source": [
    "model.summary()"
   ]
  },
  {
   "cell_type": "code",
   "execution_count": null,
   "id": "c8d2666d",
   "metadata": {},
   "outputs": [],
   "source": [
    "prediction_result = model.evaluate(dataset_testing.batch(8))\n",
    "print(prediction_result)"
   ]
  },
  {
   "cell_type": "code",
   "execution_count": null,
   "id": "fbbbd3dc",
   "metadata": {},
   "outputs": [],
   "source": []
  }
 ],
 "metadata": {
  "kernelspec": {
   "display_name": "Python 3 (ipykernel)",
   "language": "python",
   "name": "python3"
  },
  "language_info": {
   "codemirror_mode": {
    "name": "ipython",
    "version": 3
   },
   "file_extension": ".py",
   "mimetype": "text/x-python",
   "name": "python",
   "nbconvert_exporter": "python",
   "pygments_lexer": "ipython3",
   "version": "3.8.12"
  }
 },
 "nbformat": 4,
 "nbformat_minor": 5
}
