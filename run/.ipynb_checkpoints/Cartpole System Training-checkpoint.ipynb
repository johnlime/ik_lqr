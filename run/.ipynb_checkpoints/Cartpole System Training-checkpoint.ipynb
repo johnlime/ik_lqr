{
 "cells": [
  {
   "cell_type": "markdown",
   "id": "1390764b",
   "metadata": {},
   "source": [
    "# Cartpole System Training"
   ]
  },
  {
   "cell_type": "code",
   "execution_count": 2,
   "id": "7c57f8cf",
   "metadata": {},
   "outputs": [],
   "source": [
    "import gym\n",
    "import numpy as np\n",
    "import tensorflow as tf\n",
    "import pickle\n",
    "import os\n",
    "from os import path"
   ]
  },
  {
   "cell_type": "code",
   "execution_count": 3,
   "id": "6fcc3462",
   "metadata": {},
   "outputs": [],
   "source": [
    "TOTAL_STEPS = 5000\n",
    "TRAINING_STEPS = 4000\n",
    "BATCH_SIZE = 64"
   ]
  },
  {
   "cell_type": "markdown",
   "id": "8b970745",
   "metadata": {},
   "source": [
    "## Cartpole-v0 Info\n",
    "### Action Space\n",
    "    The action is a `ndarray` with shape `(1,)` which can take values `{0, 1}` indicating the direction of the fixed force the cart is pushed with.\n",
    "    | Num | Action                 |\n",
    "    |-----|------------------------|\n",
    "    | 0   | Push cart to the left  |\n",
    "    | 1   | Push cart to the right |\n",
    "    \n",
    "### Observation Space\n",
    "    The observation is a `ndarray` with shape `(4,)` with the values corresponding to the following positions and velocities:\n",
    "    | Num | Observation           | Min                  | Max                |\n",
    "    |-----|-----------------------|----------------------|--------------------|\n",
    "    | 0   | Cart Position         | -4.8                 | 4.8                |\n",
    "    | 1   | Cart Velocity         | -Inf                 | Inf                |\n",
    "    | 2   | Pole Angle            | ~ -0.418 rad (-24°)  | ~ 0.418 rad (24°)  |\n",
    "    | 3   | Pole Angular Velocity | -Inf                 | Inf                |\n",
    "    \n",
    "(https://github.com/openai/gym/blob/master/gym/envs/classic_control/cartpole.py)"
   ]
  },
  {
   "cell_type": "code",
   "execution_count": 4,
   "id": "8d074c44",
   "metadata": {},
   "outputs": [],
   "source": [
    "env = gym.make('CartPole-v0')\n",
    "X = np.empty((TOTAL_STEPS, 4)) # len(env.observation_space.sample()) == 4\n",
    "U = np.empty((TOTAL_STEPS, 1))\n",
    "y = np.empty((TOTAL_STEPS, 4))"
   ]
  },
  {
   "cell_type": "code",
   "execution_count": 5,
   "id": "81f88362",
   "metadata": {},
   "outputs": [],
   "source": [
    "tf.random.set_seed(1)\n",
    "np.random.seed(1)"
   ]
  },
  {
   "cell_type": "markdown",
   "id": "eabcb5f4",
   "metadata": {},
   "source": [
    "## Sample Trajectories"
   ]
  },
  {
   "cell_type": "code",
   "execution_count": 7,
   "id": "6397e173",
   "metadata": {},
   "outputs": [],
   "source": [
    "x_present = env.reset()\n",
    "for num_timestep in range(TOTAL_STEPS):\n",
    "    u = env.action_space.sample() # sidenote: should this be one-hot encoded?\n",
    "    x_prime, _, done, _ = env.step(u)\n",
    "\n",
    "    # sample x[n], u[n], and x[n+1]\n",
    "    X[num_timestep] = x_present\n",
    "    U[num_timestep] = u\n",
    "    y[num_timestep] = x_prime\n",
    "    x_present = x_prime\n",
    "    if done:\n",
    "        x_present = env.reset()\n",
    "env.close()"
   ]
  },
  {
   "cell_type": "code",
   "execution_count": null,
   "id": "dba90294",
   "metadata": {},
   "outputs": [],
   "source": [
    "#### \"Let-it-run method\" ####\n",
    "for iteration in range(TOTAL_STEPS // 1000):\n",
    "    x_present = env.reset()\n",
    "    for timestep in range(1000):\n",
    "        u = env.action_space.sample() # sidenote: should this be one-hot encoded?\n",
    "        x_prime, _, done, _ = env.step(u)\n",
    "\n",
    "        # sample x[n], u[n], and x[n+1]\n",
    "        X[1000 * iteration + timestep] = x_present\n",
    "        U[1000 * iteration + timestep] = u\n",
    "        y[1000 * iteration + timestep] = x_prime\n",
    "        x_present = x_prime\n",
    "env.close()"
   ]
  },
  {
   "cell_type": "markdown",
   "id": "05861f60",
   "metadata": {},
   "source": [
    "## Tensorflow Dataset"
   ]
  },
  {
   "cell_type": "code",
   "execution_count": 7,
   "id": "8b1c08d1",
   "metadata": {},
   "outputs": [],
   "source": [
    "if not path.exists('./cartpole_system_model'):\n",
    "  os.mkdir('./cartpole_system_model')"
   ]
  },
  {
   "cell_type": "code",
   "execution_count": 126,
   "id": "24351ad0",
   "metadata": {},
   "outputs": [
    {
     "name": "stdout",
     "output_type": "stream",
     "text": [
      "<ShuffleDataset shapes: (((4,), (1,)), (4,)), types: ((tf.float64, tf.float64), tf.float64)>\n",
      "<BatchDataset shapes: (((None, 4), (None, 1)), (None, 4)), types: ((tf.float64, tf.float64), tf.float64)>\n",
      "<SkipDataset shapes: (((4,), (1,)), (4,)), types: ((tf.float64, tf.float64), tf.float64)>\n"
     ]
    }
   ],
   "source": [
    "# create tensorflow dataset object instance; concat X and y\n",
    "dataset_xu = tf.data.Dataset.from_tensor_slices((X, U))\n",
    "dataset_y = tf.data.Dataset.from_tensor_slices(y)\n",
    "dataset = tf.data.Dataset.zip((dataset_xu, dataset_y)).shuffle(1000, reshuffle_each_iteration = False)\n",
    "print(dataset)\n",
    "# split trajectories into training and testing (no validation)\n",
    "dataset_training = dataset.take(TRAINING_STEPS)\n",
    "dataset_testing = dataset.skip(TRAINING_STEPS)\n",
    "# split training data into batches\n",
    "dataset_training = dataset_training.repeat(5).batch(BATCH_SIZE)\n",
    "print(dataset_training)\n",
    "print(dataset_testing)"
   ]
  },
  {
   "cell_type": "code",
   "execution_count": 128,
   "id": "5af04daf",
   "metadata": {},
   "outputs": [
    {
     "name": "stdout",
     "output_type": "stream",
     "text": [
      "<ShuffleDataset shapes: (((4,), (1,)), (4,)), types: ((tf.float64, tf.float64), tf.float64)>\n",
      "<tensorflow.python.data.ops.dataset_ops._NumpyIterator object at 0x7fcb68fd8bb0>\n",
      "X and U Sample\n",
      "[-0.03970052 -0.36193919  0.02856389  0.5957163 ]\n",
      "[0.]\n",
      "X Prime Sample\n",
      "[-0.04693931 -0.55744904  0.04047822  0.89725804]\n"
     ]
    }
   ],
   "source": [
    "# ShuffleDataset inner workings\n",
    "print(dataset)\n",
    "print(dataset.as_numpy_iterator())\n",
    "for x, i in dataset.as_numpy_iterator():\n",
    "    print(\"X and U Sample\")\n",
    "    print(x[0])\n",
    "    print(x[1])\n",
    "    print(\"X Prime Sample\")\n",
    "    print(i)\n",
    "    break"
   ]
  },
  {
   "cell_type": "code",
   "execution_count": 141,
   "id": "954baad3",
   "metadata": {},
   "outputs": [
    {
     "name": "stdout",
     "output_type": "stream",
     "text": [
      "<BatchDataset shapes: (((None, 4), (None, 1)), (None, 4)), types: ((tf.float64, tf.float64), tf.float64)>\n",
      "Batch Size:  64\n",
      "X and U Sample\n",
      "[-0.03970052 -0.36193919  0.02856389  0.5957163 ] [0.]\n",
      "X Prime Sample\n",
      "[-0.04693931 -0.55744904  0.04047822  0.89725804]\n"
     ]
    }
   ],
   "source": [
    "# BatchDataset / TakeDataset inner workings\n",
    "print(dataset_training)\n",
    "for x, i in dataset_training.as_numpy_iterator():\n",
    "    print(\"Batch Size: \", len(x[0]))\n",
    "    print(\"X and U Sample\")\n",
    "    print(x[0][0], x[1][0])\n",
    "    print(\"X Prime Sample\")\n",
    "    print(i[0])\n",
    "    break"
   ]
  },
  {
   "cell_type": "code",
   "execution_count": 140,
   "id": "c6579e5e",
   "metadata": {},
   "outputs": [
    {
     "name": "stdout",
     "output_type": "stream",
     "text": [
      "<SkipDataset shapes: (((4,), (1,)), (4,)), types: ((tf.float64, tf.float64), tf.float64)>\n",
      "Repetition:  4\n",
      "X and U Sample\n",
      "[ 0.02450758  1.17715228 -0.06382068 -1.72865999] [0.]\n",
      "X Prime Sample\n",
      "[ 0.04805063  0.98281503 -0.09839389 -1.45649815]\n"
     ]
    }
   ],
   "source": [
    "# SkipDataset inner workings\n",
    "print(dataset_testing)\n",
    "for x, i in dataset_testing.as_numpy_iterator():\n",
    "    print(\"Repetition: \", len(x[0]))\n",
    "    print(\"X and U Sample\")\n",
    "    print(x[0], x[1])\n",
    "    print(\"X Prime Sample\")\n",
    "    print(i)\n",
    "    break"
   ]
  },
  {
   "cell_type": "code",
   "execution_count": 138,
   "id": "d11414f8",
   "metadata": {},
   "outputs": [],
   "source": [
    "# tf.data.experimental.save() and load() are deprecated and buggy with Tensorflow 2.\n",
    "# tf.data.experimental.save(dataset_training, './cartpole_system_model/dataset_training')\n",
    "# tf.data.experimental.save(dataset_testing, './cartpole_system_model/dataset_testing')\n",
    "# tf.data.experimental.save(dataset, './cartpole_system_model/dataset')"
   ]
  },
  {
   "cell_type": "markdown",
   "id": "94187c9e",
   "metadata": {},
   "source": [
    "## Model Definition and Training"
   ]
  },
  {
   "cell_type": "code",
   "execution_count": 143,
   "id": "4084a3c0",
   "metadata": {},
   "outputs": [],
   "source": [
    "class CartpoleLinearControlSystem(tf.keras.Model):\n",
    "    def __init__(self):\n",
    "        super(CartpoleLinearControlSystem, self).__init__()\n",
    "        self.A = tf.keras.layers.Dense(4, input_shape = (4, ), \n",
    "                                       activation = 'linear', \n",
    "                                       use_bias = False, # Dense is meant to be used as NN layer\n",
    "                                       name = 'A')\n",
    "        \n",
    "        self.B = tf.keras.layers.Dense(4, input_shape = (1, ), \n",
    "                                       activation = 'linear', \n",
    "                                       use_bias = False, \n",
    "                                       name = 'B')\n",
    "        \n",
    "        self.add = tf.keras.layers.Add()\n",
    "        \n",
    "    def call(self, inputs):\n",
    "        x, u = inputs\n",
    "        return self.A(x) + self.B(u)"
   ]
  },
  {
   "cell_type": "markdown",
   "id": "452d7334",
   "metadata": {},
   "source": [
    "Uses reference code in *Python Machine Learning: 3rd Edition* (Raschka and Mirjalili, 2019) pp. 438, 512-515"
   ]
  },
  {
   "cell_type": "code",
   "execution_count": null,
   "id": "1657fa62",
   "metadata": {},
   "outputs": [
    {
     "name": "stdout",
     "output_type": "stream",
     "text": [
      "Epoch 1/3000\n",
      "313/313 [==============================] - 1s 2ms/step - loss: 0.6679 - mean_squared_error: 0.6679\n",
      "Epoch 2/3000\n",
      "313/313 [==============================] - 1s 2ms/step - loss: 0.3588 - mean_squared_error: 0.3588\n",
      "Epoch 3/3000\n",
      "313/313 [==============================] - 1s 2ms/step - loss: 0.1956 - mean_squared_error: 0.1956\n",
      "Epoch 4/3000\n",
      "313/313 [==============================] - 1s 2ms/step - loss: 0.1049 - mean_squared_error: 0.1049\n",
      "Epoch 5/3000\n",
      "313/313 [==============================] - 1s 2ms/step - loss: 0.0581 - mean_squared_error: 0.0581\n",
      "Epoch 6/3000\n",
      "313/313 [==============================] - 1s 2ms/step - loss: 0.0363 - mean_squared_error: 0.0363\n",
      "Epoch 7/3000\n",
      "313/313 [==============================] - 0s 2ms/step - loss: 0.0271 - mean_squared_error: 0.0271\n",
      "Epoch 8/3000\n",
      "313/313 [==============================] - 0s 2ms/step - loss: 0.0231 - mean_squared_error: 0.0231\n",
      "Epoch 9/3000\n",
      "313/313 [==============================] - 0s 2ms/step - loss: 0.0211 - mean_squared_error: 0.0211\n",
      "Epoch 10/3000\n",
      "313/313 [==============================] - 1s 2ms/step - loss: 0.0198 - mean_squared_error: 0.0198\n",
      "Epoch 11/3000\n",
      "313/313 [==============================] - 1s 2ms/step - loss: 0.0188 - mean_squared_error: 0.0188\n",
      "Epoch 12/3000\n",
      "313/313 [==============================] - 1s 2ms/step - loss: 0.0181 - mean_squared_error: 0.0181\n",
      "Epoch 13/3000\n",
      "313/313 [==============================] - 1s 2ms/step - loss: 0.0175 - mean_squared_error: 0.0175\n",
      "Epoch 14/3000\n",
      "313/313 [==============================] - 1s 2ms/step - loss: 0.0171 - mean_squared_error: 0.0171\n",
      "Epoch 15/3000\n",
      "313/313 [==============================] - 1s 2ms/step - loss: 0.0168 - mean_squared_error: 0.0168\n",
      "Epoch 16/3000\n",
      "313/313 [==============================] - 1s 2ms/step - loss: 0.0165 - mean_squared_error: 0.0165\n",
      "Epoch 17/3000\n",
      "313/313 [==============================] - 1s 2ms/step - loss: 0.0163 - mean_squared_error: 0.0163\n",
      "Epoch 18/3000\n",
      "313/313 [==============================] - 1s 2ms/step - loss: 0.0162 - mean_squared_error: 0.0162\n",
      "Epoch 19/3000\n",
      "313/313 [==============================] - 1s 2ms/step - loss: 0.0161 - mean_squared_error: 0.0161\n",
      "Epoch 20/3000\n",
      "313/313 [==============================] - 1s 2ms/step - loss: 0.0160 - mean_squared_error: 0.0160\n",
      "Epoch 21/3000\n",
      "313/313 [==============================] - 1s 2ms/step - loss: 0.0160 - mean_squared_error: 0.0160\n",
      "Epoch 22/3000\n",
      "313/313 [==============================] - 1s 2ms/step - loss: 0.0159 - mean_squared_error: 0.0159\n",
      "Epoch 23/3000\n",
      "313/313 [==============================] - 0s 2ms/step - loss: 0.0159 - mean_squared_error: 0.0159\n",
      "Epoch 24/3000\n",
      "313/313 [==============================] - 1s 2ms/step - loss: 0.0158 - mean_squared_error: 0.0158\n",
      "Epoch 25/3000\n",
      "313/313 [==============================] - 1s 2ms/step - loss: 0.0158 - mean_squared_error: 0.0158\n",
      "Epoch 26/3000\n",
      "313/313 [==============================] - 1s 2ms/step - loss: 0.0157 - mean_squared_error: 0.0157\n",
      "Epoch 27/3000\n",
      "313/313 [==============================] - 1s 2ms/step - loss: 0.0157 - mean_squared_error: 0.0157\n",
      "Epoch 28/3000\n",
      "313/313 [==============================] - 1s 2ms/step - loss: 0.0157 - mean_squared_error: 0.0157\n",
      "Epoch 29/3000\n",
      "313/313 [==============================] - 1s 2ms/step - loss: 0.0156 - mean_squared_error: 0.0156\n",
      "Epoch 30/3000\n",
      "313/313 [==============================] - 1s 2ms/step - loss: 0.0156 - mean_squared_error: 0.0156\n",
      "Epoch 31/3000\n",
      "313/313 [==============================] - 1s 2ms/step - loss: 0.0156 - mean_squared_error: 0.0156\n",
      "Epoch 32/3000\n",
      "313/313 [==============================] - 1s 2ms/step - loss: 0.0156 - mean_squared_error: 0.0156\n",
      "Epoch 33/3000\n",
      "313/313 [==============================] - 1s 2ms/step - loss: 0.0155 - mean_squared_error: 0.0155\n",
      "Epoch 34/3000\n",
      "313/313 [==============================] - 1s 2ms/step - loss: 0.0155 - mean_squared_error: 0.0155\n",
      "Epoch 35/3000\n",
      "313/313 [==============================] - 1s 2ms/step - loss: 0.0155 - mean_squared_error: 0.0155\n",
      "Epoch 36/3000\n",
      "313/313 [==============================] - 1s 2ms/step - loss: 0.0155 - mean_squared_error: 0.0155\n",
      "Epoch 37/3000\n",
      "313/313 [==============================] - 1s 2ms/step - loss: 0.0155 - mean_squared_error: 0.0155\n",
      "Epoch 38/3000\n",
      "313/313 [==============================] - 1s 2ms/step - loss: 0.0155 - mean_squared_error: 0.0155\n",
      "Epoch 39/3000\n",
      "313/313 [==============================] - 1s 2ms/step - loss: 0.0154 - mean_squared_error: 0.0154\n",
      "Epoch 40/3000\n",
      "313/313 [==============================] - 1s 2ms/step - loss: 0.0154 - mean_squared_error: 0.0154\n",
      "Epoch 41/3000\n",
      "313/313 [==============================] - 1s 2ms/step - loss: 0.0154 - mean_squared_error: 0.0154\n",
      "Epoch 42/3000\n",
      "313/313 [==============================] - 1s 2ms/step - loss: 0.0154 - mean_squared_error: 0.0154\n",
      "Epoch 43/3000\n",
      "313/313 [==============================] - 1s 2ms/step - loss: 0.0154 - mean_squared_error: 0.0154\n",
      "Epoch 44/3000\n",
      "313/313 [==============================] - 1s 2ms/step - loss: 0.0154 - mean_squared_error: 0.0154\n",
      "Epoch 45/3000\n",
      "313/313 [==============================] - 1s 2ms/step - loss: 0.0154 - mean_squared_error: 0.0154\n",
      "Epoch 46/3000\n",
      "313/313 [==============================] - 1s 2ms/step - loss: 0.0154 - mean_squared_error: 0.0154\n",
      "Epoch 47/3000\n",
      "313/313 [==============================] - 1s 2ms/step - loss: 0.0154 - mean_squared_error: 0.0154\n",
      "Epoch 48/3000\n",
      "313/313 [==============================] - 1s 2ms/step - loss: 0.0154 - mean_squared_error: 0.0154\n",
      "Epoch 49/3000\n",
      "313/313 [==============================] - 0s 2ms/step - loss: 0.0154 - mean_squared_error: 0.0154\n",
      "Epoch 50/3000\n",
      "313/313 [==============================] - 0s 2ms/step - loss: 0.0154 - mean_squared_error: 0.0154\n",
      "Epoch 51/3000\n",
      "313/313 [==============================] - 0s 2ms/step - loss: 0.0154 - mean_squared_error: 0.0154\n",
      "Epoch 52/3000\n",
      "313/313 [==============================] - 0s 2ms/step - loss: 0.0154 - mean_squared_error: 0.0154\n",
      "Epoch 53/3000\n",
      "313/313 [==============================] - 1s 2ms/step - loss: 0.0154 - mean_squared_error: 0.0154\n",
      "Epoch 54/3000\n",
      "313/313 [==============================] - 1s 2ms/step - loss: 0.0154 - mean_squared_error: 0.0154\n",
      "Epoch 55/3000\n",
      "313/313 [==============================] - 0s 2ms/step - loss: 0.0154 - mean_squared_error: 0.0154\n",
      "Epoch 56/3000\n",
      "313/313 [==============================] - 0s 2ms/step - loss: 0.0154 - mean_squared_error: 0.0154\n",
      "Epoch 57/3000\n",
      "313/313 [==============================] - 0s 2ms/step - loss: 0.0154 - mean_squared_error: 0.0154\n",
      "Epoch 58/3000\n",
      "313/313 [==============================] - 0s 2ms/step - loss: 0.0154 - mean_squared_error: 0.0154\n",
      "Epoch 59/3000\n",
      "313/313 [==============================] - 1s 2ms/step - loss: 0.0154 - mean_squared_error: 0.0154\n",
      "Epoch 60/3000\n",
      "313/313 [==============================] - 1s 2ms/step - loss: 0.0154 - mean_squared_error: 0.0154\n",
      "Epoch 61/3000\n",
      "313/313 [==============================] - 1s 2ms/step - loss: 0.0154 - mean_squared_error: 0.0154\n",
      "Epoch 62/3000\n",
      "313/313 [==============================] - 1s 2ms/step - loss: 0.0154 - mean_squared_error: 0.0154\n",
      "Epoch 63/3000\n",
      "313/313 [==============================] - 1s 2ms/step - loss: 0.0154 - mean_squared_error: 0.0154\n",
      "Epoch 64/3000\n",
      "313/313 [==============================] - 0s 2ms/step - loss: 0.0154 - mean_squared_error: 0.0154\n",
      "Epoch 65/3000\n",
      "313/313 [==============================] - 0s 2ms/step - loss: 0.0154 - mean_squared_error: 0.0154\n",
      "Epoch 66/3000\n",
      "313/313 [==============================] - 0s 2ms/step - loss: 0.0154 - mean_squared_error: 0.0154\n",
      "Epoch 67/3000\n",
      "313/313 [==============================] - 0s 2ms/step - loss: 0.0154 - mean_squared_error: 0.0154\n",
      "Epoch 68/3000\n",
      "313/313 [==============================] - 0s 2ms/step - loss: 0.0154 - mean_squared_error: 0.0154\n",
      "Epoch 69/3000\n",
      "313/313 [==============================] - 1s 2ms/step - loss: 0.0154 - mean_squared_error: 0.0154\n",
      "Epoch 70/3000\n",
      "313/313 [==============================] - 0s 2ms/step - loss: 0.0154 - mean_squared_error: 0.0154\n",
      "Epoch 71/3000\n",
      "313/313 [==============================] - 1s 2ms/step - loss: 0.0154 - mean_squared_error: 0.0154\n",
      "Epoch 72/3000\n",
      "313/313 [==============================] - 1s 2ms/step - loss: 0.0154 - mean_squared_error: 0.0154\n",
      "Epoch 73/3000\n"
     ]
    },
    {
     "name": "stdout",
     "output_type": "stream",
     "text": [
      "313/313 [==============================] - 1s 2ms/step - loss: 0.0154 - mean_squared_error: 0.0154\n",
      "Epoch 74/3000\n",
      "313/313 [==============================] - 0s 2ms/step - loss: 0.0154 - mean_squared_error: 0.0154\n",
      "Epoch 75/3000\n",
      "313/313 [==============================] - 1s 2ms/step - loss: 0.0154 - mean_squared_error: 0.0154\n",
      "Epoch 76/3000\n",
      "313/313 [==============================] - 1s 2ms/step - loss: 0.0154 - mean_squared_error: 0.0154\n",
      "Epoch 77/3000\n",
      "313/313 [==============================] - 0s 2ms/step - loss: 0.0154 - mean_squared_error: 0.0154\n",
      "Epoch 78/3000\n",
      "313/313 [==============================] - 1s 2ms/step - loss: 0.0154 - mean_squared_error: 0.0154\n",
      "Epoch 79/3000\n",
      "313/313 [==============================] - 1s 2ms/step - loss: 0.0154 - mean_squared_error: 0.0154\n",
      "Epoch 80/3000\n",
      "313/313 [==============================] - 0s 2ms/step - loss: 0.0154 - mean_squared_error: 0.0154\n",
      "Epoch 81/3000\n",
      "313/313 [==============================] - 1s 2ms/step - loss: 0.0154 - mean_squared_error: 0.0154\n",
      "Epoch 82/3000\n",
      "313/313 [==============================] - 0s 2ms/step - loss: 0.0154 - mean_squared_error: 0.0154\n",
      "Epoch 83/3000\n",
      "313/313 [==============================] - 0s 2ms/step - loss: 0.0154 - mean_squared_error: 0.0154\n",
      "Epoch 84/3000\n",
      "313/313 [==============================] - 1s 2ms/step - loss: 0.0154 - mean_squared_error: 0.0154\n",
      "Epoch 85/3000\n",
      "313/313 [==============================] - 1s 2ms/step - loss: 0.0154 - mean_squared_error: 0.0154\n",
      "Epoch 86/3000\n",
      "313/313 [==============================] - 1s 2ms/step - loss: 0.0154 - mean_squared_error: 0.0154\n",
      "Epoch 87/3000\n",
      "313/313 [==============================] - 1s 2ms/step - loss: 0.0154 - mean_squared_error: 0.0154\n",
      "Epoch 88/3000\n",
      "313/313 [==============================] - 1s 2ms/step - loss: 0.0154 - mean_squared_error: 0.0154\n",
      "Epoch 89/3000\n",
      "313/313 [==============================] - 1s 2ms/step - loss: 0.0154 - mean_squared_error: 0.0154\n",
      "Epoch 90/3000\n",
      "313/313 [==============================] - 1s 2ms/step - loss: 0.0154 - mean_squared_error: 0.0154\n",
      "Epoch 91/3000\n",
      "313/313 [==============================] - 1s 2ms/step - loss: 0.0154 - mean_squared_error: 0.0154\n",
      "Epoch 92/3000\n",
      "313/313 [==============================] - 0s 2ms/step - loss: 0.0154 - mean_squared_error: 0.0154\n",
      "Epoch 93/3000\n",
      "313/313 [==============================] - 1s 2ms/step - loss: 0.0154 - mean_squared_error: 0.0154\n",
      "Epoch 94/3000\n",
      "313/313 [==============================] - 0s 2ms/step - loss: 0.0154 - mean_squared_error: 0.0154\n",
      "Epoch 95/3000\n",
      "313/313 [==============================] - 0s 2ms/step - loss: 0.0154 - mean_squared_error: 0.0154\n",
      "Epoch 96/3000\n",
      "313/313 [==============================] - 1s 2ms/step - loss: 0.0154 - mean_squared_error: 0.0154\n",
      "Epoch 97/3000\n",
      "313/313 [==============================] - 1s 2ms/step - loss: 0.0154 - mean_squared_error: 0.0154\n",
      "Epoch 98/3000\n",
      "313/313 [==============================] - 1s 2ms/step - loss: 0.0154 - mean_squared_error: 0.0154\n",
      "Epoch 99/3000\n",
      "313/313 [==============================] - 1s 2ms/step - loss: 0.0154 - mean_squared_error: 0.0154\n",
      "Epoch 100/3000\n",
      "313/313 [==============================] - 1s 2ms/step - loss: 0.0154 - mean_squared_error: 0.0154\n",
      "Epoch 101/3000\n",
      "313/313 [==============================] - 1s 2ms/step - loss: 0.0154 - mean_squared_error: 0.0154\n",
      "Epoch 102/3000\n",
      "313/313 [==============================] - 0s 2ms/step - loss: 0.0154 - mean_squared_error: 0.0154\n",
      "Epoch 103/3000\n",
      "313/313 [==============================] - 1s 2ms/step - loss: 0.0154 - mean_squared_error: 0.0154\n",
      "Epoch 104/3000\n",
      "313/313 [==============================] - 1s 2ms/step - loss: 0.0154 - mean_squared_error: 0.0154\n",
      "Epoch 105/3000\n",
      "313/313 [==============================] - 1s 2ms/step - loss: 0.0154 - mean_squared_error: 0.0154\n",
      "Epoch 106/3000\n",
      "313/313 [==============================] - 0s 2ms/step - loss: 0.0154 - mean_squared_error: 0.0154\n",
      "Epoch 107/3000\n",
      "313/313 [==============================] - 0s 2ms/step - loss: 0.0154 - mean_squared_error: 0.0154\n",
      "Epoch 108/3000\n",
      "313/313 [==============================] - 0s 2ms/step - loss: 0.0154 - mean_squared_error: 0.0154\n",
      "Epoch 109/3000\n",
      "313/313 [==============================] - 0s 2ms/step - loss: 0.0154 - mean_squared_error: 0.0154\n",
      "Epoch 110/3000\n",
      "313/313 [==============================] - 1s 2ms/step - loss: 0.0154 - mean_squared_error: 0.0154\n",
      "Epoch 111/3000\n",
      "313/313 [==============================] - 1s 2ms/step - loss: 0.0154 - mean_squared_error: 0.0154\n",
      "Epoch 112/3000\n",
      "313/313 [==============================] - 1s 2ms/step - loss: 0.0154 - mean_squared_error: 0.0154\n",
      "Epoch 113/3000\n",
      "313/313 [==============================] - 1s 2ms/step - loss: 0.0154 - mean_squared_error: 0.0154\n",
      "Epoch 114/3000\n",
      "313/313 [==============================] - 1s 2ms/step - loss: 0.0154 - mean_squared_error: 0.0154\n",
      "Epoch 115/3000\n",
      "313/313 [==============================] - 1s 2ms/step - loss: 0.0154 - mean_squared_error: 0.0154\n",
      "Epoch 116/3000\n",
      "313/313 [==============================] - 1s 2ms/step - loss: 0.0154 - mean_squared_error: 0.0154\n",
      "Epoch 117/3000\n",
      "117/313 [==========>...................] - ETA: 0s - loss: 0.0154 - mean_squared_error: 0.0154"
     ]
    }
   ],
   "source": [
    "# compile model\n",
    "model = CartpoleLinearControlSystem()\n",
    "model.compile(tf.keras.optimizers.Adam(),\n",
    "              loss = tf.keras.losses.MeanSquaredError(),\n",
    "              metrics = [tf.keras.metrics.MeanSquaredError()])\n",
    "history = model.fit(dataset_training, epochs = 3000)\n",
    "tf.keras.models.save_model(\n",
    "    model, './cartpole_system_model', overwrite = True, include_optimizer = True, save_format = None,\n",
    "    signatures = None, options = None, save_traces = True\n",
    ")"
   ]
  },
  {
   "cell_type": "code",
   "execution_count": null,
   "id": "5bf4bba1",
   "metadata": {},
   "outputs": [],
   "source": [
    "with open('./cartpole_system_model/history.pkl', 'wb') as filepath:\n",
    "    pickle.dump(history, filepath)"
   ]
  },
  {
   "cell_type": "markdown",
   "id": "826c4999",
   "metadata": {},
   "source": [
    "## Model Evaluation and Learning Curve Visualization"
   ]
  },
  {
   "cell_type": "code",
   "execution_count": 122,
   "id": "abcf1575",
   "metadata": {},
   "outputs": [],
   "source": [
    "model = tf.keras.models.load_model(\n",
    "    './cartpole_system_model', custom_objects=None, compile=True, options=None\n",
    ")\n",
    "\n",
    "history = None\n",
    "with open('./cartpole_system_model/history.pkl', 'rb') as filepath:\n",
    "    history = pickle.load(filepath)\n",
    "    \n",
    "history_keys = history.history.keys()"
   ]
  },
  {
   "cell_type": "code",
   "execution_count": 94,
   "id": "a082d7a4",
   "metadata": {},
   "outputs": [],
   "source": [
    "# tf.data.experimental.save() and load() are deprecated and buggy with Tensorflow 2.\n",
    "# dataset_training = tf.data.experimental.load('./cartpole_system_model/dataset_training')\n",
    "# dataset_testing = tf.data.experimental.load('./cartpole_system_model/dataset_testing')\n",
    "# dataset = tf.data.experimental.load('./cartpole_system_model/dataset')"
   ]
  },
  {
   "cell_type": "code",
   "execution_count": 123,
   "id": "e2d31dd7",
   "metadata": {},
   "outputs": [],
   "source": [
    "import matplotlib.pyplot as plt\n",
    "%matplotlib inline"
   ]
  },
  {
   "cell_type": "code",
   "execution_count": 88,
   "id": "d7fa0bde",
   "metadata": {},
   "outputs": [],
   "source": [
    "def show_history(history_obj, y_data_name):\n",
    "  plt.plot(range(history_obj.params['epochs']), history_obj.history[y_data_name])\n",
    "  plt.xlabel(\"Epochs\")\n",
    "  plt.ylabel(y_data_name)\n",
    "  plt.savefig('./cartpole_system_model/' + y_data_name + '.png')\n",
    "  plt.show()"
   ]
  },
  {
   "cell_type": "code",
   "execution_count": 89,
   "id": "fceb90d8",
   "metadata": {},
   "outputs": [
    {
     "data": {
      "image/png": "[encoded data removed]",
      "text/plain": [
       "<Figure size 432x288 with 1 Axes>"
      ]
     },
     "metadata": {
      "needs_background": "light"
     },
     "output_type": "display_data"
    },
    {
     "data": {
      "image/png": "[encoded data removed]",
      "text/plain": [
       "<Figure size 432x288 with 1 Axes>"
      ]
     },
     "metadata": {
      "needs_background": "light"
     },
     "output_type": "display_data"
    }
   ],
   "source": [
    "for i, key in enumerate(history.history.keys()):\n",
    "  show_history(history, key)"
   ]
  },
  {
   "cell_type": "code",
   "execution_count": 124,
   "id": "7685141a",
   "metadata": {},
   "outputs": [
    {
     "name": "stdout",
     "output_type": "stream",
     "text": [
      "Model: \"cartpole_linear_control_system\"\n",
      "_________________________________________________________________\n",
      " Layer (type)                Output Shape              Param #   \n",
      "=================================================================\n",
      " A (Dense)                   multiple                  16        \n",
      "                                                                 \n",
      " B (Dense)                   multiple                  4         \n",
      "                                                                 \n",
      " add (Add)                   multiple                  0         \n",
      "                                                                 \n",
      "=================================================================\n",
      "Total params: 20\n",
      "Trainable params: 20\n",
      "Non-trainable params: 0\n",
      "_________________________________________________________________\n"
     ]
    }
   ],
   "source": [
    "model.summary()"
   ]
  },
  {
   "cell_type": "code",
   "execution_count": 125,
   "id": "776916ae",
   "metadata": {},
   "outputs": [
    {
     "ename": "ValueError",
     "evalue": "Unexpected result of `predict_function` (Empty batch_outputs). Please use `Model.compile(..., run_eagerly=True)`, or `tf.config.run_functions_eagerly(True)` for more information of where went wrong, or file a issue/bug to `tf.keras`.",
     "output_type": "error",
     "traceback": [
      "\u001b[0;31m---------------------------------------------------------------------------\u001b[0m",
      "\u001b[0;31mValueError\u001b[0m                                Traceback (most recent call last)",
      "\u001b[0;32m/var/folders/z9/d3462rf1391bntsj4j_8rn_h0000gn/T/ipykernel_1491/3416492447.py\u001b[0m in \u001b[0;36m<cell line: 1>\u001b[0;34m()\u001b[0m\n\u001b[0;32m----> 1\u001b[0;31m \u001b[0mmodel\u001b[0m\u001b[0;34m.\u001b[0m\u001b[0mpredict\u001b[0m\u001b[0;34m(\u001b[0m\u001b[0mdataset_testing\u001b[0m\u001b[0;34m.\u001b[0m\u001b[0mbatch\u001b[0m\u001b[0;34m(\u001b[0m\u001b[0;36m8\u001b[0m\u001b[0;34m)\u001b[0m\u001b[0;34m)\u001b[0m\u001b[0;34m\u001b[0m\u001b[0;34m\u001b[0m\u001b[0m\n\u001b[0m",
      "\u001b[0;32m~/anaconda3/lib/python3.8/site-packages/keras/utils/traceback_utils.py\u001b[0m in \u001b[0;36merror_handler\u001b[0;34m(*args, **kwargs)\u001b[0m\n\u001b[1;32m     65\u001b[0m     \u001b[0;32mexcept\u001b[0m \u001b[0mException\u001b[0m \u001b[0;32mas\u001b[0m \u001b[0me\u001b[0m\u001b[0;34m:\u001b[0m  \u001b[0;31m# pylint: disable=broad-except\u001b[0m\u001b[0;34m\u001b[0m\u001b[0;34m\u001b[0m\u001b[0m\n\u001b[1;32m     66\u001b[0m       \u001b[0mfiltered_tb\u001b[0m \u001b[0;34m=\u001b[0m \u001b[0m_process_traceback_frames\u001b[0m\u001b[0;34m(\u001b[0m\u001b[0me\u001b[0m\u001b[0;34m.\u001b[0m\u001b[0m__traceback__\u001b[0m\u001b[0;34m)\u001b[0m\u001b[0;34m\u001b[0m\u001b[0;34m\u001b[0m\u001b[0m\n\u001b[0;32m---> 67\u001b[0;31m       \u001b[0;32mraise\u001b[0m \u001b[0me\u001b[0m\u001b[0;34m.\u001b[0m\u001b[0mwith_traceback\u001b[0m\u001b[0;34m(\u001b[0m\u001b[0mfiltered_tb\u001b[0m\u001b[0;34m)\u001b[0m \u001b[0;32mfrom\u001b[0m \u001b[0;32mNone\u001b[0m\u001b[0;34m\u001b[0m\u001b[0;34m\u001b[0m\u001b[0m\n\u001b[0m\u001b[1;32m     68\u001b[0m     \u001b[0;32mfinally\u001b[0m\u001b[0;34m:\u001b[0m\u001b[0;34m\u001b[0m\u001b[0;34m\u001b[0m\u001b[0m\n\u001b[1;32m     69\u001b[0m       \u001b[0;32mdel\u001b[0m \u001b[0mfiltered_tb\u001b[0m\u001b[0;34m\u001b[0m\u001b[0;34m\u001b[0m\u001b[0m\n",
      "\u001b[0;32m~/anaconda3/lib/python3.8/site-packages/keras/engine/training.py\u001b[0m in \u001b[0;36mpredict\u001b[0;34m(self, x, batch_size, verbose, steps, callbacks, max_queue_size, workers, use_multiprocessing)\u001b[0m\n\u001b[1;32m   1802\u001b[0m             \u001b[0mcallbacks\u001b[0m\u001b[0;34m.\u001b[0m\u001b[0mon_predict_batch_end\u001b[0m\u001b[0;34m(\u001b[0m\u001b[0mend_step\u001b[0m\u001b[0;34m,\u001b[0m \u001b[0;34m{\u001b[0m\u001b[0;34m'outputs'\u001b[0m\u001b[0;34m:\u001b[0m \u001b[0mbatch_outputs\u001b[0m\u001b[0;34m}\u001b[0m\u001b[0;34m)\u001b[0m\u001b[0;34m\u001b[0m\u001b[0;34m\u001b[0m\u001b[0m\n\u001b[1;32m   1803\u001b[0m       \u001b[0;32mif\u001b[0m \u001b[0mbatch_outputs\u001b[0m \u001b[0;32mis\u001b[0m \u001b[0;32mNone\u001b[0m\u001b[0;34m:\u001b[0m\u001b[0;34m\u001b[0m\u001b[0;34m\u001b[0m\u001b[0m\n\u001b[0;32m-> 1804\u001b[0;31m         raise ValueError('Unexpected result of `predict_function` '\n\u001b[0m\u001b[1;32m   1805\u001b[0m                          \u001b[0;34m'(Empty batch_outputs). Please use '\u001b[0m\u001b[0;34m\u001b[0m\u001b[0;34m\u001b[0m\u001b[0m\n\u001b[1;32m   1806\u001b[0m                          \u001b[0;34m'`Model.compile(..., run_eagerly=True)`, or '\u001b[0m\u001b[0;34m\u001b[0m\u001b[0;34m\u001b[0m\u001b[0m\n",
      "\u001b[0;31mValueError\u001b[0m: Unexpected result of `predict_function` (Empty batch_outputs). Please use `Model.compile(..., run_eagerly=True)`, or `tf.config.run_functions_eagerly(True)` for more information of where went wrong, or file a issue/bug to `tf.keras`."
     ]
    }
   ],
   "source": [
    "model.predict(dataset_testing.batch(8))"
   ]
  },
  {
   "cell_type": "code",
   "execution_count": null,
   "id": "a16e07cc",
   "metadata": {},
   "outputs": [],
   "source": []
  }
 ],
 "metadata": {
  "kernelspec": {
   "display_name": "Python 3 (ipykernel)",
   "language": "python",
   "name": "python3"
  },
  "language_info": {
   "codemirror_mode": {
    "name": "ipython",
    "version": 3
   },
   "file_extension": ".py",
   "mimetype": "text/x-python",
   "name": "python",
   "nbconvert_exporter": "python",
   "pygments_lexer": "ipython3",
   "version": "3.8.12"
  }
 },
 "nbformat": 4,
 "nbformat_minor": 5
}
