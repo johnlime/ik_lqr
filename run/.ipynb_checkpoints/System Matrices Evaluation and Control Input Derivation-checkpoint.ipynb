{
 "cells": [
  {
   "cell_type": "markdown",
   "id": "aa53a653",
   "metadata": {},
   "source": [
    "# System Matrices Evaluation and Control Input Derivation"
   ]
  },
  {
   "cell_type": "code",
   "execution_count": 1,
   "id": "6116f0ae",
   "metadata": {},
   "outputs": [],
   "source": [
    "import gym\n",
    "import numpy as np\n",
    "import tensorflow as tf\n",
    "import pickle\n",
    "import os\n",
    "from os import path"
   ]
  },
  {
   "cell_type": "markdown",
   "id": "61ef17b1",
   "metadata": {},
   "source": [
    "## Import matrices for linear control systems"
   ]
  },
  {
   "cell_type": "code",
   "execution_count": 2,
   "id": "35084d75",
   "metadata": {},
   "outputs": [
    {
     "name": "stderr",
     "output_type": "stream",
     "text": [
      "2022-03-14 21:23:01.474133: I tensorflow/core/platform/cpu_feature_guard.cc:151] This TensorFlow binary is optimized with oneAPI Deep Neural Network Library (oneDNN) to use the following CPU instructions in performance-critical operations:  SSE4.1 SSE4.2 AVX AVX2 FMA\n",
      "To enable them in other operations, rebuild TensorFlow with the appropriate compiler flags.\n"
     ]
    }
   ],
   "source": [
    "model = tf.keras.models.load_model(\n",
    "    './cartpole_system_model', custom_objects=None, compile=True, options=None\n",
    ")"
   ]
  },
  {
   "cell_type": "code",
   "execution_count": 3,
   "id": "7bf8d811",
   "metadata": {},
   "outputs": [
    {
     "name": "stdout",
     "output_type": "stream",
     "text": [
      "[array([[ 1.00000298e+00,  1.03474304e-01, -6.81955644e-05,\n",
      "        -1.53411880e-01],\n",
      "       [ 2.00001802e-02,  9.95905221e-01, -1.23909122e-05,\n",
      "         6.26267958e-03],\n",
      "       [-5.69764438e-07, -5.87693080e-02,  1.00003278e+00,\n",
      "         3.81267816e-01],\n",
      "       [ 3.71733137e-07, -1.13821297e-03,  2.00367365e-02,\n",
      "         1.00111854e+00]], dtype=float32)]\n",
      "[array([[-2.2487126e-07,  1.9629727e-01,  2.1716911e-05, -2.9252878e-01]],\n",
      "      dtype=float32)]\n"
     ]
    }
   ],
   "source": [
    "np_weights = model.get_weights()\n",
    "print(model.A.get_weights())\n",
    "print(model.B.get_weights())"
   ]
  },
  {
   "cell_type": "code",
   "execution_count": 17,
   "id": "84fea393",
   "metadata": {},
   "outputs": [
    {
     "name": "stdout",
     "output_type": "stream",
     "text": [
      "A Matrix\n",
      "[[ 1.00000298e+00  1.03474304e-01 -6.81955644e-05 -1.53411880e-01]\n",
      " [ 2.00001802e-02  9.95905221e-01 -1.23909122e-05  6.26267958e-03]\n",
      " [-5.69764438e-07 -5.87693080e-02  1.00003278e+00  3.81267816e-01]\n",
      " [ 3.71733137e-07 -1.13821297e-03  2.00367365e-02  1.00111854e+00]]\n",
      "B Matrix\n",
      "[[-2.2487126e-07]\n",
      " [ 1.9629727e-01]\n",
      " [ 2.1716911e-05]\n",
      " [-2.9252878e-01]]\n"
     ]
    }
   ],
   "source": [
    "A = np_weights[0]\n",
    "B = np_weights[1].T\n",
    "print(\"A Matrix\")\n",
    "print(A)\n",
    "print(\"B Matrix\")\n",
    "print(B)"
   ]
  },
  {
   "cell_type": "markdown",
   "id": "b6f7c411",
   "metadata": {},
   "source": [
    "## Deriving K"
   ]
  },
  {
   "cell_type": "markdown",
   "id": "d2f7f3ec",
   "metadata": {},
   "source": [
    "Rewrite the control system equation using $u = - Kx$.\n",
    "\n",
    "$$\n",
    "\\begin{align}\n",
    "    \\dot x &= Ax - Bu \\\\\n",
    "    \\dot x &= Ax - BKx \\\\\n",
    "\\end{align}\n",
    "$$\n",
    "\n",
    "Define the target control system with the desired eigenvalue and eigenvector placements as $\\dot x = Tx$.\n",
    "\n",
    "Derive the state space to control input transformation $K$.\n",
    "\n",
    "$$\n",
    "\\begin{align}\n",
    "    \\dot x \n",
    "        &= Tx \\\\\n",
    "        &= Ax - BKx \\\\\n",
    "    Tx &= Ax - BKx \\\\\n",
    "    T &= A - BK \\\\\n",
    "    K &= - B^{-1}_{left} (T - A) \\\\\n",
    "\\end{align}\n",
    "$$\n",
    "\n",
    "where $B^{-1}_{left}$ is the left inverse of $B$, which can be derived as,\n",
    "\n",
    "$$\n",
    "\\begin{align}\n",
    "    (A^T A)^{-1} A^T A &= I \\\\\n",
    "    (A^T A)^{-1} A^T &= A^{-1}_{left} \\\\\n",
    "\\end{align}\n",
    "$$"
   ]
  },
  {
   "cell_type": "code",
   "execution_count": 23,
   "id": "07b20f5c",
   "metadata": {},
   "outputs": [
    {
     "name": "stdout",
     "output_type": "stream",
     "text": [
      "K Matrix\n",
      "[[ 0.03162967  3.15958397 -0.04689808 -4.70685101]]\n"
     ]
    }
   ],
   "source": [
    "# Define desirable T = A - BK\n",
    "# T is an identity matrix, where all of the eigenvalues are negative (stable system)\n",
    "T = -1 * np.identity(A.shape[0])\n",
    "B_left_inv = np.matmul(np.linalg.inv(np.matmul(B.T, B)), B.T)\n",
    "K = - np.matmul(B_left_inv, (T - A))\n",
    "print(\"K Matrix\")\n",
    "print(K)"
   ]
  },
  {
   "cell_type": "code",
   "execution_count": 28,
   "id": "51a6d3f1",
   "metadata": {},
   "outputs": [
    {
     "name": "stdout",
     "output_type": "stream",
     "text": [
      "{'K': array([[ 0.03162967,  3.15958397, -0.04689808, -4.70685101]]), 'Target': array([[-1., -0., -0., -0.],\n",
      "       [-0., -1., -0., -0.],\n",
      "       [-0., -0., -1., -0.],\n",
      "       [-0., -0., -0., -1.]]), 'A': array([[ 1.00000298e+00,  1.03474304e-01, -6.81955644e-05,\n",
      "        -1.53411880e-01],\n",
      "       [ 2.00001802e-02,  9.95905221e-01, -1.23909122e-05,\n",
      "         6.26267958e-03],\n",
      "       [-5.69764438e-07, -5.87693080e-02,  1.00003278e+00,\n",
      "         3.81267816e-01],\n",
      "       [ 3.71733137e-07, -1.13821297e-03,  2.00367365e-02,\n",
      "         1.00111854e+00]], dtype=float32), 'B': array([[-2.2487126e-07],\n",
      "       [ 1.9629727e-01],\n",
      "       [ 2.1716911e-05],\n",
      "       [-2.9252878e-01]], dtype=float32)}\n"
     ]
    }
   ],
   "source": [
    "save_controller_dict = {\"K\": K, \"Target\": T, \"A\": A, \"B\": B}\n",
    "print(save_controller_dict)\n",
    "with open('./cartpole_system_model/controller.pkl', 'wb') as filepath:\n",
    "    pickle.dump(save_controller_dict, filepath)"
   ]
  },
  {
   "cell_type": "markdown",
   "id": "101b484d",
   "metadata": {},
   "source": [
    "## Testing"
   ]
  },
  {
   "cell_type": "code",
   "execution_count": 30,
   "id": "6b927288",
   "metadata": {},
   "outputs": [
    {
     "name": "stdout",
     "output_type": "stream",
     "text": [
      "1000.0\n"
     ]
    }
   ],
   "source": [
    "env = gym.make('CartPole-v0')\n",
    "x = env.reset()\n",
    "cumul_reward = 0\n",
    "for _ in range(1000):\n",
    "    u = np.matmul(K, x)\n",
    "    if u < 0.5:\n",
    "        u = 1\n",
    "    else:\n",
    "        u = 0\n",
    "    x, reward, done, _ = env.step(u)\n",
    "    cumul_reward += reward\n",
    "    if done:\n",
    "        x = env.reset()\n",
    "env.close()\n",
    "print(cumul_reward)"
   ]
  },
  {
   "cell_type": "code",
   "execution_count": null,
   "id": "9e5a8be1",
   "metadata": {},
   "outputs": [],
   "source": []
  }
 ],
 "metadata": {
  "kernelspec": {
   "display_name": "Python 3 (ipykernel)",
   "language": "python",
   "name": "python3"
  },
  "language_info": {
   "codemirror_mode": {
    "name": "ipython",
    "version": 3
   },
   "file_extension": ".py",
   "mimetype": "text/x-python",
   "name": "python",
   "nbconvert_exporter": "python",
   "pygments_lexer": "ipython3",
   "version": "3.8.12"
  }
 },
 "nbformat": 4,
 "nbformat_minor": 5
}
