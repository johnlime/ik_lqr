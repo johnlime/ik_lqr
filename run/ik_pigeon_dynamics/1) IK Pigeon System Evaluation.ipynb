{
 "cells": [
  {
   "cell_type": "markdown",
   "id": "29e460cd",
   "metadata": {},
   "source": [
    "# 1. IK Pigeon Evaluation"
   ]
  },
  {
   "cell_type": "code",
   "execution_count": 1,
   "id": "af15a131",
   "metadata": {},
   "outputs": [],
   "source": [
    "from env.ik_pigeon_gym import IKPigeon\n",
    "import tensorflow as tf\n",
    "import numpy as np\n",
    "import pickle\n",
    "\n",
    "import control\n",
    "from scipy.linalg import lu\n",
    "import math\n",
    "import cmath\n",
    "\n",
    "import matplotlib.pyplot as plt\n",
    "%matplotlib inline"
   ]
  },
  {
   "cell_type": "code",
   "execution_count": 2,
   "id": "6c1f081d",
   "metadata": {},
   "outputs": [
    {
     "name": "stderr",
     "output_type": "stream",
     "text": [
      "2022-04-27 12:56:14.893571: I tensorflow/core/platform/cpu_feature_guard.cc:151] This TensorFlow binary is optimized with oneAPI Deep Neural Network Library (oneDNN) to use the following CPU instructions in performance-critical operations:  SSE4.1 SSE4.2 AVX AVX2 FMA\n",
      "To enable them in other operations, rebuild TensorFlow with the appropriate compiler flags.\n"
     ]
    }
   ],
   "source": [
    "model = tf.keras.models.load_model(\n",
    "    './ik_pigeon_system_model', custom_objects=None, compile=True, options=None\n",
    ")"
   ]
  },
  {
   "cell_type": "code",
   "execution_count": 3,
   "id": "8df9cfc4",
   "metadata": {},
   "outputs": [
    {
     "name": "stdout",
     "output_type": "stream",
     "text": [
      "[array([[ 0.00017354,  0.00073336],\n",
      "       [-0.00042283,  0.00010426]], dtype=float32)]\n",
      "[array([[ 0.00488275, -0.00296334],\n",
      "       [ 0.00379593, -0.00418418],\n",
      "       [ 0.00234019, -0.00012673]], dtype=float32)]\n"
     ]
    }
   ],
   "source": [
    "np_weights = model.get_weights()\n",
    "print(model.A.get_weights())\n",
    "print(model.B.get_weights())"
   ]
  },
  {
   "cell_type": "code",
   "execution_count": 4,
   "id": "ae63602b",
   "metadata": {},
   "outputs": [
    {
     "name": "stdout",
     "output_type": "stream",
     "text": [
      "A Matrix\n",
      "[[ 0.00017354  0.00073336]\n",
      " [-0.00042283  0.00010426]]\n",
      "B Matrix\n",
      "[[ 0.00488275  0.00379593  0.00234019]\n",
      " [-0.00296334 -0.00418418 -0.00012673]]\n"
     ]
    }
   ],
   "source": [
    "A = np_weights[0]\n",
    "B = np_weights[1].T\n",
    "print(\"A Matrix\")\n",
    "print(A)\n",
    "print(\"B Matrix\")\n",
    "print(B)"
   ]
  },
  {
   "cell_type": "markdown",
   "id": "634dae0c",
   "metadata": {},
   "source": [
    "## Controllability"
   ]
  },
  {
   "cell_type": "code",
   "execution_count": 5,
   "id": "95b2a3eb",
   "metadata": {},
   "outputs": [
    {
     "name": "stdout",
     "output_type": "stream",
     "text": [
      "[[ 1.          0.        ]\n",
      " [-0.60689929  1.        ]]\n",
      "[[ 4.88274824e-03  3.79593414e-03  2.34018778e-03 -1.32581800e-06\n",
      "  -2.40974094e-06  3.13188504e-07]\n",
      " [ 0.00000000e+00 -1.88042743e-03  1.29353205e-03 -3.17816277e-06\n",
      "  -3.50375171e-06 -8.12631906e-07]]\n"
     ]
    }
   ],
   "source": [
    "# controllability matrix\n",
    "C_matrix = control.ctrb(A, B)\n",
    "\n",
    "# obtain rank via LU decomposition\n",
    "_, L_matrix, U_matrix = lu(C_matrix, permute_l = False)\n",
    "\n",
    "print(L_matrix)\n",
    "print(U_matrix)"
   ]
  },
  {
   "cell_type": "markdown",
   "id": "9f8d5f38",
   "metadata": {},
   "source": [
    "The controllability matrix is fully-ranked row and column-wise."
   ]
  },
  {
   "cell_type": "markdown",
   "id": "a193d5e9",
   "metadata": {},
   "source": [
    "## Controllability Gramian"
   ]
  },
  {
   "cell_type": "code",
   "execution_count": 6,
   "id": "beb45a4b",
   "metadata": {
    "scrolled": true
   },
   "outputs": [
    {
     "name": "stdout",
     "output_type": "stream",
     "text": [
      "[[ 4.37268329e-05 -3.06486420e-05]\n",
      " [-3.06486420e-05  2.63047715e-05]]\n",
      "Eigenvalue:  0\n",
      "6.68783399511202e-05\n",
      "Eigenvector\n",
      "[0.79793299 0.60274616]\n",
      "Eigenvalue:  1\n",
      "3.1532644077051677e-06\n",
      "Eigenvector\n",
      "[-0.60274616  0.79793299]\n"
     ]
    }
   ],
   "source": [
    "# gramian can be derived from the controllability matrix\n",
    "W_c = np.matmul(C_matrix, C_matrix.T)\n",
    "print(W_c)\n",
    "\n",
    "lambda_wc, xi_wc = np.linalg.eig(W_c)\n",
    "for i in range(len(lambda_wc)):\n",
    "    print(\"Eigenvalue: \", i)\n",
    "    print(lambda_wc[i])\n",
    "    print(\"Eigenvector\")\n",
    "    print(xi_wc[i])"
   ]
  },
  {
   "cell_type": "markdown",
   "id": "36c4ee1f",
   "metadata": {},
   "source": [
    "Visualization of the gramian is abridged, since it requires a projection of a 4-dimensional ellipsoid onto a 2-dimensional plane, which is out of the scope of this project."
   ]
  },
  {
   "cell_type": "code",
   "execution_count": 7,
   "id": "ef1b67b4",
   "metadata": {},
   "outputs": [],
   "source": [
    "# def gramian_2d_ellipoid_projection(eig_x, eig_y, eig_vec): \n",
    "#     # parameterized ellipsOID function\n",
    "#     # IMPORTANT: Cut the ellipsoid along a plane\n",
    "#     return cut_gramian"
   ]
  },
  {
   "cell_type": "code",
   "execution_count": 8,
   "id": "2d9f4f20",
   "metadata": {},
   "outputs": [],
   "source": [
    "# cart_gramian_ellipse = gramian_2d_ellipse(lambda_wc[0], lambda_wc[1], xi_wc[0])\n",
    "# measure eigenvector sizes projected onto xy-plane"
   ]
  }
 ],
 "metadata": {
  "kernelspec": {
   "display_name": "Python 3 (ipykernel)",
   "language": "python",
   "name": "python3"
  },
  "language_info": {
   "codemirror_mode": {
    "name": "ipython",
    "version": 3
   },
   "file_extension": ".py",
   "mimetype": "text/x-python",
   "name": "python",
   "nbconvert_exporter": "python",
   "pygments_lexer": "ipython3",
   "version": "3.8.12"
  }
 },
 "nbformat": 4,
 "nbformat_minor": 5
}
