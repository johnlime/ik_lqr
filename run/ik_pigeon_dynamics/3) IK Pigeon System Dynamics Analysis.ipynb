{
 "cells": [
  {
   "cell_type": "code",
   "execution_count": 1,
   "id": "29929559",
   "metadata": {},
   "outputs": [],
   "source": [
    "import pickle\n",
    "import numpy as np"
   ]
  },
  {
   "cell_type": "code",
   "execution_count": 3,
   "id": "8adafee7",
   "metadata": {},
   "outputs": [],
   "source": [
    "with open('./ik_pigeon_system_model/best_controller.pkl', 'rb') as filepath:\n",
    "    save_best_controller_dict = pickle.load(filepath)"
   ]
  },
  {
   "cell_type": "code",
   "execution_count": 4,
   "id": "9bfe390b",
   "metadata": {},
   "outputs": [
    {
     "name": "stdout",
     "output_type": "stream",
     "text": [
      "[[-5.92887116  0.08362335]\n",
      " [ 7.79842832 -0.16300581]]\n"
     ]
    }
   ],
   "source": [
    "T = save_best_controller_dict[\"Target\"]\n",
    "print(T)"
   ]
  },
  {
   "cell_type": "code",
   "execution_count": 5,
   "id": "702a9006",
   "metadata": {},
   "outputs": [
    {
     "name": "stdout",
     "output_type": "stream",
     "text": [
      "Eigenvalue:  0\n",
      "-6.039837534324964\n",
      "Eigenvector:  0\n",
      "[-0.60183426  0.79862102]\n",
      "\n",
      "\n",
      "Eigenvalue:  1\n",
      "-0.05203943358145674\n",
      "Eigenvector:  1\n",
      "[-0.01422789 -0.99989878]\n",
      "\n",
      "\n"
     ]
    }
   ],
   "source": [
    "w, V = np.linalg.eig(T)\n",
    "for i in range(len(w)):\n",
    "    print(\"Eigenvalue: \", i)\n",
    "    print(w[i])\n",
    "    print(\"Eigenvector: \", i)\n",
    "    print(V[:, i])\n",
    "    print(\"\\n\")"
   ]
  },
  {
   "cell_type": "markdown",
   "id": "3b53e39f",
   "metadata": {},
   "source": [
    "### X and Y End Effector Positions\n",
    "Both eigenvectors are real and negative. The trajectory should converge toward a stable fixed point."
   ]
  },
  {
   "cell_type": "code",
   "execution_count": 6,
   "id": "182aeac8",
   "metadata": {},
   "outputs": [],
   "source": [
    "import matplotlib.pyplot as plt"
   ]
  },
  {
   "cell_type": "code",
   "execution_count": 8,
   "id": "6a9f6203",
   "metadata": {},
   "outputs": [
    {
     "data": {
      "image/png": "[encoded data removed]",
      "text/plain": [
       "<Figure size 432x288 with 1 Axes>"
      ]
     },
     "metadata": {
      "needs_background": "light"
     },
     "output_type": "display_data"
    }
   ],
   "source": [
    "x_pos_x = [V[0, 0] * -10, V[0, 0] * 10]\n",
    "x_pos_y = [V[1, 0] * -10, V[1, 0] * 10]\n",
    "plt.plot(x_pos_x, x_pos_y, label = \"X eigenvector\")\n",
    "\n",
    "y_pos_x = [V[0, 1] * -10, V[0, 1] * 10]\n",
    "y_pos_y = [V[1, 1] * -10, V[1, 1] * 10]\n",
    "plt.plot(y_pos_x, y_pos_y, label = \"Y eigenvector\")\n",
    "\n",
    "plt.plot([-8, 8], [0, 0], color = \"black\")\n",
    "plt.plot([0, 0], [-8, 8], color = \"black\")\n",
    "\n",
    "plt.xlabel(r\"$x$\")\n",
    "plt.ylabel(r\"$y$\")\n",
    "\n",
    "plt.legend()\n",
    "plt.show()"
   ]
  },
  {
   "cell_type": "code",
   "execution_count": null,
   "id": "0944abc1",
   "metadata": {},
   "outputs": [],
   "source": []
  }
 ],
 "metadata": {
  "kernelspec": {
   "display_name": "Python 3 (ipykernel)",
   "language": "python",
   "name": "python3"
  },
  "language_info": {
   "codemirror_mode": {
    "name": "ipython",
    "version": 3
   },
   "file_extension": ".py",
   "mimetype": "text/x-python",
   "name": "python",
   "nbconvert_exporter": "python",
   "pygments_lexer": "ipython3",
   "version": "3.8.12"
  }
 },
 "nbformat": 4,
 "nbformat_minor": 5
}
