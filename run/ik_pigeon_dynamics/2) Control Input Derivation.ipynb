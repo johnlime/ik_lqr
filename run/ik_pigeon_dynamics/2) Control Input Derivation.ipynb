{
 "cells": [
  {
   "cell_type": "markdown",
   "id": "aa53a653",
   "metadata": {},
   "source": [
    "# 2. Control Input Derivation"
   ]
  },
  {
   "cell_type": "code",
   "execution_count": 1,
   "id": "6116f0ae",
   "metadata": {},
   "outputs": [],
   "source": [
    "from env.ik_pigeon_gym import IKPigeon\n",
    "import numpy as np\n",
    "import tensorflow as tf\n",
    "import pickle"
   ]
  },
  {
   "cell_type": "markdown",
   "id": "61ef17b1",
   "metadata": {},
   "source": [
    "## Import matrices for linear control systems"
   ]
  },
  {
   "cell_type": "code",
   "execution_count": 2,
   "id": "35084d75",
   "metadata": {},
   "outputs": [
    {
     "name": "stderr",
     "output_type": "stream",
     "text": [
      "2022-04-27 12:57:00.395881: I tensorflow/core/platform/cpu_feature_guard.cc:151] This TensorFlow binary is optimized with oneAPI Deep Neural Network Library (oneDNN) to use the following CPU instructions in performance-critical operations:  SSE4.1 SSE4.2 AVX AVX2 FMA\n",
      "To enable them in other operations, rebuild TensorFlow with the appropriate compiler flags.\n"
     ]
    }
   ],
   "source": [
    "model = tf.keras.models.load_model(\n",
    "    './ik_pigeon_system_model', custom_objects=None, compile=True, options=None\n",
    ")"
   ]
  },
  {
   "cell_type": "code",
   "execution_count": 3,
   "id": "7bf8d811",
   "metadata": {},
   "outputs": [
    {
     "name": "stdout",
     "output_type": "stream",
     "text": [
      "[array([[ 0.00017354,  0.00073336],\n",
      "       [-0.00042283,  0.00010426]], dtype=float32)]\n",
      "[array([[ 0.00488275, -0.00296334],\n",
      "       [ 0.00379593, -0.00418418],\n",
      "       [ 0.00234019, -0.00012673]], dtype=float32)]\n"
     ]
    }
   ],
   "source": [
    "np_weights = model.get_weights()\n",
    "print(model.A.get_weights())\n",
    "print(model.B.get_weights())"
   ]
  },
  {
   "cell_type": "code",
   "execution_count": 4,
   "id": "84fea393",
   "metadata": {},
   "outputs": [
    {
     "name": "stdout",
     "output_type": "stream",
     "text": [
      "A Matrix\n",
      "[[ 0.00017354  0.00073336]\n",
      " [-0.00042283  0.00010426]]\n",
      "B Matrix\n",
      "[[ 0.00488275  0.00379593  0.00234019]\n",
      " [-0.00296334 -0.00418418 -0.00012673]]\n"
     ]
    }
   ],
   "source": [
    "A = np_weights[0]\n",
    "B = np_weights[1].T\n",
    "print(\"A Matrix\")\n",
    "print(A)\n",
    "print(\"B Matrix\")\n",
    "print(B)"
   ]
  },
  {
   "cell_type": "markdown",
   "id": "b6f7c411",
   "metadata": {},
   "source": [
    "## Deriving K"
   ]
  },
  {
   "cell_type": "markdown",
   "id": "d2f7f3ec",
   "metadata": {},
   "source": [
    "Rewrite the control system equation using $u = - Kx$.\n",
    "\n",
    "$$\n",
    "\\begin{align}\n",
    "    \\dot x &= Ax - Bu \\\\\n",
    "    \\dot x &= Ax - BKx \\\\\n",
    "\\end{align}\n",
    "$$\n",
    "\n",
    "Define the target control system with the desired eigenvalue and eigenvector placements as $\\dot x = Tx$.\n",
    "\n",
    "Derive the state space to control input transformation $K$.\n",
    "\n",
    "$$\n",
    "\\begin{align}\n",
    "    \\dot x \n",
    "        &= Tx \\\\\n",
    "        &= Ax - BKx \\\\\n",
    "    Tx &= Ax - BKx \\\\\n",
    "    T &= A - BK \\\\\n",
    "    K &= - B^{-1}_{left} (T - A) \\\\\n",
    "\\end{align}\n",
    "$$\n",
    "\n",
    "where $B^{-1}_{left}$ is the left inverse of $B$, which can be derived as,\n",
    "\n",
    "$$\n",
    "\\begin{align}\n",
    "    (A^T A)^{-1} A^T A &= I \\\\\n",
    "    (A^T A)^{-1} A^T &= A^{-1}_{left} \\\\\n",
    "\\end{align}\n",
    "$$\n",
    "\n",
    "since $A^{-1}_{left} A = I$."
   ]
  },
  {
   "cell_type": "code",
   "execution_count": 5,
   "id": "5c43520c",
   "metadata": {},
   "outputs": [
    {
     "name": "stdout",
     "output_type": "stream",
     "text": [
      "Eigenvalues\n",
      "[0.0001389+0.00055577j 0.0001389-0.00055577j]\n",
      "Eigenvectors\n",
      "[[ 0.7964243 +0.j        0.7964243 -0.j      ]\n",
      " [-0.03761833+0.603567j -0.03761833-0.603567j]]\n"
     ]
    }
   ],
   "source": [
    "L, V = np.linalg.eig(A)\n",
    "print(\"Eigenvalues\")\n",
    "print(L)\n",
    "print(\"Eigenvectors\")\n",
    "print(V)"
   ]
  },
  {
   "cell_type": "code",
   "execution_count": 6,
   "id": "07b20f5c",
   "metadata": {},
   "outputs": [
    {
     "name": "stdout",
     "output_type": "stream",
     "text": [
      "K Matrix\n",
      "[[  619.55223128 -2058.79562157]\n",
      " [  876.89751223   644.12984264]\n",
      " [ 1069.23718544  1785.36656879]]\n"
     ]
    }
   ],
   "source": [
    "# Define desirable T = A - BK (test)\n",
    "T = np.diag((-2, -2))\n",
    "\n",
    "# calculate K\n",
    "B_left_inv = np.matmul(np.linalg.inv(np.matmul(B.T, B)), B.T)\n",
    "K = - np.matmul(B_left_inv, (T - A))\n",
    "print(\"K Matrix\")\n",
    "print(K)"
   ]
  },
  {
   "cell_type": "code",
   "execution_count": 7,
   "id": "51a6d3f1",
   "metadata": {},
   "outputs": [
    {
     "name": "stdout",
     "output_type": "stream",
     "text": [
      "{'K': array([[  619.55223128, -2058.79562157],\n",
      "       [  876.89751223,   644.12984264],\n",
      "       [ 1069.23718544,  1785.36656879]]), 'Target': array([[-2,  0],\n",
      "       [ 0, -2]]), 'A': array([[ 0.00017354,  0.00073336],\n",
      "       [-0.00042283,  0.00010426]], dtype=float32), 'B': array([[ 0.00488275,  0.00379593,  0.00234019],\n",
      "       [-0.00296334, -0.00418418, -0.00012673]], dtype=float32)}\n"
     ]
    }
   ],
   "source": [
    "save_controller_dict = {\"K\": K, \"Target\": T, \"A\": A, \"B\": B}\n",
    "print(save_controller_dict)\n",
    "with open('./ik_pigeon_system_model/controller.pkl', 'wb') as filepath:\n",
    "    pickle.dump(save_controller_dict, filepath, protocol=pickle.HIGHEST_PROTOCOL)"
   ]
  },
  {
   "cell_type": "markdown",
   "id": "101b484d",
   "metadata": {},
   "source": [
    "## Testing"
   ]
  },
  {
   "cell_type": "code",
   "execution_count": 8,
   "id": "5fd09217",
   "metadata": {},
   "outputs": [],
   "source": [
    "with open('./ik_pigeon_system_model/controller.pkl', 'rb') as filepath:\n",
    "    controller_dict = pickle.load(filepath)\n",
    "K = controller_dict['K']"
   ]
  },
  {
   "cell_type": "markdown",
   "id": "a487315d",
   "metadata": {},
   "source": [
    "Plug in $u = -Kx$"
   ]
  },
  {
   "cell_type": "code",
   "execution_count": 11,
   "id": "6b927288",
   "metadata": {},
   "outputs": [
    {
     "name": "stdout",
     "output_type": "stream",
     "text": [
      "0\n"
     ]
    }
   ],
   "source": [
    "env = IKPigeon()\n",
    "obs = env.reset()\n",
    "x = obs[-2:] - obs[:2]\n",
    "cumul_reward = 0\n",
    "for _ in range(1000):\n",
    "    u = np.matmul(-K, x)\n",
    "    obs, reward, done, _ = env.step(u.astype(np.float32))\n",
    "    x = obs[-2:] - obs[:2]\n",
    "    cumul_reward += reward\n",
    "    if done:\n",
    "        break\n",
    "env.close()\n",
    "print(cumul_reward)"
   ]
  },
  {
   "cell_type": "markdown",
   "id": "364879c0",
   "metadata": {},
   "source": [
    "## Optimizing T"
   ]
  },
  {
   "cell_type": "code",
   "execution_count": 12,
   "id": "9e452cf7",
   "metadata": {},
   "outputs": [],
   "source": [
    "import cma"
   ]
  },
  {
   "cell_type": "code",
   "execution_count": 16,
   "id": "8b041f3a",
   "metadata": {},
   "outputs": [],
   "source": [
    "# A, B, and B_left_inv matrices are global\n",
    "def ik_pigeon_loss(target_matrix):\n",
    "    # row-major target matrix to T\n",
    "    selected_T = tf.reshape(target_matrix, [2, 2])\n",
    "    \n",
    "    # compute K given T\n",
    "    selected_K = - np.matmul(B_left_inv, selected_T - A)\n",
    "    \n",
    "    # ik_pigeon simulation\n",
    "    env = IKPigeon()\n",
    "    obs = env.reset()\n",
    "    x = obs[-2:] - obs[:2]\n",
    "    cumul_loss = 500\n",
    "    for _ in range(500):\n",
    "        u = np.matmul(-selected_K, x)\n",
    "        obs, reward, done, _ = env.step(u.astype(np.float32))\n",
    "        x = obs[-2:] - obs[:2]\n",
    "        cumul_loss -= reward\n",
    "        if done:\n",
    "            break\n",
    "    env.close()\n",
    "    return cumul_loss"
   ]
  },
  {
   "cell_type": "code",
   "execution_count": 17,
   "id": "c4066371",
   "metadata": {},
   "outputs": [
    {
     "name": "stdout",
     "output_type": "stream",
     "text": [
      "(4_w,8)-aCMA-ES (mu_w=2.6,w_1=52%) in dimension 4 (seed=133011, Wed Apr 27 12:59:33 2022)\n",
      "Iterat #Fevals   function value  axis ratio  sigma  min&max std  t[m:s]\n",
      "    1      8 4.960331582435443e+02 1.0e+00 1.24e+00  1e+00  1e+00 0:00.7\n",
      "    2     16 3.286291328665128e+02 1.4e+00 1.41e+00  1e+00  2e+00 0:01.4\n",
      "    3     24 4.819561641377970e+02 1.5e+00 1.44e+00  1e+00  2e+00 0:02.1\n",
      "    8     64 4.474965162990890e+02 1.9e+00 9.40e-01  5e-01  1e+00 0:05.5\n",
      "   14    112 4.491609869476628e+02 2.7e+00 7.45e-01  3e-01  8e-01 0:09.5\n",
      "   22    176 2.889777809680794e+02 4.0e+00 8.66e-01  4e-01  9e-01 0:14.9\n",
      "   31    248 3.019189611361086e+02 8.3e+00 7.76e-01  2e-01  9e-01 0:20.9\n",
      "   42    336 2.454852045119106e+02 9.1e+00 7.07e-01  2e-01  8e-01 0:28.4\n",
      "   54    432 3.038996350001189e+02 9.2e+00 4.90e-01  9e-02  6e-01 0:36.4\n",
      "   68    544 2.960593520427893e+02 1.2e+01 7.61e-01  1e-01  6e-01 0:45.8\n",
      "   83    664 2.349383738808644e+02 1.7e+01 4.12e-01  5e-02  3e-01 0:55.9\n",
      "   99    792 2.204720300155228e+02 2.3e+01 3.55e-01  3e-02  2e-01 1:07.1\n",
      "  100    800 2.097463370849572e+02 2.2e+01 2.87e-01  2e-02  2e-01 1:07.7\n",
      "  119    952 2.603433362419262e+02 2.0e+01 1.21e-01  5e-03  4e-02 1:21.2\n",
      "  140   1120 2.962013112330462e+02 2.0e+01 2.14e-01  8e-03  6e-02 1:35.8\n",
      "  162   1296 2.501014045422969e+02 4.2e+01 1.57e-01  3e-03  4e-02 1:51.1\n",
      "  186   1488 2.342861234707764e+02 7.5e+01 2.13e-01  4e-03  5e-02 2:07.4\n",
      "  200   1600 2.434976991457017e+02 1.9e+02 2.60e-01  7e-03  9e-02 2:16.8\n",
      "  226   1808 2.414258764633302e+02 1.7e+02 1.76e-01  2e-03  4e-02 2:35.0\n",
      "  252   2016 2.865810339505161e+02 1.8e+02 1.75e-01  3e-03  4e-02 2:54.7\n",
      "  277   2216 2.597358801582682e+02 2.0e+02 8.68e-02  8e-04  1e-02 3:15.2\n",
      "  300   2400 2.277456513967457e+02 1.2e+02 4.73e-01  3e-03  5e-02 3:32.6\n",
      "  329   2632 2.215310866474138e+02 1.5e+02 8.38e-02  2e-04  4e-03 3:54.9\n",
      "  361   2888 2.575641611535027e+02 3.0e+02 2.32e-02  4e-05  8e-04 4:18.0\n",
      "  397   3176 2.135944402407163e+02 4.1e+02 2.01e-02  2e-05  2e-04 4:42.1\n",
      "  400   3200 1.969525943537662e+02 4.3e+02 1.98e-02  1e-05  2e-04 4:44.2\n",
      "  439   3512 2.126528931213325e+02 4.7e+02 5.73e-03  2e-06  3e-05 5:10.2\n",
      "  480   3840 2.505487070116681e+02 4.5e+02 2.36e-03  4e-07  6e-06 5:37.6\n",
      "  500   4000 2.100122280107205e+02 7.4e+02 2.38e-03  3e-07  5e-06 5:51.0\n",
      "  544   4352 1.931819300365074e+02 3.5e+03 7.06e-04  1e-07  2e-06 6:20.6\n",
      "  589   4712 2.295847148309137e+02 1.4e+04 5.86e-04  1e-07  2e-06 6:51.2\n",
      "  600   4800 1.915974262866802e+02 3.1e+04 1.36e-03  4e-07  5e-06 6:58.7\n",
      "  648   5184 1.910550514848792e+02 8.1e+04 5.03e-03  7e-07  8e-06 7:30.8\n",
      "  680   5440 2.310146885374779e+02 6.0e+04 4.23e-03  4e-07  3e-06 7:52.3\n"
     ]
    }
   ],
   "source": [
    "init_T = np.reshape(np.diag((-2, -2)), [4, ])\n",
    "es = cma.CMAEvolutionStrategy(init_T, 1.0)\n",
    "with open('./ik_pigeon_system_model/cma_es_history_T.pkl', 'wb') as filepath:\n",
    "    pickle.dump(es, filepath)\n",
    "\n",
    "while not es.stop():\n",
    "    solutions = es.ask()\n",
    "    es.tell(solutions, [ik_pigeon_loss(x) for x in solutions])\n",
    "    es.logger.add()  # write data to disc to be plotted\n",
    "    es.disp()\n",
    "with open('./ik_pigeon_system_model/cma_es_history_T.pkl', 'wb') as filepath:\n",
    "    pickle.dump(es, filepath)"
   ]
  },
  {
   "cell_type": "code",
   "execution_count": 18,
   "id": "118b0bbd",
   "metadata": {},
   "outputs": [
    {
     "name": "stdout",
     "output_type": "stream",
     "text": [
      "termination on tolstagnation=198\n",
      "final/bestever f-value = 2.310147e+02 1.706445e+02\n",
      "incumbent solution: [-7.090622828022079, 0.1432974334121783, 9.355882025902808, -0.4471401000363292]\n",
      "std deviation: [2.1120798083771906e-06, 1.0174514510273293e-06, 3.1430121787670838e-06, 4.02015959926638e-07]\n"
     ]
    },
    {
     "data": {
      "text/plain": [
       "<cma.logger.CMADataLogger at 0x7fe1cf7d4a90>"
      ]
     },
     "execution_count": 18,
     "metadata": {},
     "output_type": "execute_result"
    },
    {
     "data": {
      "image/png": "[encoded data removed]",
      "text/plain": [
       "<Figure size 432x288 with 4 Axes>"
      ]
     },
     "metadata": {
      "needs_background": "light"
     },
     "output_type": "display_data"
    }
   ],
   "source": [
    "es.result_pretty()\n",
    "cma.plot()  # shortcut for es.logger.plot()"
   ]
  },
  {
   "cell_type": "code",
   "execution_count": 19,
   "id": "e31ac14a",
   "metadata": {},
   "outputs": [
    {
     "name": "stdout",
     "output_type": "stream",
     "text": [
      "<cma.evolution_strategy.CMAEvolutionStrategy object at 0x7fe1cf7e2130>\n"
     ]
    }
   ],
   "source": [
    "with open('./ik_pigeon_system_model/cma_es_history_T.pkl', 'rb') as filepath:\n",
    "    es = pickle.load(filepath)\n",
    "print(es)"
   ]
  },
  {
   "cell_type": "code",
   "execution_count": null,
   "id": "c9447ab7",
   "metadata": {},
   "outputs": [],
   "source": [
    "dir(es)"
   ]
  },
  {
   "cell_type": "code",
   "execution_count": 21,
   "id": "da069936",
   "metadata": {},
   "outputs": [
    {
     "name": "stdout",
     "output_type": "stream",
     "text": [
      "[-5.92887116  0.08362335  7.79842832 -0.16300581]\n",
      "170.64454405230865\n"
     ]
    }
   ],
   "source": [
    "print(es.result.xbest)\n",
    "print(es.result.fbest)"
   ]
  },
  {
   "cell_type": "code",
   "execution_count": 22,
   "id": "86213021",
   "metadata": {},
   "outputs": [
    {
     "name": "stdout",
     "output_type": "stream",
     "text": [
      "{'K': array([[ 9863.81369853,  -193.57198669],\n",
      "       [   89.40856325,    16.15756925],\n",
      "       [-3789.39090454,   101.23973978]]), 'Target': array([[-5.92887116,  0.08362335],\n",
      "       [ 7.79842832, -0.16300581]]), 'A': array([[ 0.00017354,  0.00073336],\n",
      "       [-0.00042283,  0.00010426]], dtype=float32), 'B': array([[ 0.00488275,  0.00379593,  0.00234019],\n",
      "       [-0.00296334, -0.00418418, -0.00012673]], dtype=float32)}\n"
     ]
    }
   ],
   "source": [
    "best_T = np.reshape(es.result.xbest, [2, 2])\n",
    "best_K = - np.matmul(B_left_inv, best_T - A)\n",
    "\n",
    "save_best_controller_dict = {\"K\": best_K, \"Target\": best_T, \"A\": A, \"B\": B}\n",
    "print(save_best_controller_dict)\n",
    "with open('./ik_pigeon_system_model/best_controller.pkl', 'wb') as filepath:\n",
    "    pickle.dump(save_best_controller_dict, filepath, protocol=pickle.HIGHEST_PROTOCOL)"
   ]
  },
  {
   "cell_type": "code",
   "execution_count": null,
   "id": "7374ed58",
   "metadata": {},
   "outputs": [],
   "source": []
  }
 ],
 "metadata": {
  "kernelspec": {
   "display_name": "Python 3 (ipykernel)",
   "language": "python",
   "name": "python3"
  },
  "language_info": {
   "codemirror_mode": {
    "name": "ipython",
    "version": 3
   },
   "file_extension": ".py",
   "mimetype": "text/x-python",
   "name": "python",
   "nbconvert_exporter": "python",
   "pygments_lexer": "ipython3",
   "version": "3.8.12"
  }
 },
 "nbformat": 4,
 "nbformat_minor": 5
}
