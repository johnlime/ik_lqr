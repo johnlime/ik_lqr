{
 "cells": [
  {
   "cell_type": "markdown",
   "id": "da1ea257",
   "metadata": {},
   "source": [
    "# Linear Quadratic Regulator"
   ]
  },
  {
   "cell_type": "code",
   "execution_count": 1,
   "id": "4113405d",
   "metadata": {},
   "outputs": [],
   "source": [
    "from env.ik_pigeon_gym import IKPigeon\n",
    "import tensorflow as tf\n",
    "import numpy as np\n",
    "import pickle\n",
    "import control"
   ]
  },
  {
   "cell_type": "code",
   "execution_count": 2,
   "id": "e3186bab",
   "metadata": {},
   "outputs": [
    {
     "name": "stdout",
     "output_type": "stream",
     "text": [
      "A Matrix\n",
      "[[ 0.00017354  0.00073336]\n",
      " [-0.00042283  0.00010426]]\n",
      "B Matrix\n",
      "[[ 0.00488275  0.00379593  0.00234019]\n",
      " [-0.00296334 -0.00418418 -0.00012673]]\n"
     ]
    },
    {
     "name": "stderr",
     "output_type": "stream",
     "text": [
      "2022-04-27 13:27:36.529488: I tensorflow/core/platform/cpu_feature_guard.cc:151] This TensorFlow binary is optimized with oneAPI Deep Neural Network Library (oneDNN) to use the following CPU instructions in performance-critical operations:  SSE4.1 SSE4.2 AVX AVX2 FMA\n",
      "To enable them in other operations, rebuild TensorFlow with the appropriate compiler flags.\n"
     ]
    }
   ],
   "source": [
    "model = tf.keras.models.load_model(\n",
    "    './ik_pigeon_system_model', custom_objects=None, compile=True, options=None\n",
    ")\n",
    "np_weights = model.get_weights()\n",
    "\n",
    "A = np_weights[0]\n",
    "B = np_weights[1].T\n",
    "print(\"A Matrix\")\n",
    "print(A)\n",
    "print(\"B Matrix\")\n",
    "print(B)"
   ]
  },
  {
   "cell_type": "code",
   "execution_count": 3,
   "id": "43aa5943",
   "metadata": {},
   "outputs": [],
   "source": [
    "def ik_pigeon_simulation(K):\n",
    "    env = IKPigeon()\n",
    "    obs = env.reset()\n",
    "    x = obs[-2:] - obs[:2]\n",
    "    cumul_reward = 0\n",
    "    for _ in range(500):\n",
    "        u = np.matmul(-K, x)\n",
    "        obs, reward, done, _ = env.step(u.astype(np.float32))\n",
    "        x = obs[-2:] - obs[:2]\n",
    "        cumul_reward += reward\n",
    "        if done:\n",
    "            break\n",
    "    env.close()\n",
    "    return cumul_reward"
   ]
  },
  {
   "cell_type": "markdown",
   "id": "1e9bfb77",
   "metadata": {},
   "source": [
    "## Continuous Algebraic Ricatti Equation"
   ]
  },
  {
   "cell_type": "markdown",
   "id": "f8118ce1",
   "metadata": {},
   "source": [
    "We define a cost function for observation/state spaces $x$ and control inputs $u$.\n",
    "\n",
    "$x^T Qx + u^T Ru$,\n",
    "\n",
    "with $Q$ as the state space weight and $R$ as the control input space weight.\n",
    "\n",
    "Infinite-horizon continuous algebraic Ricatti equation (CARE):\n",
    "\n",
    "$Q - S(t)B R^{-1} B^T S(t) + S(t)A + A^T S(t) = 0$\n",
    "\n",
    "The K gain can be derived as\n",
    "\n",
    "$K = R^{-1} B^T S(t)$, \n",
    "\n",
    "which can be used for the control input $u = -Kx$."
   ]
  },
  {
   "cell_type": "code",
   "execution_count": 5,
   "id": "82bbfe0f",
   "metadata": {},
   "outputs": [
    {
     "name": "stdout",
     "output_type": "stream",
     "text": [
      "Solution\n",
      "[[ 903.49578191  705.39696841]\n",
      " [ 705.39696841 1349.6536496 ]] \n",
      "\n",
      "Eigenvalues\n",
      "[-0.02584197 -0.00565061] \n",
      "\n",
      "K (Gain)\n",
      "[[ 2.32121391 -0.55520201]\n",
      " [ 0.47810461 -2.96954952]\n",
      " [ 2.02495749  1.47972483]] \n",
      "\n"
     ]
    }
   ],
   "source": [
    "Q = np.diag([10, 10])\n",
    "\n",
    "# R (control input gain) is set as the identity matrix\n",
    "S, Lambda_S, K_gain = control.care(A, B, Q, R=None)\n",
    "\n",
    "print(\"Solution\")\n",
    "print(S, \"\\n\")\n",
    "\n",
    "print(\"Eigenvalues\")\n",
    "print(Lambda_S, \"\\n\")\n",
    "\n",
    "print(\"K (Gain)\")\n",
    "print(K_gain, \"\\n\")"
   ]
  },
  {
   "cell_type": "code",
   "execution_count": 6,
   "id": "d34b496f",
   "metadata": {},
   "outputs": [
    {
     "data": {
      "text/plain": [
       "0"
      ]
     },
     "execution_count": 6,
     "metadata": {},
     "output_type": "execute_result"
    }
   ],
   "source": [
    "ik_pigeon_simulation(K_gain)"
   ]
  },
  {
   "cell_type": "markdown",
   "id": "0283ef0d",
   "metadata": {},
   "source": [
    "It seems that despite the aforementioned indication of a continuous control system, DARE performs much better."
   ]
  },
  {
   "cell_type": "code",
   "execution_count": 7,
   "id": "17eee49b",
   "metadata": {},
   "outputs": [
    {
     "name": "stdout",
     "output_type": "stream",
     "text": [
      "{'K': array([[ 2.32121391, -0.55520201],\n",
      "       [ 0.47810461, -2.96954952],\n",
      "       [ 2.02495749,  1.47972483]]), 'S': array([[ 903.49578191,  705.39696841],\n",
      "       [ 705.39696841, 1349.6536496 ]]), 'A': array([[ 0.00017354,  0.00073336],\n",
      "       [-0.00042283,  0.00010426]], dtype=float32), 'B': array([[ 0.00488275,  0.00379593,  0.00234019],\n",
      "       [-0.00296334, -0.00418418, -0.00012673]], dtype=float32)}\n"
     ]
    }
   ],
   "source": [
    "save_care_controller_dict = {\"K\": K_gain, \"S\": S, \"A\": A, \"B\": B}\n",
    "print(save_care_controller_dict)\n",
    "with open('./ik_pigeon_system_model/care_controller.pkl', 'wb') as filepath:\n",
    "    pickle.dump(save_care_controller_dict, filepath, protocol=pickle.HIGHEST_PROTOCOL)"
   ]
  },
  {
   "cell_type": "markdown",
   "id": "8fa333ac",
   "metadata": {},
   "source": [
    "## Optimizing Q for CARE"
   ]
  },
  {
   "cell_type": "code",
   "execution_count": 8,
   "id": "7b7468b9",
   "metadata": {},
   "outputs": [],
   "source": [
    "import cma"
   ]
  },
  {
   "cell_type": "code",
   "execution_count": 9,
   "id": "a63fa0db",
   "metadata": {},
   "outputs": [],
   "source": [
    "# A and B are global variables\n",
    "def ik_pigeon_loss(q_diag):\n",
    "    Q = np.diag(q_diag)\n",
    "    _, _, K = control.dare(A, B, Q, R=None)\n",
    "    \n",
    "    # ik_pigeon simulation\n",
    "    env = IKPigeon()\n",
    "    obs = env.reset()\n",
    "    x = obs[-2:] - obs[:2]\n",
    "    cumul_loss = 500\n",
    "    for _ in range(500):\n",
    "        u = np.matmul(-K, x)\n",
    "        obs, reward, done, _ = env.step(u.astype(np.float32))\n",
    "        x = obs[-2:] - obs[:2]\n",
    "        cumul_loss -= reward\n",
    "        if done:\n",
    "            break\n",
    "    env.close()\n",
    "    return cumul_loss"
   ]
  },
  {
   "cell_type": "code",
   "execution_count": 10,
   "id": "38ac27d4",
   "metadata": {},
   "outputs": [
    {
     "name": "stdout",
     "output_type": "stream",
     "text": [
      "(3_w,6)-aCMA-ES (mu_w=2.0,w_1=63%) in dimension 2 (seed=212368, Wed Apr 27 13:28:02 2022)\n",
      "Iterat #Fevals   function value  axis ratio  sigma  min&max std  t[m:s]\n",
      "    1      6 5.000000000000000e+02 1.0e+00 1.19e+00  1e+00  1e+00 0:00.6\n"
     ]
    }
   ],
   "source": [
    "es = cma.CMAEvolutionStrategy((10, 10), 1.0)\n",
    "with open('./ik_pigeon_system_model/cma_es_history_Q.pkl', 'wb') as filepath:\n",
    "    pickle.dump(es, filepath)\n",
    "\n",
    "while not es.stop():\n",
    "    solutions = es.ask()\n",
    "    es.tell(solutions, [ik_pigeon_loss(x) for x in solutions])\n",
    "    es.logger.add()  # write data to disc to be plotted\n",
    "    es.disp()\n",
    "with open('./ik_pigeon_system_model/cma_es_history_Q.pkl', 'wb') as filepath:\n",
    "    pickle.dump(es, filepath)"
   ]
  },
  {
   "cell_type": "code",
   "execution_count": 11,
   "id": "5a938e9e",
   "metadata": {},
   "outputs": [
    {
     "name": "stdout",
     "output_type": "stream",
     "text": [
      "termination on tolfun=1e-11\n",
      "final/bestever f-value = 5.000000e+02 5.000000e+02\n",
      "incumbent solution: [9.579325295334439, 8.615825899144827]\n",
      "std deviation: [1.127035320496861, 1.4141993108656037]\n",
      "not enough data to plot recent x\n",
      "nothing to plot\n"
     ]
    },
    {
     "data": {
      "text/plain": [
       "<cma.logger.CMADataLogger at 0x7ff90e082e20>"
      ]
     },
     "execution_count": 11,
     "metadata": {},
     "output_type": "execute_result"
    }
   ],
   "source": [
    "with open('./ik_pigeon_system_model/cma_es_history_Q.pkl', 'rb') as filepath:\n",
    "    es = pickle.load(filepath)\n",
    "es.result_pretty()\n",
    "cma.plot()"
   ]
  },
  {
   "cell_type": "code",
   "execution_count": 12,
   "id": "6af8c58c",
   "metadata": {},
   "outputs": [
    {
     "name": "stdout",
     "output_type": "stream",
     "text": [
      "[9.1343769  8.63657914]\n",
      "500\n"
     ]
    }
   ],
   "source": [
    "print(es.result.xbest)\n",
    "print(es.result.fbest)"
   ]
  },
  {
   "cell_type": "code",
   "execution_count": 13,
   "id": "1f8f4193",
   "metadata": {},
   "outputs": [],
   "source": [
    "Q = np.diag(es.result.xbest)"
   ]
  },
  {
   "cell_type": "code",
   "execution_count": 14,
   "id": "f0f6cdbb",
   "metadata": {},
   "outputs": [
    {
     "name": "stdout",
     "output_type": "stream",
     "text": [
      "Solution\n",
      "[[ 859.47225842  666.69924992]\n",
      " [ 666.69924992 1266.77216205]] \n",
      "\n",
      "Eigenvalues\n",
      "[-0.02445074 -0.00530872] \n",
      "\n",
      "K (Gain)\n",
      "[[ 2.22093249 -0.49854749]\n",
      " [ 0.47291233 -2.76965268]\n",
      " [ 1.92683819  1.39966817]] \n",
      "\n"
     ]
    }
   ],
   "source": [
    "# R (control input gain) is set as the identity matrix\n",
    "S, Lambda_S, K_gain = control.care(A, B, Q, R=None)\n",
    "\n",
    "print(\"Solution\")\n",
    "print(S, \"\\n\")\n",
    "\n",
    "print(\"Eigenvalues\")\n",
    "print(Lambda_S, \"\\n\")\n",
    "\n",
    "print(\"K (Gain)\")\n",
    "print(K_gain, \"\\n\")"
   ]
  },
  {
   "cell_type": "code",
   "execution_count": 15,
   "id": "916305df",
   "metadata": {},
   "outputs": [
    {
     "data": {
      "text/plain": [
       "0"
      ]
     },
     "execution_count": 15,
     "metadata": {},
     "output_type": "execute_result"
    }
   ],
   "source": [
    "ik_pigeon_simulation(K_gain)"
   ]
  },
  {
   "cell_type": "code",
   "execution_count": 16,
   "id": "268cd93b",
   "metadata": {},
   "outputs": [
    {
     "name": "stdout",
     "output_type": "stream",
     "text": [
      "{'K': array([[ 2.22093249, -0.49854749],\n",
      "       [ 0.47291233, -2.76965268],\n",
      "       [ 1.92683819,  1.39966817]]), 'S': array([[ 859.47225842,  666.69924992],\n",
      "       [ 666.69924992, 1266.77216205]]), 'A': array([[ 0.00017354,  0.00073336],\n",
      "       [-0.00042283,  0.00010426]], dtype=float32), 'B': array([[ 0.00488275,  0.00379593,  0.00234019],\n",
      "       [-0.00296334, -0.00418418, -0.00012673]], dtype=float32)}\n"
     ]
    }
   ],
   "source": [
    "save_care_controller_dict = {\"K\": K_gain, \"S\": S, \"A\": A, \"B\": B}\n",
    "print(save_care_controller_dict)\n",
    "with open('./ik_pigeon_system_model/best_care_controller.pkl', 'wb') as filepath:\n",
    "    pickle.dump(save_care_controller_dict, filepath, protocol=pickle.HIGHEST_PROTOCOL)"
   ]
  },
  {
   "cell_type": "code",
   "execution_count": null,
   "id": "ec5dfe2a",
   "metadata": {},
   "outputs": [],
   "source": []
  }
 ],
 "metadata": {
  "kernelspec": {
   "display_name": "Python 3 (ipykernel)",
   "language": "python",
   "name": "python3"
  },
  "language_info": {
   "codemirror_mode": {
    "name": "ipython",
    "version": 3
   },
   "file_extension": ".py",
   "mimetype": "text/x-python",
   "name": "python",
   "nbconvert_exporter": "python",
   "pygments_lexer": "ipython3",
   "version": "3.8.12"
  }
 },
 "nbformat": 4,
 "nbformat_minor": 5
}
