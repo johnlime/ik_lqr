{
 "cells": [
  {
   "cell_type": "code",
   "execution_count": 1,
   "id": "7c57f8cf",
   "metadata": {},
   "outputs": [],
   "source": [
    "import gym\n",
    "import numpy as np\n",
    "import tensorflow as tf"
   ]
  },
  {
   "cell_type": "code",
   "execution_count": 35,
   "id": "a06f56aa",
   "metadata": {},
   "outputs": [],
   "source": [
    "TOTAL_STEPS = 5000\n",
    "TRAINING_STEPS = 3000\n",
    "VALIDATION_STEPS = 1000\n",
    "BATCH_SIZE = 64"
   ]
  },
  {
   "cell_type": "markdown",
   "id": "8b970745",
   "metadata": {},
   "source": [
    "## Cartpole-v0 Info\n",
    "### Action Space\n",
    "    The action is a `ndarray` with shape `(1,)` which can take values `{0, 1}` indicating the direction of the fixed force the cart is pushed with.\n",
    "    | Num | Action                 |\n",
    "    |-----|------------------------|\n",
    "    | 0   | Push cart to the left  |\n",
    "    | 1   | Push cart to the right |\n",
    "    \n",
    "### Observation Space\n",
    "    The observation is a `ndarray` with shape `(4,)` with the values corresponding to the following positions and velocities:\n",
    "    | Num | Observation           | Min                  | Max                |\n",
    "    |-----|-----------------------|----------------------|--------------------|\n",
    "    | 0   | Cart Position         | -4.8                 | 4.8                |\n",
    "    | 1   | Cart Velocity         | -Inf                 | Inf                |\n",
    "    | 2   | Pole Angle            | ~ -0.418 rad (-24°)  | ~ 0.418 rad (24°)  |\n",
    "    | 3   | Pole Angular Velocity | -Inf                 | Inf                |\n",
    "    \n",
    "(https://github.com/openai/gym/blob/master/gym/envs/classic_control/cartpole.py)"
   ]
  },
  {
   "cell_type": "code",
   "execution_count": 20,
   "id": "5890a017",
   "metadata": {},
   "outputs": [],
   "source": [
    "env = gym.make('CartPole-v0')\n",
    "X = np.empty((TOTAL_STEPS, 5)) # len(env.observation_space.sample()) == 4\n",
    "y = np.empty((TOTAL_STEPS, 4))"
   ]
  },
  {
   "cell_type": "code",
   "execution_count": 17,
   "id": "8c485be8",
   "metadata": {},
   "outputs": [
    {
     "name": "stdout",
     "output_type": "stream",
     "text": [
      "[ 0.0188304  -0.04221813  0.02094814  0.0217232   1.        ]\n",
      "[ 0.01798603  0.15259723  0.0213826  -0.26427743]\n"
     ]
    }
   ],
   "source": [
    "#### TEST ####\n",
    "x_present = env.reset()\n",
    "for timestep in range(1):\n",
    "    u = env.action_space.sample() # sidenote: should this be one-hot encoded?\n",
    "    x_prime, _, done, _ = env.step(u)\n",
    "    \n",
    "    # sample x[n], u[n], and x[n+1]\n",
    "    X[timestep, :4] = x_present\n",
    "    X[timestep, 4] = u\n",
    "    y[timestep, :4] = x_prime\n",
    "    x_present = x_prime\n",
    "print(X[0])\n",
    "print(y[0])"
   ]
  },
  {
   "cell_type": "code",
   "execution_count": 3,
   "id": "dba90294",
   "metadata": {},
   "outputs": [],
   "source": [
    "#### \"Let-it-run method\" ####\n",
    "for iteration in range(TOTAL_STEPS // 1000):\n",
    "    x_present = env.reset()\n",
    "    for timestep in range(1000):\n",
    "        u = env.action_space.sample() # sidenote: should this be one-hot encoded?\n",
    "        x_prime, _, done, _ = env.step(u)\n",
    "\n",
    "        # sample x[n], u[n], and x[n+1]\n",
    "        X[1000 * iteration + timestep, :4] = x_present\n",
    "        X[1000 * iteration + timestep, 4] = u\n",
    "        y[1000 * iteration + timestep, :4] = x_prime\n",
    "        x_present = x_prime\n",
    "env.close()"
   ]
  },
  {
   "cell_type": "code",
   "execution_count": 21,
   "id": "258549d5",
   "metadata": {},
   "outputs": [],
   "source": [
    "x_present = env.reset()\n",
    "for num_timestep in range(TOTAL_STEPS):\n",
    "    u = env.action_space.sample() # sidenote: should this be one-hot encoded?\n",
    "    x_prime, _, done, _ = env.step(u)\n",
    "\n",
    "    # sample x[n], u[n], and x[n+1]\n",
    "    X[num_timestep, :4] = x_present\n",
    "    X[num_timestep, 4] = u\n",
    "    y[num_timestep, :4] = x_prime\n",
    "    x_present = x_prime\n",
    "    if done:\n",
    "        x_present = env.reset()\n",
    "env.close()"
   ]
  },
  {
   "cell_type": "code",
   "execution_count": 69,
   "id": "4084a3c0",
   "metadata": {},
   "outputs": [],
   "source": [
    "class CartpoleLinearControlSystem(tf.keras.Model):\n",
    "    def __init__(self):\n",
    "        super(CartpoleLinearControlSystem, self).__init__()\n",
    "        self.x_input = tf.keras.layers.Input(shape = (4, ), name = 'x_input')\n",
    "        self.A = tf.keras.layers.Dense(4, activation = 'linear', name = 'A')\n",
    "        self.u_input = tf.keras.layers.Input(shape = (1, ), name = 'u_input')\n",
    "        self.B = tf.keras.layers.Dense(4, activation = 'linear', name = 'B')\n",
    "        self.add = tf.keras.layers.Add()\n",
    "        \n",
    "    def call(self, inputs):\n",
    "        x = self.x_input(inputs[:, :4])\n",
    "        u = self.u_input(inputs[:, 4])\n",
    "        return self.add(self.A(x), self.B(u))"
   ]
  },
  {
   "cell_type": "markdown",
   "id": "452d7334",
   "metadata": {},
   "source": [
    "Uses reference code in *Python Machine Learning: 3rd Edition* (Raschka and Mirjalili, 2019) pp. 438, 512-515"
   ]
  },
  {
   "cell_type": "code",
   "execution_count": 44,
   "id": "24351ad0",
   "metadata": {},
   "outputs": [],
   "source": [
    "# create tensorflow dataset object instance; concat X and y\n",
    "dataset = tf.data.Dataset.from_tensor_slices((X, y)).shuffle(1000)\n",
    "# split trajectories into training, validation, and testing\n",
    "dataset_training = dataset.take(TRAINING_STEPS)\n",
    "dataset_validation = dataset.skip(TRAINING_STEPS).take(VALIDATION_STEPS)\n",
    "dataset_testing = dataset.skip(TRAINING_STEPS + VALIDATION_STEPS)\n",
    "# split training data into batches\n",
    "dataset_training = dataset_training.repeat(5).batch(BATCH_SIZE)"
   ]
  },
  {
   "cell_type": "code",
   "execution_count": 70,
   "id": "0f9a72b7",
   "metadata": {},
   "outputs": [
    {
     "name": "stdout",
     "output_type": "stream",
     "text": [
      "Epoch 1/1000\n"
     ]
    },
    {
     "ename": "TypeError",
     "evalue": "in user code:\n\n    File \"/Users/johnlime/anaconda3/lib/python3.8/site-packages/keras/engine/training.py\", line 878, in train_function  *\n        return step_function(self, iterator)\n    File \"/Users/johnlime/anaconda3/lib/python3.8/site-packages/keras/engine/training.py\", line 867, in step_function  **\n        outputs = model.distribute_strategy.run(run_step, args=(data,))\n    File \"/Users/johnlime/anaconda3/lib/python3.8/site-packages/keras/engine/training.py\", line 860, in run_step  **\n        outputs = model.train_step(data)\n    File \"/Users/johnlime/anaconda3/lib/python3.8/site-packages/keras/engine/training.py\", line 808, in train_step\n        y_pred = self(x, training=True)\n    File \"/Users/johnlime/anaconda3/lib/python3.8/site-packages/keras/utils/traceback_utils.py\", line 67, in error_handler\n        raise e.with_traceback(filtered_tb) from None\n\n    TypeError: Exception encountered when calling layer \"cartpole_linear_control_system_22\" (type CartpoleLinearControlSystem).\n    \n    in user code:\n    \n        File \"/var/folders/z9/d3462rf1391bntsj4j_8rn_h0000gn/T/ipykernel_1704/105981308.py\", line 11, in call  *\n            x = self.x_input(inputs[:, :4])\n    \n        TypeError: 'KerasTensor' object is not callable\n    \n    \n    Call arguments received:\n      • inputs=tf.Tensor(shape=(None, 5), dtype=float32)\n",
     "output_type": "error",
     "traceback": [
      "\u001b[0;31m---------------------------------------------------------------------------\u001b[0m",
      "\u001b[0;31mTypeError\u001b[0m                                 Traceback (most recent call last)",
      "\u001b[0;32m/var/folders/z9/d3462rf1391bntsj4j_8rn_h0000gn/T/ipykernel_1704/871758362.py\u001b[0m in \u001b[0;36m<cell line: 6>\u001b[0;34m()\u001b[0m\n\u001b[1;32m      4\u001b[0m               \u001b[0mloss\u001b[0m \u001b[0;34m=\u001b[0m \u001b[0mtf\u001b[0m\u001b[0;34m.\u001b[0m\u001b[0mkeras\u001b[0m\u001b[0;34m.\u001b[0m\u001b[0mlosses\u001b[0m\u001b[0;34m.\u001b[0m\u001b[0mMeanSquaredError\u001b[0m\u001b[0;34m(\u001b[0m\u001b[0;34m)\u001b[0m\u001b[0;34m,\u001b[0m\u001b[0;34m\u001b[0m\u001b[0;34m\u001b[0m\u001b[0m\n\u001b[1;32m      5\u001b[0m               metrics = [tf.keras.metrics.MeanSquaredError()])\n\u001b[0;32m----> 6\u001b[0;31m \u001b[0mhistory\u001b[0m \u001b[0;34m=\u001b[0m \u001b[0mmodel\u001b[0m\u001b[0;34m.\u001b[0m\u001b[0mfit\u001b[0m\u001b[0;34m(\u001b[0m\u001b[0mdataset_training\u001b[0m\u001b[0;34m,\u001b[0m \u001b[0mvalidation_data\u001b[0m \u001b[0;34m=\u001b[0m \u001b[0mdataset_validation\u001b[0m\u001b[0;34m,\u001b[0m \u001b[0mepochs\u001b[0m \u001b[0;34m=\u001b[0m \u001b[0;36m1000\u001b[0m\u001b[0;34m)\u001b[0m\u001b[0;34m\u001b[0m\u001b[0;34m\u001b[0m\u001b[0m\n\u001b[0m\u001b[1;32m      7\u001b[0m tf.keras.models.save_model(\n\u001b[1;32m      8\u001b[0m     \u001b[0mmodel\u001b[0m\u001b[0;34m,\u001b[0m \u001b[0;34m'./cartpole_system_model'\u001b[0m\u001b[0;34m,\u001b[0m \u001b[0moverwrite\u001b[0m \u001b[0;34m=\u001b[0m \u001b[0;32mTrue\u001b[0m\u001b[0;34m,\u001b[0m \u001b[0minclude_optimizer\u001b[0m \u001b[0;34m=\u001b[0m \u001b[0;32mTrue\u001b[0m\u001b[0;34m,\u001b[0m \u001b[0msave_format\u001b[0m \u001b[0;34m=\u001b[0m \u001b[0;32mNone\u001b[0m\u001b[0;34m,\u001b[0m\u001b[0;34m\u001b[0m\u001b[0;34m\u001b[0m\u001b[0m\n",
      "\u001b[0;32m~/anaconda3/lib/python3.8/site-packages/keras/utils/traceback_utils.py\u001b[0m in \u001b[0;36merror_handler\u001b[0;34m(*args, **kwargs)\u001b[0m\n\u001b[1;32m     65\u001b[0m     \u001b[0;32mexcept\u001b[0m \u001b[0mException\u001b[0m \u001b[0;32mas\u001b[0m \u001b[0me\u001b[0m\u001b[0;34m:\u001b[0m  \u001b[0;31m# pylint: disable=broad-except\u001b[0m\u001b[0;34m\u001b[0m\u001b[0;34m\u001b[0m\u001b[0m\n\u001b[1;32m     66\u001b[0m       \u001b[0mfiltered_tb\u001b[0m \u001b[0;34m=\u001b[0m \u001b[0m_process_traceback_frames\u001b[0m\u001b[0;34m(\u001b[0m\u001b[0me\u001b[0m\u001b[0;34m.\u001b[0m\u001b[0m__traceback__\u001b[0m\u001b[0;34m)\u001b[0m\u001b[0;34m\u001b[0m\u001b[0;34m\u001b[0m\u001b[0m\n\u001b[0;32m---> 67\u001b[0;31m       \u001b[0;32mraise\u001b[0m \u001b[0me\u001b[0m\u001b[0;34m.\u001b[0m\u001b[0mwith_traceback\u001b[0m\u001b[0;34m(\u001b[0m\u001b[0mfiltered_tb\u001b[0m\u001b[0;34m)\u001b[0m \u001b[0;32mfrom\u001b[0m \u001b[0;32mNone\u001b[0m\u001b[0;34m\u001b[0m\u001b[0;34m\u001b[0m\u001b[0m\n\u001b[0m\u001b[1;32m     68\u001b[0m     \u001b[0;32mfinally\u001b[0m\u001b[0;34m:\u001b[0m\u001b[0;34m\u001b[0m\u001b[0;34m\u001b[0m\u001b[0m\n\u001b[1;32m     69\u001b[0m       \u001b[0;32mdel\u001b[0m \u001b[0mfiltered_tb\u001b[0m\u001b[0;34m\u001b[0m\u001b[0;34m\u001b[0m\u001b[0m\n",
      "\u001b[0;32m~/anaconda3/lib/python3.8/site-packages/tensorflow/python/framework/func_graph.py\u001b[0m in \u001b[0;36mautograph_handler\u001b[0;34m(*args, **kwargs)\u001b[0m\n\u001b[1;32m   1127\u001b[0m           \u001b[0;32mexcept\u001b[0m \u001b[0mException\u001b[0m \u001b[0;32mas\u001b[0m \u001b[0me\u001b[0m\u001b[0;34m:\u001b[0m  \u001b[0;31m# pylint:disable=broad-except\u001b[0m\u001b[0;34m\u001b[0m\u001b[0;34m\u001b[0m\u001b[0m\n\u001b[1;32m   1128\u001b[0m             \u001b[0;32mif\u001b[0m \u001b[0mhasattr\u001b[0m\u001b[0;34m(\u001b[0m\u001b[0me\u001b[0m\u001b[0;34m,\u001b[0m \u001b[0;34m\"ag_error_metadata\"\u001b[0m\u001b[0;34m)\u001b[0m\u001b[0;34m:\u001b[0m\u001b[0;34m\u001b[0m\u001b[0;34m\u001b[0m\u001b[0m\n\u001b[0;32m-> 1129\u001b[0;31m               \u001b[0;32mraise\u001b[0m \u001b[0me\u001b[0m\u001b[0;34m.\u001b[0m\u001b[0mag_error_metadata\u001b[0m\u001b[0;34m.\u001b[0m\u001b[0mto_exception\u001b[0m\u001b[0;34m(\u001b[0m\u001b[0me\u001b[0m\u001b[0;34m)\u001b[0m\u001b[0;34m\u001b[0m\u001b[0;34m\u001b[0m\u001b[0m\n\u001b[0m\u001b[1;32m   1130\u001b[0m             \u001b[0;32melse\u001b[0m\u001b[0;34m:\u001b[0m\u001b[0;34m\u001b[0m\u001b[0;34m\u001b[0m\u001b[0m\n\u001b[1;32m   1131\u001b[0m               \u001b[0;32mraise\u001b[0m\u001b[0;34m\u001b[0m\u001b[0;34m\u001b[0m\u001b[0m\n",
      "\u001b[0;31mTypeError\u001b[0m: in user code:\n\n    File \"/Users/johnlime/anaconda3/lib/python3.8/site-packages/keras/engine/training.py\", line 878, in train_function  *\n        return step_function(self, iterator)\n    File \"/Users/johnlime/anaconda3/lib/python3.8/site-packages/keras/engine/training.py\", line 867, in step_function  **\n        outputs = model.distribute_strategy.run(run_step, args=(data,))\n    File \"/Users/johnlime/anaconda3/lib/python3.8/site-packages/keras/engine/training.py\", line 860, in run_step  **\n        outputs = model.train_step(data)\n    File \"/Users/johnlime/anaconda3/lib/python3.8/site-packages/keras/engine/training.py\", line 808, in train_step\n        y_pred = self(x, training=True)\n    File \"/Users/johnlime/anaconda3/lib/python3.8/site-packages/keras/utils/traceback_utils.py\", line 67, in error_handler\n        raise e.with_traceback(filtered_tb) from None\n\n    TypeError: Exception encountered when calling layer \"cartpole_linear_control_system_22\" (type CartpoleLinearControlSystem).\n    \n    in user code:\n    \n        File \"/var/folders/z9/d3462rf1391bntsj4j_8rn_h0000gn/T/ipykernel_1704/105981308.py\", line 11, in call  *\n            x = self.x_input(inputs[:, :4])\n    \n        TypeError: 'KerasTensor' object is not callable\n    \n    \n    Call arguments received:\n      • inputs=tf.Tensor(shape=(None, 5), dtype=float32)\n"
     ]
    }
   ],
   "source": [
    "# compile model\n",
    "model = CartpoleLinearControlSystem()\n",
    "model.compile(tf.keras.optimizers.Adam(),\n",
    "              loss = tf.keras.losses.MeanSquaredError(),\n",
    "              metrics = [tf.keras.metrics.MeanSquaredError()])\n",
    "history = model.fit(dataset_training, validation_data = dataset_validation, epochs = 1000)\n",
    "tf.keras.models.save_model(\n",
    "    model, './cartpole_system_model', overwrite = True, include_optimizer = True, save_format = None,\n",
    "    signatures = None, options = None, save_traces = True\n",
    ")"
   ]
  },
  {
   "cell_type": "code",
   "execution_count": null,
   "id": "182b95a4",
   "metadata": {},
   "outputs": [],
   "source": [
    "print(history)"
   ]
  }
 ],
 "metadata": {
  "kernelspec": {
   "display_name": "Python 3 (ipykernel)",
   "language": "python",
   "name": "python3"
  },
  "language_info": {
   "codemirror_mode": {
    "name": "ipython",
    "version": 3
   },
   "file_extension": ".py",
   "mimetype": "text/x-python",
   "name": "python",
   "nbconvert_exporter": "python",
   "pygments_lexer": "ipython3",
   "version": "3.8.12"
  }
 },
 "nbformat": 4,
 "nbformat_minor": 5
}
