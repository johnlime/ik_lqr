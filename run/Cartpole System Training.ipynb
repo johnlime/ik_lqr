{
 "cells": [
  {
   "cell_type": "markdown",
   "id": "1390764b",
   "metadata": {},
   "source": [
    "# Cartpole System Training"
   ]
  },
  {
   "cell_type": "code",
   "execution_count": 1,
   "id": "7c57f8cf",
   "metadata": {},
   "outputs": [],
   "source": [
    "import gym\n",
    "import numpy as np\n",
    "import tensorflow as tf\n",
    "import pickle\n",
    "import os\n",
    "from os import path"
   ]
  },
  {
   "cell_type": "code",
   "execution_count": 2,
   "id": "6fcc3462",
   "metadata": {},
   "outputs": [],
   "source": [
    "TOTAL_STEPS = 5000\n",
    "TRAINING_STEPS = 4000\n",
    "BATCH_SIZE = 64"
   ]
  },
  {
   "cell_type": "markdown",
   "id": "8b970745",
   "metadata": {},
   "source": [
    "## Cartpole-v0 Info\n",
    "### Action Space\n",
    "    The action is a `ndarray` with shape `(1,)` which can take values `{0, 1}` indicating the direction of the fixed force the cart is pushed with.\n",
    "    | Num | Action                 |\n",
    "    |-----|------------------------|\n",
    "    | 0   | Push cart to the left  |\n",
    "    | 1   | Push cart to the right |\n",
    "    \n",
    "### Observation Space\n",
    "    The observation is a `ndarray` with shape `(4,)` with the values corresponding to the following positions and velocities:\n",
    "    | Num | Observation           | Min                  | Max                |\n",
    "    |-----|-----------------------|----------------------|--------------------|\n",
    "    | 0   | Cart Position         | -4.8                 | 4.8                |\n",
    "    | 1   | Cart Velocity         | -Inf                 | Inf                |\n",
    "    | 2   | Pole Angle            | ~ -0.418 rad (-24°)  | ~ 0.418 rad (24°)  |\n",
    "    | 3   | Pole Angular Velocity | -Inf                 | Inf                |\n",
    "    \n",
    "(https://github.com/openai/gym/blob/master/gym/envs/classic_control/cartpole.py)"
   ]
  },
  {
   "cell_type": "code",
   "execution_count": 3,
   "id": "8d074c44",
   "metadata": {},
   "outputs": [],
   "source": [
    "env = gym.make('CartPole-v0')\n",
    "X = np.empty((TOTAL_STEPS, 4)) # len(env.observation_space.sample()) == 4\n",
    "U = np.empty((TOTAL_STEPS, 1))\n",
    "y = np.empty((TOTAL_STEPS, 4))"
   ]
  },
  {
   "cell_type": "code",
   "execution_count": 4,
   "id": "81f88362",
   "metadata": {},
   "outputs": [],
   "source": [
    "tf.random.set_seed(1)\n",
    "np.random.seed(1)"
   ]
  },
  {
   "cell_type": "markdown",
   "id": "eabcb5f4",
   "metadata": {},
   "source": [
    "## Sample Trajectories"
   ]
  },
  {
   "cell_type": "code",
   "execution_count": 5,
   "id": "6397e173",
   "metadata": {},
   "outputs": [],
   "source": [
    "x_present = env.reset()\n",
    "for num_timestep in range(TOTAL_STEPS):\n",
    "    u = env.action_space.sample() # sidenote: should this be one-hot encoded?\n",
    "    x_prime, _, done, _ = env.step(u)\n",
    "\n",
    "    # sample x[n], u[n], and x[n+1]\n",
    "    X[num_timestep] = x_present\n",
    "    U[num_timestep] = u\n",
    "    y[num_timestep] = x_prime\n",
    "    x_present = x_prime\n",
    "    if done:\n",
    "        x_present = env.reset()\n",
    "env.close()"
   ]
  },
  {
   "cell_type": "code",
   "execution_count": null,
   "id": "dba90294",
   "metadata": {},
   "outputs": [],
   "source": [
    "#### \"Let-it-run method\" ####\n",
    "for iteration in range(TOTAL_STEPS // 1000):\n",
    "    x_present = env.reset()\n",
    "    for timestep in range(1000):\n",
    "        u = env.action_space.sample() # sidenote: should this be one-hot encoded?\n",
    "        x_prime, _, done, _ = env.step(u)\n",
    "\n",
    "        # sample x[n], u[n], and x[n+1]\n",
    "        X[1000 * iteration + timestep] = x_present\n",
    "        U[1000 * iteration + timestep] = u\n",
    "        y[1000 * iteration + timestep] = x_prime\n",
    "        x_present = x_prime\n",
    "env.close()"
   ]
  },
  {
   "cell_type": "markdown",
   "id": "05861f60",
   "metadata": {},
   "source": [
    "## Tensorflow Dataset"
   ]
  },
  {
   "cell_type": "code",
   "execution_count": 6,
   "id": "8b1c08d1",
   "metadata": {},
   "outputs": [],
   "source": [
    "if not path.exists('./cartpole_system_model'):\n",
    "  os.mkdir('./cartpole_system_model')"
   ]
  },
  {
   "cell_type": "code",
   "execution_count": 7,
   "id": "24351ad0",
   "metadata": {},
   "outputs": [
    {
     "name": "stdout",
     "output_type": "stream",
     "text": [
      "<ShuffleDataset shapes: (((4,), (1,)), (4,)), types: ((tf.float64, tf.float64), tf.float64)>\n",
      "<BatchDataset shapes: (((None, 4), (None, 1)), (None, 4)), types: ((tf.float64, tf.float64), tf.float64)>\n",
      "<SkipDataset shapes: (((4,), (1,)), (4,)), types: ((tf.float64, tf.float64), tf.float64)>\n"
     ]
    },
    {
     "name": "stderr",
     "output_type": "stream",
     "text": [
      "2022-03-15 00:25:19.013713: I tensorflow/core/platform/cpu_feature_guard.cc:151] This TensorFlow binary is optimized with oneAPI Deep Neural Network Library (oneDNN) to use the following CPU instructions in performance-critical operations:  SSE4.1 SSE4.2 AVX AVX2 FMA\n",
      "To enable them in other operations, rebuild TensorFlow with the appropriate compiler flags.\n"
     ]
    }
   ],
   "source": [
    "# create tensorflow dataset object instance; concat X and y\n",
    "dataset_xu = tf.data.Dataset.from_tensor_slices((X, U))\n",
    "dataset_y = tf.data.Dataset.from_tensor_slices(y)\n",
    "dataset = tf.data.Dataset.zip((dataset_xu, dataset_y)).shuffle(1000, reshuffle_each_iteration = False)\n",
    "print(dataset)\n",
    "# split trajectories into training and testing (no validation)\n",
    "dataset_training = dataset.take(TRAINING_STEPS)\n",
    "dataset_testing = dataset.skip(TRAINING_STEPS)\n",
    "# split training data into batches\n",
    "dataset_training = dataset_training.repeat(5).batch(BATCH_SIZE)\n",
    "print(dataset_training)\n",
    "print(dataset_testing)"
   ]
  },
  {
   "cell_type": "code",
   "execution_count": 8,
   "id": "5af04daf",
   "metadata": {},
   "outputs": [
    {
     "name": "stdout",
     "output_type": "stream",
     "text": [
      "<ShuffleDataset shapes: (((4,), (1,)), (4,)), types: ((tf.float64, tf.float64), tf.float64)>\n",
      "<tensorflow.python.data.ops.dataset_ops._NumpyIterator object at 0x7fafea279340>\n",
      "X and U Sample\n",
      "[-0.02492014  0.20034602 -0.00519842 -0.2535114 ]\n",
      "[0.]\n",
      "X Prime Sample\n",
      "[-0.02091322  0.00529868 -0.01026865  0.03752733]\n"
     ]
    }
   ],
   "source": [
    "# ShuffleDataset inner workings\n",
    "print(dataset)\n",
    "print(dataset.as_numpy_iterator())\n",
    "for x, i in dataset.as_numpy_iterator():\n",
    "    print(\"X and U Sample\")\n",
    "    print(x[0])\n",
    "    print(x[1])\n",
    "    print(\"X Prime Sample\")\n",
    "    print(i)\n",
    "    break"
   ]
  },
  {
   "cell_type": "code",
   "execution_count": 9,
   "id": "954baad3",
   "metadata": {},
   "outputs": [
    {
     "name": "stdout",
     "output_type": "stream",
     "text": [
      "<BatchDataset shapes: (((None, 4), (None, 1)), (None, 4)), types: ((tf.float64, tf.float64), tf.float64)>\n",
      "Batch Size:  64\n",
      "X and U Sample\n",
      "[-0.02492014  0.20034602 -0.00519842 -0.2535114 ] [0.]\n",
      "X Prime Sample\n",
      "[-0.02091322  0.00529868 -0.01026865  0.03752733]\n"
     ]
    }
   ],
   "source": [
    "# BatchDataset / TakeDataset inner workings\n",
    "print(dataset_training)\n",
    "for x, i in dataset_training.as_numpy_iterator():\n",
    "    print(\"Batch Size: \", len(x[0]))\n",
    "    print(\"X and U Sample\")\n",
    "    print(x[0][0], x[1][0])\n",
    "    print(\"X Prime Sample\")\n",
    "    print(i[0])\n",
    "    break"
   ]
  },
  {
   "cell_type": "code",
   "execution_count": 10,
   "id": "8e714f3f",
   "metadata": {},
   "outputs": [
    {
     "name": "stdout",
     "output_type": "stream",
     "text": [
      "<SkipDataset shapes: (((4,), (1,)), (4,)), types: ((tf.float64, tf.float64), tf.float64)>\n",
      "Repetition:  4\n",
      "X and U Sample\n",
      "[ 0.05515683  0.1634935  -0.13883419 -0.50039446] [1.]\n",
      "X Prime Sample\n",
      "[ 0.0584267   0.36027148 -0.14884208 -0.83340764]\n"
     ]
    }
   ],
   "source": [
    "# SkipDataset inner workings\n",
    "print(dataset_testing)\n",
    "for x, i in dataset_testing.as_numpy_iterator():\n",
    "    print(\"Repetition: \", len(x[0]))\n",
    "    print(\"X and U Sample\")\n",
    "    print(x[0], x[1])\n",
    "    print(\"X Prime Sample\")\n",
    "    print(i)\n",
    "    break"
   ]
  },
  {
   "cell_type": "code",
   "execution_count": 11,
   "id": "d11414f8",
   "metadata": {},
   "outputs": [],
   "source": [
    "# tf.data.experimental.save() and load() are deprecated and buggy with Tensorflow 2.\n",
    "# tf.data.experimental.save(dataset_training, './cartpole_system_model/dataset_training')\n",
    "# tf.data.experimental.save(dataset_testing, './cartpole_system_model/dataset_testing')\n",
    "# tf.data.experimental.save(dataset, './cartpole_system_model/dataset')"
   ]
  },
  {
   "cell_type": "markdown",
   "id": "94187c9e",
   "metadata": {},
   "source": [
    "## Model Definition and Training"
   ]
  },
  {
   "cell_type": "code",
   "execution_count": 12,
   "id": "4084a3c0",
   "metadata": {},
   "outputs": [],
   "source": [
    "class CartpoleLinearControlSystem(tf.keras.Model):\n",
    "    def __init__(self):\n",
    "        super(CartpoleLinearControlSystem, self).__init__()\n",
    "        self.A = tf.keras.layers.Dense(4, input_shape = (4, ), \n",
    "                                       activation = 'linear', \n",
    "                                       use_bias = False, # Dense is meant to be used as NN layer\n",
    "                                       name = 'A')\n",
    "        \n",
    "        self.B = tf.keras.layers.Dense(4, input_shape = (1, ), \n",
    "                                       activation = 'linear', \n",
    "                                       use_bias = False, \n",
    "                                       name = 'B')\n",
    "        \n",
    "        self.add = tf.keras.layers.Add()\n",
    "        \n",
    "    def call(self, inputs):\n",
    "        x, u = inputs\n",
    "        return self.A(x) + self.B(u)"
   ]
  },
  {
   "cell_type": "markdown",
   "id": "452d7334",
   "metadata": {},
   "source": [
    "Uses reference code in *Python Machine Learning: 3rd Edition* (Raschka and Mirjalili, 2019) pp. 438, 512-515"
   ]
  },
  {
   "cell_type": "code",
   "execution_count": null,
   "id": "1657fa62",
   "metadata": {},
   "outputs": [],
   "source": [
    "# compile model\n",
    "model = CartpoleLinearControlSystem()\n",
    "model.compile(tf.keras.optimizers.Adam(),\n",
    "              loss = tf.keras.losses.MeanSquaredError(),\n",
    "              metrics = [tf.keras.metrics.MeanSquaredError()])\n",
    "history = model.fit(dataset_training, epochs = 1000)\n",
    "tf.keras.models.save_model(\n",
    "    model, './cartpole_system_model', overwrite = True, include_optimizer = True, save_format = None,\n",
    "    signatures = None, options = None, save_traces = True\n",
    ")"
   ]
  },
  {
   "cell_type": "code",
   "execution_count": 146,
   "id": "5bf4bba1",
   "metadata": {},
   "outputs": [
    {
     "name": "stdout",
     "output_type": "stream",
     "text": [
      "WARNING:tensorflow:Skipping full serialization of Keras layer <keras.layers.merge.Add object at 0x7fcb872b59a0>, because it is not built.\n",
      "INFO:tensorflow:Assets written to: ram://6b473afc-2579-4d07-91ec-eb588055c49e/assets\n"
     ]
    },
    {
     "name": "stderr",
     "output_type": "stream",
     "text": [
      "/Users/johnlime/anaconda3/lib/python3.8/site-packages/keras/saving/saved_model/layer_serialization.py:112: CustomMaskWarning: Custom mask layers require a config and must override get_config. When loading, the custom mask layer must be passed to the custom_objects argument.\n",
      "  return generic_utils.serialize_keras_object(obj)\n"
     ]
    }
   ],
   "source": [
    "with open('./cartpole_system_model/history.pkl', 'wb') as filepath:\n",
    "    pickle.dump(history, filepath)"
   ]
  },
  {
   "cell_type": "markdown",
   "id": "826c4999",
   "metadata": {},
   "source": [
    "## Model Evaluation and Learning Curve Visualization"
   ]
  },
  {
   "cell_type": "code",
   "execution_count": 14,
   "id": "abcf1575",
   "metadata": {},
   "outputs": [],
   "source": [
    "model = tf.keras.models.load_model(\n",
    "    './cartpole_system_model', custom_objects=None, compile=True, options=None\n",
    ")\n",
    "\n",
    "history = None\n",
    "with open('./cartpole_system_model/history.pkl', 'rb') as filepath:\n",
    "    history = pickle.load(filepath)\n",
    "    \n",
    "history_keys = history.history.keys()"
   ]
  },
  {
   "cell_type": "code",
   "execution_count": 15,
   "id": "a082d7a4",
   "metadata": {},
   "outputs": [],
   "source": [
    "# tf.data.experimental.save() and load() are deprecated and buggy with Tensorflow 2.\n",
    "# dataset_training = tf.data.experimental.load('./cartpole_system_model/dataset_training')\n",
    "# dataset_testing = tf.data.experimental.load('./cartpole_system_model/dataset_testing')\n",
    "# dataset = tf.data.experimental.load('./cartpole_system_model/dataset')"
   ]
  },
  {
   "cell_type": "code",
   "execution_count": 16,
   "id": "e2d31dd7",
   "metadata": {},
   "outputs": [],
   "source": [
    "import matplotlib.pyplot as plt\n",
    "%matplotlib inline"
   ]
  },
  {
   "cell_type": "code",
   "execution_count": 17,
   "id": "d7fa0bde",
   "metadata": {},
   "outputs": [],
   "source": [
    "def show_history(history_obj, y_data_name):\n",
    "    # plt.plot(range(history_obj.params['epochs']), history_obj.history[y_data_name])\n",
    "    plt.plot(range(100), history_obj.history[y_data_name][:100])\n",
    "    plt.xlabel(\"Epochs\")\n",
    "    plt.ylabel(y_data_name)\n",
    "    plt.savefig('./cartpole_system_model/' + y_data_name + '.png')\n",
    "    plt.show()"
   ]
  },
  {
   "cell_type": "code",
   "execution_count": 18,
   "id": "fceb90d8",
   "metadata": {
    "scrolled": false
   },
   "outputs": [
    {
     "data": {
      "image/png": "[encoded data removed]",
      "text/plain": [
       "<Figure size 432x288 with 1 Axes>"
      ]
     },
     "metadata": {
      "needs_background": "light"
     },
     "output_type": "display_data"
    },
    {
     "data": {
      "image/png": "[encoded data removed]",
      "text/plain": [
       "<Figure size 432x288 with 1 Axes>"
      ]
     },
     "metadata": {
      "needs_background": "light"
     },
     "output_type": "display_data"
    }
   ],
   "source": [
    "for i, key in enumerate(history.history.keys()):\n",
    "  show_history(history, key)"
   ]
  },
  {
   "cell_type": "code",
   "execution_count": 19,
   "id": "285d954a",
   "metadata": {},
   "outputs": [
    {
     "name": "stdout",
     "output_type": "stream",
     "text": [
      "Model: \"cartpole_linear_control_system_1\"\n",
      "_________________________________________________________________\n",
      " Layer (type)                Output Shape              Param #   \n",
      "=================================================================\n",
      " A (Dense)                   multiple                  16        \n",
      "                                                                 \n",
      " B (Dense)                   multiple                  4         \n",
      "                                                                 \n",
      " add_1 (Add)                 multiple                  0         \n",
      "                                                                 \n",
      "=================================================================\n",
      "Total params: 20\n",
      "Trainable params: 20\n",
      "Non-trainable params: 0\n",
      "_________________________________________________________________\n"
     ]
    }
   ],
   "source": [
    "model.summary()"
   ]
  },
  {
   "cell_type": "code",
   "execution_count": 20,
   "id": "c8d2666d",
   "metadata": {},
   "outputs": [
    {
     "name": "stdout",
     "output_type": "stream",
     "text": [
      "125/125 [==============================] - 0s 776us/step - loss: 0.0155 - mean_squared_error: 0.0155 \n",
      "[0.01549259852617979, 0.01549259852617979]\n"
     ]
    }
   ],
   "source": [
    "prediction_result = model.evaluate(dataset_testing.batch(8))\n",
    "print(prediction_result)"
   ]
  },
  {
   "cell_type": "code",
   "execution_count": null,
   "id": "fbbbd3dc",
   "metadata": {},
   "outputs": [],
   "source": []
  }
 ],
 "metadata": {
  "kernelspec": {
   "display_name": "Python 3 (ipykernel)",
   "language": "python",
   "name": "python3"
  },
  "language_info": {
   "codemirror_mode": {
    "name": "ipython",
    "version": 3
   },
   "file_extension": ".py",
   "mimetype": "text/x-python",
   "name": "python",
   "nbconvert_exporter": "python",
   "pygments_lexer": "ipython3",
   "version": "3.8.12"
  }
 },
 "nbformat": 4,
 "nbformat_minor": 5
}
