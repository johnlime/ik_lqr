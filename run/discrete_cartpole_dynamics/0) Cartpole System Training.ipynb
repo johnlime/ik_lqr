{
 "cells": [
  {
   "cell_type": "markdown",
   "id": "1390764b",
   "metadata": {},
   "source": [
    "# Cartpole System Training"
   ]
  },
  {
   "cell_type": "code",
   "execution_count": 1,
   "id": "7c57f8cf",
   "metadata": {},
   "outputs": [],
   "source": [
    "import gym\n",
    "import numpy as np\n",
    "import tensorflow as tf\n",
    "import pickle\n",
    "import os\n",
    "from os import path"
   ]
  },
  {
   "cell_type": "code",
   "execution_count": 2,
   "id": "6fcc3462",
   "metadata": {},
   "outputs": [],
   "source": [
    "TOTAL_STEPS = 5000\n",
    "TRAINING_STEPS = 4000\n",
    "BATCH_SIZE = 64"
   ]
  },
  {
   "cell_type": "markdown",
   "id": "8b970745",
   "metadata": {},
   "source": [
    "## Cartpole-v1 Info\n",
    "### Action Space\n",
    "    The action is a `ndarray` with shape `(1,)` which can take values `{0, 1}` indicating the direction of the fixed force the cart is pushed with.\n",
    "    | Num | Action                 |\n",
    "    |-----|------------------------|\n",
    "    | 0   | Push cart to the left  |\n",
    "    | 1   | Push cart to the right |\n",
    "    \n",
    "### Observation Space\n",
    "    The observation is a `ndarray` with shape `(4,)` with the values corresponding to the following positions and velocities:\n",
    "    | Num | Observation           | Min                  | Max                |\n",
    "    |-----|-----------------------|----------------------|--------------------|\n",
    "    | 0   | Cart Position         | -4.8                 | 4.8                |\n",
    "    | 1   | Cart Velocity         | -Inf                 | Inf                |\n",
    "    | 2   | Pole Angle            | ~ -0.418 rad (-24°)  | ~ 0.418 rad (24°)  |\n",
    "    | 3   | Pole Angular Velocity | -Inf                 | Inf                |\n",
    "    \n",
    "### The episode terminates if any one of the following occurs:\n",
    "    1. Pole Angle is greater than ±12°\n",
    "    2. Cart Position is greater than ±2.4 (center of the cart reaches the edge of the display)\n",
    "    3. Episode length is greater than 500 (200 for v0)\n",
    "\n",
    "(https://github.com/openai/gym/blob/master/gym/envs/classic_control/cartpole.py)"
   ]
  },
  {
   "cell_type": "code",
   "execution_count": 3,
   "id": "8d074c44",
   "metadata": {},
   "outputs": [],
   "source": [
    "env = gym.make('CartPole-v1')\n",
    "X = np.empty((TOTAL_STEPS, 4)) # len(env.observation_space.sample()) == 4\n",
    "U = np.empty((TOTAL_STEPS, 1))\n",
    "y = np.empty((TOTAL_STEPS, 4))"
   ]
  },
  {
   "cell_type": "code",
   "execution_count": 4,
   "id": "81f88362",
   "metadata": {},
   "outputs": [],
   "source": [
    "tf.random.set_seed(1)\n",
    "np.random.seed(1)"
   ]
  },
  {
   "cell_type": "markdown",
   "id": "eabcb5f4",
   "metadata": {},
   "source": [
    "## Sample Trajectories"
   ]
  },
  {
   "cell_type": "markdown",
   "id": "b6532c4b",
   "metadata": {},
   "source": [
    "Controller input $u$ is set as a binary choice of (-1, 1) for (left, right)"
   ]
  },
  {
   "cell_type": "code",
   "execution_count": 5,
   "id": "6397e173",
   "metadata": {},
   "outputs": [],
   "source": [
    "x_present = env.reset()\n",
    "for num_timestep in range(TOTAL_STEPS):\n",
    "    u = env.action_space.sample() # sidenote: should this be one-hot encoded?\n",
    "    x_prime, _, done, _ = env.step(u)\n",
    "\n",
    "    # sample x[n], u[n], and x[n+1]\n",
    "    if u == 0:\n",
    "        u = -1\n",
    "    X[num_timestep] = x_present\n",
    "    U[num_timestep] = u\n",
    "    y[num_timestep] = x_prime\n",
    "    x_present = x_prime\n",
    "    if done:\n",
    "        x_present = env.reset()\n",
    "env.close()"
   ]
  },
  {
   "cell_type": "code",
   "execution_count": 6,
   "id": "dba90294",
   "metadata": {},
   "outputs": [],
   "source": [
    "#### \"Let-it-run method\" ####\n",
    "# for iteration in range(TOTAL_STEPS // 500):\n",
    "#     x_present = env.reset()\n",
    "#     for timestep in range(500):\n",
    "#         u = env.action_space.sample()\n",
    "#         x_prime, _, done, _ = env.step(u)\n",
    "\n",
    "#         # sample x[n], u[n], and x[n+1]\n",
    "#         if u == 0:\n",
    "#             u = -1\n",
    "#         X[500 * iteration + timestep] = x_present\n",
    "#         U[500 * iteration + timestep] = u\n",
    "#         y[500 * iteration + timestep] = x_prime\n",
    "#         x_present = x_prime\n",
    "# env.close()"
   ]
  },
  {
   "cell_type": "markdown",
   "id": "05861f60",
   "metadata": {},
   "source": [
    "## Tensorflow Dataset"
   ]
  },
  {
   "cell_type": "code",
   "execution_count": 7,
   "id": "8b1c08d1",
   "metadata": {},
   "outputs": [],
   "source": [
    "if not path.exists('./cartpole_system_model'):\n",
    "  os.mkdir('./cartpole_system_model')"
   ]
  },
  {
   "cell_type": "code",
   "execution_count": 8,
   "id": "24351ad0",
   "metadata": {},
   "outputs": [
    {
     "name": "stdout",
     "output_type": "stream",
     "text": [
      "<ShuffleDataset shapes: (((4,), (1,)), (4,)), types: ((tf.float64, tf.float64), tf.float64)>\n",
      "<BatchDataset shapes: (((None, 4), (None, 1)), (None, 4)), types: ((tf.float64, tf.float64), tf.float64)>\n",
      "<SkipDataset shapes: (((4,), (1,)), (4,)), types: ((tf.float64, tf.float64), tf.float64)>\n"
     ]
    },
    {
     "name": "stderr",
     "output_type": "stream",
     "text": [
      "2022-04-06 15:15:31.964632: I tensorflow/core/platform/cpu_feature_guard.cc:151] This TensorFlow binary is optimized with oneAPI Deep Neural Network Library (oneDNN) to use the following CPU instructions in performance-critical operations:  SSE4.1 SSE4.2 AVX AVX2 FMA\n",
      "To enable them in other operations, rebuild TensorFlow with the appropriate compiler flags.\n"
     ]
    }
   ],
   "source": [
    "# create tensorflow dataset object instance; concat X and y\n",
    "dataset_xu = tf.data.Dataset.from_tensor_slices((X, U))\n",
    "dataset_y = tf.data.Dataset.from_tensor_slices(y)\n",
    "dataset = tf.data.Dataset.zip((dataset_xu, dataset_y)).shuffle(500, reshuffle_each_iteration = False)\n",
    "print(dataset)\n",
    "# split trajectories into training and testing (no validation)\n",
    "dataset_training = dataset.take(TRAINING_STEPS)\n",
    "dataset_testing = dataset.skip(TRAINING_STEPS)\n",
    "# split training data into batches\n",
    "dataset_training = dataset_training.repeat(5).batch(BATCH_SIZE)\n",
    "print(dataset_training)\n",
    "print(dataset_testing)"
   ]
  },
  {
   "cell_type": "code",
   "execution_count": 9,
   "id": "5af04daf",
   "metadata": {},
   "outputs": [
    {
     "name": "stdout",
     "output_type": "stream",
     "text": [
      "<ShuffleDataset shapes: (((4,), (1,)), (4,)), types: ((tf.float64, tf.float64), tf.float64)>\n",
      "<tensorflow.python.data.ops.dataset_ops._NumpyIterator object at 0x7fad7795ca60>\n",
      "X and U Sample\n",
      "[-0.03037817 -0.95691925  0.08858451  1.505216  ]\n",
      "[-1.]\n",
      "X Prime Sample\n",
      "[-0.04951655 -1.15299714  0.11868882  1.82418942]\n"
     ]
    }
   ],
   "source": [
    "# ShuffleDataset inner workings\n",
    "print(dataset)\n",
    "print(dataset.as_numpy_iterator())\n",
    "for x, i in dataset.as_numpy_iterator():\n",
    "    print(\"X and U Sample\")\n",
    "    print(x[0])\n",
    "    print(x[1])\n",
    "    print(\"X Prime Sample\")\n",
    "    print(i)\n",
    "    break"
   ]
  },
  {
   "cell_type": "code",
   "execution_count": 10,
   "id": "954baad3",
   "metadata": {},
   "outputs": [
    {
     "name": "stdout",
     "output_type": "stream",
     "text": [
      "<BatchDataset shapes: (((None, 4), (None, 1)), (None, 4)), types: ((tf.float64, tf.float64), tf.float64)>\n",
      "Batch Size:  64\n",
      "X and U Sample\n",
      "[-0.03037817 -0.95691925  0.08858451  1.505216  ] [-1.]\n",
      "X Prime Sample\n",
      "[-0.04951655 -1.15299714  0.11868882  1.82418942]\n"
     ]
    }
   ],
   "source": [
    "# BatchDataset / TakeDataset inner workings\n",
    "print(dataset_training)\n",
    "for x, i in dataset_training.as_numpy_iterator():\n",
    "    print(\"Batch Size: \", len(x[0]))\n",
    "    print(\"X and U Sample\")\n",
    "    print(x[0][0], x[1][0])\n",
    "    print(\"X Prime Sample\")\n",
    "    print(i[0])\n",
    "    break"
   ]
  },
  {
   "cell_type": "code",
   "execution_count": 11,
   "id": "8e714f3f",
   "metadata": {},
   "outputs": [
    {
     "name": "stdout",
     "output_type": "stream",
     "text": [
      "<SkipDataset shapes: (((4,), (1,)), (4,)), types: ((tf.float64, tf.float64), tf.float64)>\n",
      "Repetition:  4\n",
      "X and U Sample\n",
      "[-0.0447046  -0.4024325   0.02956655  0.61842859] [1.]\n",
      "X Prime Sample\n",
      "[-0.05275325 -0.20773576  0.04193512  0.3352024 ]\n"
     ]
    }
   ],
   "source": [
    "# SkipDataset inner workings\n",
    "print(dataset_testing)\n",
    "for x, i in dataset_testing.as_numpy_iterator():\n",
    "    print(\"Repetition: \", len(x[0]))\n",
    "    print(\"X and U Sample\")\n",
    "    print(x[0], x[1])\n",
    "    print(\"X Prime Sample\")\n",
    "    print(i)\n",
    "    break"
   ]
  },
  {
   "cell_type": "code",
   "execution_count": 12,
   "id": "d11414f8",
   "metadata": {},
   "outputs": [],
   "source": [
    "# tf.data.experimental.save() and load() are deprecated and buggy with Tensorflow 2.\n",
    "# tf.data.experimental.save(dataset_training, './cartpole_system_model/dataset_training')\n",
    "# tf.data.experimental.save(dataset_testing, './cartpole_system_model/dataset_testing')\n",
    "# tf.data.experimental.save(dataset, './cartpole_system_model/dataset')"
   ]
  },
  {
   "cell_type": "markdown",
   "id": "94187c9e",
   "metadata": {},
   "source": [
    "## Model Definition and Training"
   ]
  },
  {
   "cell_type": "code",
   "execution_count": 13,
   "id": "4084a3c0",
   "metadata": {},
   "outputs": [],
   "source": [
    "class CartpoleLinearControlSystem(tf.keras.Model):\n",
    "    def __init__(self):\n",
    "        super(CartpoleLinearControlSystem, self).__init__()\n",
    "        self.A = tf.keras.layers.Dense(4, input_shape = (4, ), \n",
    "                                       activation = 'linear', \n",
    "                                       use_bias = False, # Dense is meant to be used as NN layer\n",
    "                                       name = 'A')\n",
    "        \n",
    "        self.B = tf.keras.layers.Dense(4, input_shape = (1, ), \n",
    "                                       activation = 'linear', \n",
    "                                       use_bias = False, \n",
    "                                       name = 'B')\n",
    "        \n",
    "        self.add = tf.keras.layers.Add()\n",
    "        \n",
    "    def call(self, inputs):\n",
    "        x, u = inputs\n",
    "        return self.A(x) + self.B(u)"
   ]
  },
  {
   "cell_type": "markdown",
   "id": "452d7334",
   "metadata": {},
   "source": [
    "Uses reference code in *Python Machine Learning: 3rd Edition* (Raschka and Mirjalili, 2019) pp. 438, 512-515"
   ]
  },
  {
   "cell_type": "code",
   "execution_count": 14,
   "id": "1657fa62",
   "metadata": {},
   "outputs": [
    {
     "name": "stdout",
     "output_type": "stream",
     "text": [
      "Epoch 1/200\n",
      "313/313 [==============================] - 1s 2ms/step - loss: 0.5883 - mean_squared_error: 0.5883\n",
      "Epoch 2/200\n",
      "313/313 [==============================] - 0s 1ms/step - loss: 0.2570 - mean_squared_error: 0.2570\n",
      "Epoch 3/200\n",
      "313/313 [==============================] - 0s 1ms/step - loss: 0.1075 - mean_squared_error: 0.1075\n",
      "Epoch 4/200\n",
      "313/313 [==============================] - 0s 1ms/step - loss: 0.0450 - mean_squared_error: 0.0450\n",
      "Epoch 5/200\n",
      "313/313 [==============================] - 0s 1ms/step - loss: 0.0205 - mean_squared_error: 0.0205\n",
      "Epoch 6/200\n",
      "313/313 [==============================] - 1s 2ms/step - loss: 0.0111 - mean_squared_error: 0.0111\n",
      "Epoch 7/200\n",
      "313/313 [==============================] - 0s 2ms/step - loss: 0.0071 - mean_squared_error: 0.0071\n",
      "Epoch 8/200\n",
      "313/313 [==============================] - 0s 1ms/step - loss: 0.0050 - mean_squared_error: 0.0050\n",
      "Epoch 9/200\n",
      "313/313 [==============================] - 1s 2ms/step - loss: 0.0036 - mean_squared_error: 0.0036\n",
      "Epoch 10/200\n",
      "313/313 [==============================] - 0s 2ms/step - loss: 0.0027 - mean_squared_error: 0.0027\n",
      "Epoch 11/200\n",
      "313/313 [==============================] - 0s 1ms/step - loss: 0.0021 - mean_squared_error: 0.0021\n",
      "Epoch 12/200\n",
      "313/313 [==============================] - 0s 1ms/step - loss: 0.0017 - mean_squared_error: 0.0017\n",
      "Epoch 13/200\n",
      "313/313 [==============================] - 0s 1ms/step - loss: 0.0015 - mean_squared_error: 0.0015\n",
      "Epoch 14/200\n",
      "313/313 [==============================] - 0s 1ms/step - loss: 0.0013 - mean_squared_error: 0.0013\n",
      "Epoch 15/200\n",
      "313/313 [==============================] - 0s 1ms/step - loss: 0.0012 - mean_squared_error: 0.0012\n",
      "Epoch 16/200\n",
      "313/313 [==============================] - 1s 2ms/step - loss: 0.0011 - mean_squared_error: 0.0011\n",
      "Epoch 17/200\n",
      "313/313 [==============================] - 1s 2ms/step - loss: 0.0010 - mean_squared_error: 0.0010\n",
      "Epoch 18/200\n",
      "313/313 [==============================] - 1s 2ms/step - loss: 9.4943e-04 - mean_squared_error: 9.4943e-04\n",
      "Epoch 19/200\n",
      "313/313 [==============================] - 1s 2ms/step - loss: 8.8166e-04 - mean_squared_error: 8.8166e-04\n",
      "Epoch 20/200\n",
      "313/313 [==============================] - 0s 2ms/step - loss: 8.1354e-04 - mean_squared_error: 8.1354e-04\n",
      "Epoch 21/200\n",
      "313/313 [==============================] - 0s 1ms/step - loss: 7.4439e-04 - mean_squared_error: 7.4439e-04\n",
      "Epoch 22/200\n",
      "313/313 [==============================] - 0s 2ms/step - loss: 6.7427e-04 - mean_squared_error: 6.7427e-04\n",
      "Epoch 23/200\n",
      "313/313 [==============================] - 0s 1ms/step - loss: 6.0376e-04 - mean_squared_error: 6.0376e-04\n",
      "Epoch 24/200\n",
      "313/313 [==============================] - 0s 2ms/step - loss: 5.3377e-04 - mean_squared_error: 5.3377e-04\n",
      "Epoch 25/200\n",
      "313/313 [==============================] - 0s 1ms/step - loss: 4.6536e-04 - mean_squared_error: 4.6536e-04\n",
      "Epoch 26/200\n",
      "313/313 [==============================] - 0s 2ms/step - loss: 3.9965e-04 - mean_squared_error: 3.9965e-04\n",
      "Epoch 27/200\n",
      "313/313 [==============================] - 0s 1ms/step - loss: 3.3769e-04 - mean_squared_error: 3.3769e-04\n",
      "Epoch 28/200\n",
      "313/313 [==============================] - 0s 1ms/step - loss: 2.8041e-04 - mean_squared_error: 2.8041e-04\n",
      "Epoch 29/200\n",
      "313/313 [==============================] - 0s 1ms/step - loss: 2.2850e-04 - mean_squared_error: 2.2850e-04\n",
      "Epoch 30/200\n",
      "313/313 [==============================] - 0s 1ms/step - loss: 1.8245e-04 - mean_squared_error: 1.8245e-04\n",
      "Epoch 31/200\n",
      "313/313 [==============================] - 0s 1ms/step - loss: 1.4248e-04 - mean_squared_error: 1.4248e-04\n",
      "Epoch 32/200\n",
      "313/313 [==============================] - 0s 1ms/step - loss: 1.0856e-04 - mean_squared_error: 1.0856e-04\n",
      "Epoch 33/200\n",
      "313/313 [==============================] - 0s 1ms/step - loss: 8.0460e-05 - mean_squared_error: 8.0460e-05\n",
      "Epoch 34/200\n",
      "313/313 [==============================] - 0s 1ms/step - loss: 5.7792e-05 - mean_squared_error: 5.7792e-05\n",
      "Epoch 35/200\n",
      "313/313 [==============================] - 0s 1ms/step - loss: 4.0042e-05 - mean_squared_error: 4.0042e-05\n",
      "Epoch 36/200\n",
      "313/313 [==============================] - 0s 1ms/step - loss: 2.6623e-05 - mean_squared_error: 2.6623e-05\n",
      "Epoch 37/200\n",
      "313/313 [==============================] - 0s 1ms/step - loss: 1.6902e-05 - mean_squared_error: 1.6902e-05\n",
      "Epoch 38/200\n",
      "313/313 [==============================] - 0s 1ms/step - loss: 1.0223e-05 - mean_squared_error: 1.0223e-05\n",
      "Epoch 39/200\n",
      "313/313 [==============================] - 0s 1ms/step - loss: 5.9226e-06 - mean_squared_error: 5.9226e-06\n",
      "Epoch 40/200\n",
      "313/313 [==============================] - 0s 1ms/step - loss: 3.3626e-06 - mean_squared_error: 3.3626e-06\n",
      "Epoch 41/200\n",
      "313/313 [==============================] - 0s 1ms/step - loss: 1.9764e-06 - mean_squared_error: 1.9764e-06\n",
      "Epoch 42/200\n",
      "313/313 [==============================] - 0s 1ms/step - loss: 1.3082e-06 - mean_squared_error: 1.3082e-06\n",
      "Epoch 43/200\n",
      "313/313 [==============================] - 0s 1ms/step - loss: 1.0295e-06 - mean_squared_error: 1.0295e-06\n",
      "Epoch 44/200\n",
      "313/313 [==============================] - 0s 1ms/step - loss: 9.3463e-07 - mean_squared_error: 9.3463e-07\n",
      "Epoch 45/200\n",
      "313/313 [==============================] - 0s 1ms/step - loss: 9.1248e-07 - mean_squared_error: 9.1248e-07\n",
      "Epoch 46/200\n",
      "313/313 [==============================] - 0s 1ms/step - loss: 9.0820e-07 - mean_squared_error: 9.0820e-07\n",
      "Epoch 47/200\n",
      "313/313 [==============================] - 0s 1ms/step - loss: 9.0241e-07 - mean_squared_error: 9.0241e-07\n",
      "Epoch 48/200\n",
      "313/313 [==============================] - 0s 1ms/step - loss: 8.9917e-07 - mean_squared_error: 8.9917e-07\n",
      "Epoch 49/200\n",
      "313/313 [==============================] - 0s 1ms/step - loss: 8.9659e-07 - mean_squared_error: 8.9659e-07\n",
      "Epoch 50/200\n",
      "313/313 [==============================] - 0s 1ms/step - loss: 8.9871e-07 - mean_squared_error: 8.9871e-07\n",
      "Epoch 51/200\n",
      "313/313 [==============================] - 0s 1ms/step - loss: 9.0003e-07 - mean_squared_error: 9.0003e-07\n",
      "Epoch 52/200\n",
      "313/313 [==============================] - 0s 2ms/step - loss: 9.0276e-07 - mean_squared_error: 9.0276e-07\n",
      "Epoch 53/200\n",
      "313/313 [==============================] - 0s 2ms/step - loss: 9.0650e-07 - mean_squared_error: 9.0650e-07\n",
      "Epoch 54/200\n",
      "313/313 [==============================] - 0s 1ms/step - loss: 9.0171e-07 - mean_squared_error: 9.0171e-07\n",
      "Epoch 55/200\n",
      "313/313 [==============================] - 0s 1ms/step - loss: 8.9894e-07 - mean_squared_error: 8.9894e-07\n",
      "Epoch 56/200\n",
      "313/313 [==============================] - 1s 2ms/step - loss: 8.9919e-07 - mean_squared_error: 8.9919e-07\n",
      "Epoch 57/200\n",
      "313/313 [==============================] - 0s 2ms/step - loss: 8.9403e-07 - mean_squared_error: 8.9403e-07\n",
      "Epoch 58/200\n",
      "313/313 [==============================] - 0s 1ms/step - loss: 8.9536e-07 - mean_squared_error: 8.9536e-07\n",
      "Epoch 59/200\n",
      "313/313 [==============================] - 1s 2ms/step - loss: 8.9909e-07 - mean_squared_error: 8.9909e-07\n",
      "Epoch 60/200\n",
      "313/313 [==============================] - 1s 2ms/step - loss: 8.9992e-07 - mean_squared_error: 8.9992e-07\n",
      "Epoch 61/200\n",
      "313/313 [==============================] - 0s 2ms/step - loss: 9.0957e-07 - mean_squared_error: 9.0957e-07\n",
      "Epoch 62/200\n",
      "313/313 [==============================] - 0s 1ms/step - loss: 8.9574e-07 - mean_squared_error: 8.9574e-07\n",
      "Epoch 63/200\n",
      "313/313 [==============================] - 0s 1ms/step - loss: 9.0089e-07 - mean_squared_error: 9.0089e-07\n",
      "Epoch 64/200\n",
      "313/313 [==============================] - 0s 2ms/step - loss: 8.9665e-07 - mean_squared_error: 8.9665e-07\n",
      "Epoch 65/200\n",
      "313/313 [==============================] - 0s 1ms/step - loss: 8.9618e-07 - mean_squared_error: 8.9618e-07\n",
      "Epoch 66/200\n",
      "313/313 [==============================] - 0s 1ms/step - loss: 9.0508e-07 - mean_squared_error: 9.0508e-07\n",
      "Epoch 67/200\n",
      "313/313 [==============================] - 1s 2ms/step - loss: 9.0676e-07 - mean_squared_error: 9.0676e-07\n",
      "Epoch 68/200\n",
      "313/313 [==============================] - 1s 2ms/step - loss: 8.9730e-07 - mean_squared_error: 8.9730e-07\n",
      "Epoch 69/200\n",
      "313/313 [==============================] - 1s 2ms/step - loss: 8.9705e-07 - mean_squared_error: 8.9705e-07\n",
      "Epoch 70/200\n"
     ]
    },
    {
     "name": "stdout",
     "output_type": "stream",
     "text": [
      "313/313 [==============================] - 0s 1ms/step - loss: 8.9718e-07 - mean_squared_error: 8.9718e-07\n",
      "Epoch 71/200\n",
      "313/313 [==============================] - 0s 1ms/step - loss: 9.0704e-07 - mean_squared_error: 9.0704e-07\n",
      "Epoch 72/200\n",
      "313/313 [==============================] - 0s 1ms/step - loss: 9.0949e-07 - mean_squared_error: 9.0949e-07\n",
      "Epoch 73/200\n",
      "313/313 [==============================] - 0s 1ms/step - loss: 8.9704e-07 - mean_squared_error: 8.9704e-07\n",
      "Epoch 74/200\n",
      "313/313 [==============================] - 0s 1ms/step - loss: 8.9705e-07 - mean_squared_error: 8.9705e-07\n",
      "Epoch 75/200\n",
      "313/313 [==============================] - 1s 2ms/step - loss: 9.0028e-07 - mean_squared_error: 9.0028e-07\n",
      "Epoch 76/200\n",
      "313/313 [==============================] - 0s 1ms/step - loss: 9.0510e-07 - mean_squared_error: 9.0510e-07\n",
      "Epoch 77/200\n",
      "313/313 [==============================] - 0s 1ms/step - loss: 8.9708e-07 - mean_squared_error: 8.9708e-07\n",
      "Epoch 78/200\n",
      "313/313 [==============================] - 1s 2ms/step - loss: 8.9707e-07 - mean_squared_error: 8.9707e-07\n",
      "Epoch 79/200\n",
      "313/313 [==============================] - 1s 2ms/step - loss: 9.0632e-07 - mean_squared_error: 9.0632e-07\n",
      "Epoch 80/200\n",
      "313/313 [==============================] - 1s 2ms/step - loss: 8.9727e-07 - mean_squared_error: 8.9727e-07\n",
      "Epoch 81/200\n",
      "313/313 [==============================] - 1s 2ms/step - loss: 9.0155e-07 - mean_squared_error: 9.0155e-07\n",
      "Epoch 82/200\n",
      "313/313 [==============================] - 1s 2ms/step - loss: 9.0942e-07 - mean_squared_error: 9.0942e-07\n",
      "Epoch 83/200\n",
      "313/313 [==============================] - 1s 2ms/step - loss: 8.9706e-07 - mean_squared_error: 8.9706e-07\n",
      "Epoch 84/200\n",
      "313/313 [==============================] - 0s 2ms/step - loss: 8.9705e-07 - mean_squared_error: 8.9705e-07\n",
      "Epoch 85/200\n",
      "313/313 [==============================] - 1s 2ms/step - loss: 9.0394e-07 - mean_squared_error: 9.0394e-07\n",
      "Epoch 86/200\n",
      "313/313 [==============================] - 1s 2ms/step - loss: 8.9723e-07 - mean_squared_error: 8.9723e-07\n",
      "Epoch 87/200\n",
      "313/313 [==============================] - 0s 2ms/step - loss: 9.0956e-07 - mean_squared_error: 9.0956e-07\n",
      "Epoch 88/200\n",
      "313/313 [==============================] - 1s 2ms/step - loss: 8.9710e-07 - mean_squared_error: 8.9710e-07\n",
      "Epoch 89/200\n",
      "313/313 [==============================] - 1s 2ms/step - loss: 9.0071e-07 - mean_squared_error: 9.0071e-07\n",
      "Epoch 90/200\n",
      "313/313 [==============================] - 0s 1ms/step - loss: 8.9814e-07 - mean_squared_error: 8.9814e-07\n",
      "Epoch 91/200\n",
      "313/313 [==============================] - 1s 2ms/step - loss: 8.9909e-07 - mean_squared_error: 8.9909e-07\n",
      "Epoch 92/200\n",
      "313/313 [==============================] - 0s 1ms/step - loss: 9.0808e-07 - mean_squared_error: 9.0808e-07\n",
      "Epoch 93/200\n",
      "313/313 [==============================] - 0s 1ms/step - loss: 9.0198e-07 - mean_squared_error: 9.0198e-07\n",
      "Epoch 94/200\n",
      "313/313 [==============================] - 0s 1ms/step - loss: 8.9706e-07 - mean_squared_error: 8.9706e-07\n",
      "Epoch 95/200\n",
      "313/313 [==============================] - 0s 1ms/step - loss: 8.9706e-07 - mean_squared_error: 8.9706e-07\n",
      "Epoch 96/200\n",
      "313/313 [==============================] - 0s 2ms/step - loss: 9.0807e-07 - mean_squared_error: 9.0807e-07\n",
      "Epoch 97/200\n",
      "313/313 [==============================] - 0s 2ms/step - loss: 8.9709e-07 - mean_squared_error: 8.9709e-07\n",
      "Epoch 98/200\n",
      "313/313 [==============================] - 0s 2ms/step - loss: 8.9705e-07 - mean_squared_error: 8.9705e-07\n",
      "Epoch 99/200\n",
      "313/313 [==============================] - 0s 1ms/step - loss: 9.1203e-07 - mean_squared_error: 9.1203e-07\n",
      "Epoch 100/200\n",
      "313/313 [==============================] - 0s 1ms/step - loss: 9.0767e-07 - mean_squared_error: 9.0767e-07\n",
      "Epoch 101/200\n",
      "313/313 [==============================] - 1s 2ms/step - loss: 8.9706e-07 - mean_squared_error: 8.9706e-07\n",
      "Epoch 102/200\n",
      "313/313 [==============================] - 1s 2ms/step - loss: 8.9705e-07 - mean_squared_error: 8.9705e-07\n",
      "Epoch 103/200\n",
      "313/313 [==============================] - 1s 2ms/step - loss: 8.9705e-07 - mean_squared_error: 8.9705e-07\n",
      "Epoch 104/200\n",
      "313/313 [==============================] - 0s 2ms/step - loss: 9.0430e-07 - mean_squared_error: 9.0430e-07\n",
      "Epoch 105/200\n",
      "313/313 [==============================] - 1s 2ms/step - loss: 8.9866e-07 - mean_squared_error: 8.9866e-07\n",
      "Epoch 106/200\n",
      "313/313 [==============================] - 0s 2ms/step - loss: 9.0111e-07 - mean_squared_error: 9.0111e-07\n",
      "Epoch 107/200\n",
      "313/313 [==============================] - 0s 1ms/step - loss: 9.0219e-07 - mean_squared_error: 9.0219e-07\n",
      "Epoch 108/200\n",
      "313/313 [==============================] - 0s 1ms/step - loss: 8.9966e-07 - mean_squared_error: 8.9966e-07\n",
      "Epoch 109/200\n",
      "313/313 [==============================] - 0s 1ms/step - loss: 8.9828e-07 - mean_squared_error: 8.9828e-07\n",
      "Epoch 110/200\n",
      "313/313 [==============================] - 0s 1ms/step - loss: 9.0170e-07 - mean_squared_error: 9.0170e-07\n",
      "Epoch 111/200\n",
      "313/313 [==============================] - 0s 1ms/step - loss: 9.0842e-07 - mean_squared_error: 9.0842e-07\n",
      "Epoch 112/200\n",
      "313/313 [==============================] - 0s 1ms/step - loss: 8.9706e-07 - mean_squared_error: 8.9706e-07\n",
      "Epoch 113/200\n",
      "313/313 [==============================] - 0s 2ms/step - loss: 8.9707e-07 - mean_squared_error: 8.9707e-07\n",
      "Epoch 114/200\n",
      "313/313 [==============================] - 0s 1ms/step - loss: 9.0446e-07 - mean_squared_error: 9.0446e-07\n",
      "Epoch 115/200\n",
      "313/313 [==============================] - 0s 1ms/step - loss: 9.0799e-07 - mean_squared_error: 9.0799e-07\n",
      "Epoch 116/200\n",
      "313/313 [==============================] - 0s 1ms/step - loss: 8.9718e-07 - mean_squared_error: 8.9718e-07\n",
      "Epoch 117/200\n",
      "313/313 [==============================] - 0s 1ms/step - loss: 8.9752e-07 - mean_squared_error: 8.9752e-07\n",
      "Epoch 118/200\n",
      "313/313 [==============================] - 0s 1ms/step - loss: 9.0552e-07 - mean_squared_error: 9.0552e-07\n",
      "Epoch 119/200\n",
      "313/313 [==============================] - 0s 1ms/step - loss: 8.9706e-07 - mean_squared_error: 8.9706e-07\n",
      "Epoch 120/200\n",
      "313/313 [==============================] - 0s 1ms/step - loss: 9.0822e-07 - mean_squared_error: 9.0822e-07\n",
      "Epoch 121/200\n",
      "313/313 [==============================] - 0s 1ms/step - loss: 8.9717e-07 - mean_squared_error: 8.9717e-07\n",
      "Epoch 122/200\n",
      "313/313 [==============================] - 0s 1ms/step - loss: 9.0691e-07 - mean_squared_error: 9.0691e-07\n",
      "Epoch 123/200\n",
      "313/313 [==============================] - 0s 1ms/step - loss: 8.9705e-07 - mean_squared_error: 8.9705e-07\n",
      "Epoch 124/200\n",
      "313/313 [==============================] - 0s 1ms/step - loss: 8.9928e-07 - mean_squared_error: 8.9928e-07\n",
      "Epoch 125/200\n",
      "313/313 [==============================] - 0s 1ms/step - loss: 9.0278e-07 - mean_squared_error: 9.0278e-07\n",
      "Epoch 126/200\n",
      "313/313 [==============================] - 0s 1ms/step - loss: 9.0731e-07 - mean_squared_error: 9.0731e-07\n",
      "Epoch 127/200\n",
      "313/313 [==============================] - 0s 1ms/step - loss: 9.0236e-07 - mean_squared_error: 9.0236e-07\n",
      "Epoch 128/200\n",
      "313/313 [==============================] - 0s 1ms/step - loss: 9.0283e-07 - mean_squared_error: 9.0283e-07\n",
      "Epoch 129/200\n",
      "313/313 [==============================] - 0s 1ms/step - loss: 8.9707e-07 - mean_squared_error: 8.9707e-07\n",
      "Epoch 130/200\n",
      "313/313 [==============================] - 0s 1ms/step - loss: 8.9705e-07 - mean_squared_error: 8.9705e-07\n",
      "Epoch 131/200\n",
      "313/313 [==============================] - 0s 1ms/step - loss: 9.0146e-07 - mean_squared_error: 9.0146e-07\n",
      "Epoch 132/200\n",
      "313/313 [==============================] - 0s 1ms/step - loss: 9.0599e-07 - mean_squared_error: 9.0599e-07\n",
      "Epoch 133/200\n",
      "313/313 [==============================] - 0s 1ms/step - loss: 8.9803e-07 - mean_squared_error: 8.9803e-07\n",
      "Epoch 134/200\n",
      "313/313 [==============================] - 0s 1ms/step - loss: 8.9871e-07 - mean_squared_error: 8.9871e-07\n",
      "Epoch 135/200\n",
      "313/313 [==============================] - 0s 1ms/step - loss: 9.0016e-07 - mean_squared_error: 9.0016e-07\n",
      "Epoch 136/200\n",
      "313/313 [==============================] - 0s 1ms/step - loss: 9.1097e-07 - mean_squared_error: 9.1097e-07\n",
      "Epoch 137/200\n",
      "313/313 [==============================] - 0s 1ms/step - loss: 9.0557e-07 - mean_squared_error: 9.0557e-07\n",
      "Epoch 138/200\n"
     ]
    },
    {
     "name": "stdout",
     "output_type": "stream",
     "text": [
      "313/313 [==============================] - 0s 1ms/step - loss: 8.9705e-07 - mean_squared_error: 8.9705e-07\n",
      "Epoch 139/200\n",
      "313/313 [==============================] - 0s 2ms/step - loss: 9.0708e-07 - mean_squared_error: 9.0708e-07\n",
      "Epoch 140/200\n",
      "313/313 [==============================] - 1s 2ms/step - loss: 8.9711e-07 - mean_squared_error: 8.9711e-07\n",
      "Epoch 141/200\n",
      "313/313 [==============================] - 0s 1ms/step - loss: 8.9705e-07 - mean_squared_error: 8.9705e-07\n",
      "Epoch 142/200\n",
      "313/313 [==============================] - 0s 1ms/step - loss: 8.9872e-07 - mean_squared_error: 8.9872e-07\n",
      "Epoch 143/200\n",
      "313/313 [==============================] - 1s 2ms/step - loss: 9.1411e-07 - mean_squared_error: 9.1411e-07\n",
      "Epoch 144/200\n",
      "313/313 [==============================] - 0s 1ms/step - loss: 8.9728e-07 - mean_squared_error: 8.9728e-07\n",
      "Epoch 145/200\n",
      "313/313 [==============================] - 0s 1ms/step - loss: 8.9705e-07 - mean_squared_error: 8.9705e-07\n",
      "Epoch 146/200\n",
      "313/313 [==============================] - 0s 1ms/step - loss: 8.9707e-07 - mean_squared_error: 8.9707e-07\n",
      "Epoch 147/200\n",
      "313/313 [==============================] - 0s 1ms/step - loss: 9.0339e-07 - mean_squared_error: 9.0339e-07\n",
      "Epoch 148/200\n",
      "313/313 [==============================] - 0s 1ms/step - loss: 9.0392e-07 - mean_squared_error: 9.0392e-07\n",
      "Epoch 149/200\n",
      "313/313 [==============================] - 0s 1ms/step - loss: 8.9706e-07 - mean_squared_error: 8.9706e-07\n",
      "Epoch 150/200\n",
      "313/313 [==============================] - 0s 1ms/step - loss: 9.0312e-07 - mean_squared_error: 9.0312e-07\n",
      "Epoch 151/200\n",
      "313/313 [==============================] - 0s 1ms/step - loss: 9.0015e-07 - mean_squared_error: 9.0015e-07\n",
      "Epoch 152/200\n",
      "313/313 [==============================] - 0s 1ms/step - loss: 9.0530e-07 - mean_squared_error: 9.0530e-07\n",
      "Epoch 153/200\n",
      "313/313 [==============================] - 1s 2ms/step - loss: 9.0429e-07 - mean_squared_error: 9.0429e-07\n",
      "Epoch 154/200\n",
      "313/313 [==============================] - 1s 2ms/step - loss: 8.9978e-07 - mean_squared_error: 8.9978e-07\n",
      "Epoch 155/200\n",
      "313/313 [==============================] - 0s 1ms/step - loss: 8.9706e-07 - mean_squared_error: 8.9706e-07\n",
      "Epoch 156/200\n",
      "313/313 [==============================] - 0s 1ms/step - loss: 9.0242e-07 - mean_squared_error: 9.0242e-07\n",
      "Epoch 157/200\n",
      "313/313 [==============================] - 0s 1ms/step - loss: 8.9800e-07 - mean_squared_error: 8.9800e-07\n",
      "Epoch 158/200\n",
      "313/313 [==============================] - 0s 2ms/step - loss: 9.0162e-07 - mean_squared_error: 9.0162e-07\n",
      "Epoch 159/200\n",
      "313/313 [==============================] - 0s 1ms/step - loss: 8.9712e-07 - mean_squared_error: 8.9712e-07\n",
      "Epoch 160/200\n",
      "313/313 [==============================] - 0s 1ms/step - loss: 9.0469e-07 - mean_squared_error: 9.0469e-07\n",
      "Epoch 161/200\n",
      "313/313 [==============================] - 0s 1ms/step - loss: 9.0599e-07 - mean_squared_error: 9.0599e-07\n",
      "Epoch 162/200\n",
      "313/313 [==============================] - 0s 1ms/step - loss: 8.9706e-07 - mean_squared_error: 8.9706e-07\n",
      "Epoch 163/200\n",
      "313/313 [==============================] - 0s 1ms/step - loss: 8.9706e-07 - mean_squared_error: 8.9706e-07\n",
      "Epoch 164/200\n",
      "313/313 [==============================] - 0s 1ms/step - loss: 9.0433e-07 - mean_squared_error: 9.0433e-07\n",
      "Epoch 165/200\n",
      "313/313 [==============================] - 0s 1ms/step - loss: 9.0659e-07 - mean_squared_error: 9.0659e-07\n",
      "Epoch 166/200\n",
      "313/313 [==============================] - 1s 2ms/step - loss: 9.0341e-07 - mean_squared_error: 9.0341e-07\n",
      "Epoch 167/200\n",
      "313/313 [==============================] - 0s 2ms/step - loss: 9.0234e-07 - mean_squared_error: 9.0234e-07\n",
      "Epoch 168/200\n",
      "313/313 [==============================] - 0s 1ms/step - loss: 8.9706e-07 - mean_squared_error: 8.9706e-07\n",
      "Epoch 169/200\n",
      "313/313 [==============================] - 1s 2ms/step - loss: 8.9705e-07 - mean_squared_error: 8.9705e-07\n",
      "Epoch 170/200\n",
      "313/313 [==============================] - 1s 2ms/step - loss: 9.0028e-07 - mean_squared_error: 9.0028e-07\n",
      "Epoch 171/200\n",
      "313/313 [==============================] - 0s 1ms/step - loss: 9.0247e-07 - mean_squared_error: 9.0247e-07\n",
      "Epoch 172/200\n",
      "313/313 [==============================] - 0s 2ms/step - loss: 8.9773e-07 - mean_squared_error: 8.9773e-07\n",
      "Epoch 173/200\n",
      "313/313 [==============================] - 0s 2ms/step - loss: 9.1033e-07 - mean_squared_error: 9.1033e-07\n",
      "Epoch 174/200\n",
      "313/313 [==============================] - 0s 1ms/step - loss: 9.1301e-07 - mean_squared_error: 9.1301e-07\n",
      "Epoch 175/200\n",
      "313/313 [==============================] - 0s 1ms/step - loss: 8.9724e-07 - mean_squared_error: 8.9724e-07\n",
      "Epoch 176/200\n",
      "313/313 [==============================] - 0s 1ms/step - loss: 8.9705e-07 - mean_squared_error: 8.9705e-07\n",
      "Epoch 177/200\n",
      "313/313 [==============================] - 0s 1ms/step - loss: 8.9705e-07 - mean_squared_error: 8.9705e-07\n",
      "Epoch 178/200\n",
      "313/313 [==============================] - 1s 2ms/step - loss: 8.9706e-07 - mean_squared_error: 8.9706e-07\n",
      "Epoch 179/200\n",
      "313/313 [==============================] - 1s 2ms/step - loss: 9.1321e-07 - mean_squared_error: 9.1321e-07\n",
      "Epoch 180/200\n",
      "313/313 [==============================] - 0s 1ms/step - loss: 8.9713e-07 - mean_squared_error: 8.9713e-07\n",
      "Epoch 181/200\n",
      "313/313 [==============================] - 1s 2ms/step - loss: 8.9706e-07 - mean_squared_error: 8.9706e-07\n",
      "Epoch 182/200\n",
      "313/313 [==============================] - 0s 2ms/step - loss: 8.9705e-07 - mean_squared_error: 8.9705e-07\n",
      "Epoch 183/200\n",
      "313/313 [==============================] - 0s 1ms/step - loss: 9.1433e-07 - mean_squared_error: 9.1433e-07\n",
      "Epoch 184/200\n",
      "313/313 [==============================] - 0s 1ms/step - loss: 8.9718e-07 - mean_squared_error: 8.9718e-07\n",
      "Epoch 185/200\n",
      "313/313 [==============================] - 0s 2ms/step - loss: 8.9706e-07 - mean_squared_error: 8.9706e-07\n",
      "Epoch 186/200\n",
      "313/313 [==============================] - 0s 1ms/step - loss: 9.1078e-07 - mean_squared_error: 9.1078e-07\n",
      "Epoch 187/200\n",
      "313/313 [==============================] - 0s 2ms/step - loss: 8.9705e-07 - mean_squared_error: 8.9705e-07\n",
      "Epoch 188/200\n",
      "313/313 [==============================] - 0s 1ms/step - loss: 9.0927e-07 - mean_squared_error: 9.0927e-07\n",
      "Epoch 189/200\n",
      "313/313 [==============================] - 0s 1ms/step - loss: 8.9721e-07 - mean_squared_error: 8.9721e-07\n",
      "Epoch 190/200\n",
      "313/313 [==============================] - 0s 2ms/step - loss: 8.9706e-07 - mean_squared_error: 8.9706e-07\n",
      "Epoch 191/200\n",
      "313/313 [==============================] - 1s 2ms/step - loss: 9.0182e-07 - mean_squared_error: 9.0182e-07\n",
      "Epoch 192/200\n",
      "313/313 [==============================] - 1s 2ms/step - loss: 8.9787e-07 - mean_squared_error: 8.9787e-07\n",
      "Epoch 193/200\n",
      "313/313 [==============================] - 0s 2ms/step - loss: 9.0792e-07 - mean_squared_error: 9.0792e-07\n",
      "Epoch 194/200\n",
      "313/313 [==============================] - 1s 2ms/step - loss: 9.0286e-07 - mean_squared_error: 9.0286e-07\n",
      "Epoch 195/200\n",
      "313/313 [==============================] - 0s 1ms/step - loss: 8.9809e-07 - mean_squared_error: 8.9809e-07\n",
      "Epoch 196/200\n",
      "313/313 [==============================] - 0s 1ms/step - loss: 8.9705e-07 - mean_squared_error: 8.9705e-07\n",
      "Epoch 197/200\n",
      "313/313 [==============================] - 1s 2ms/step - loss: 8.9710e-07 - mean_squared_error: 8.9710e-07\n",
      "Epoch 198/200\n",
      "313/313 [==============================] - 0s 2ms/step - loss: 9.0514e-07 - mean_squared_error: 9.0514e-07\n",
      "Epoch 199/200\n",
      "313/313 [==============================] - 0s 1ms/step - loss: 8.9822e-07 - mean_squared_error: 8.9822e-07\n",
      "Epoch 200/200\n",
      "313/313 [==============================] - 0s 1ms/step - loss: 8.9881e-07 - mean_squared_error: 8.9881e-07\n",
      "WARNING:tensorflow:Skipping full serialization of Keras layer <keras.layers.merge.Add object at 0x7fad779238b0>, because it is not built.\n"
     ]
    },
    {
     "name": "stderr",
     "output_type": "stream",
     "text": [
      "2022-04-06 15:17:05.995692: W tensorflow/python/util/util.cc:368] Sets are not currently considered sequences, but this may change in the future, so consider avoiding using them.\n"
     ]
    },
    {
     "name": "stdout",
     "output_type": "stream",
     "text": [
      "INFO:tensorflow:Assets written to: ./cartpole_system_model/assets\n"
     ]
    },
    {
     "name": "stderr",
     "output_type": "stream",
     "text": [
      "/Users/johnlime/anaconda3/lib/python3.8/site-packages/keras/saving/saved_model/layer_serialization.py:112: CustomMaskWarning: Custom mask layers require a config and must override get_config. When loading, the custom mask layer must be passed to the custom_objects argument.\n",
      "  return generic_utils.serialize_keras_object(obj)\n"
     ]
    }
   ],
   "source": [
    "# compile model\n",
    "model = CartpoleLinearControlSystem()\n",
    "model.compile(tf.keras.optimizers.Adam(),\n",
    "              loss = tf.keras.losses.MeanSquaredError(),\n",
    "              metrics = [tf.keras.metrics.MeanSquaredError()])\n",
    "history = model.fit(dataset_training, epochs = 200)\n",
    "tf.keras.models.save_model(\n",
    "    model, './cartpole_system_model', overwrite = True, include_optimizer = True, save_format = None,\n",
    "    signatures = None, options = None, save_traces = True\n",
    ")"
   ]
  },
  {
   "cell_type": "code",
   "execution_count": 15,
   "id": "5bf4bba1",
   "metadata": {},
   "outputs": [
    {
     "name": "stdout",
     "output_type": "stream",
     "text": [
      "WARNING:tensorflow:Skipping full serialization of Keras layer <keras.layers.merge.Add object at 0x7fad779238b0>, because it is not built.\n",
      "INFO:tensorflow:Assets written to: ram://63c95a0c-b254-4c94-b568-e3944db43f46/assets\n"
     ]
    },
    {
     "name": "stderr",
     "output_type": "stream",
     "text": [
      "/Users/johnlime/anaconda3/lib/python3.8/site-packages/keras/saving/saved_model/layer_serialization.py:112: CustomMaskWarning: Custom mask layers require a config and must override get_config. When loading, the custom mask layer must be passed to the custom_objects argument.\n",
      "  return generic_utils.serialize_keras_object(obj)\n"
     ]
    }
   ],
   "source": [
    "with open('./cartpole_system_model/history.pkl', 'wb') as filepath:\n",
    "    pickle.dump(history, filepath)"
   ]
  },
  {
   "cell_type": "markdown",
   "id": "826c4999",
   "metadata": {},
   "source": [
    "## Model Evaluation and Learning Curve Visualization"
   ]
  },
  {
   "cell_type": "code",
   "execution_count": 16,
   "id": "abcf1575",
   "metadata": {},
   "outputs": [],
   "source": [
    "model = tf.keras.models.load_model(\n",
    "    './cartpole_system_model', custom_objects=None, compile=True, options=None\n",
    ")\n",
    "\n",
    "history = None\n",
    "with open('./cartpole_system_model/history.pkl', 'rb') as filepath:\n",
    "    history = pickle.load(filepath)\n",
    "    \n",
    "history_keys = history.history.keys()"
   ]
  },
  {
   "cell_type": "code",
   "execution_count": 17,
   "id": "a082d7a4",
   "metadata": {},
   "outputs": [],
   "source": [
    "# tf.data.experimental.save() and load() are deprecated and buggy with Tensorflow 2.\n",
    "# dataset_training = tf.data.experimental.load('./cartpole_system_model/dataset_training')\n",
    "# dataset_testing = tf.data.experimental.load('./cartpole_system_model/dataset_testing')\n",
    "# dataset = tf.data.experimental.load('./cartpole_system_model/dataset')"
   ]
  },
  {
   "cell_type": "code",
   "execution_count": 18,
   "id": "e2d31dd7",
   "metadata": {},
   "outputs": [],
   "source": [
    "import matplotlib.pyplot as plt\n",
    "%matplotlib inline"
   ]
  },
  {
   "cell_type": "code",
   "execution_count": 19,
   "id": "d7fa0bde",
   "metadata": {},
   "outputs": [],
   "source": [
    "def show_history(history_obj, y_data_name):\n",
    "    # plt.plot(range(history_obj.params['epochs']), history_obj.history[y_data_name])\n",
    "    plt.plot(range(100), history_obj.history[y_data_name][:100])\n",
    "    plt.xlabel(\"Epochs\")\n",
    "    plt.ylabel(y_data_name)\n",
    "    plt.savefig('./cartpole_system_model/' + y_data_name + '.png')\n",
    "    plt.show()"
   ]
  },
  {
   "cell_type": "code",
   "execution_count": 20,
   "id": "fceb90d8",
   "metadata": {
    "scrolled": false
   },
   "outputs": [
    {
     "data": {
      "image/png": "[encoded data removed]",
      "text/plain": [
       "<Figure size 432x288 with 1 Axes>"
      ]
     },
     "metadata": {
      "needs_background": "light"
     },
     "output_type": "display_data"
    },
    {
     "data": {
      "image/png": "[encoded data removed]",
      "text/plain": [
       "<Figure size 432x288 with 1 Axes>"
      ]
     },
     "metadata": {
      "needs_background": "light"
     },
     "output_type": "display_data"
    }
   ],
   "source": [
    "for i, key in enumerate(history.history.keys()):\n",
    "  show_history(history, key)"
   ]
  },
  {
   "cell_type": "code",
   "execution_count": 21,
   "id": "285d954a",
   "metadata": {},
   "outputs": [
    {
     "name": "stdout",
     "output_type": "stream",
     "text": [
      "Model: \"cartpole_linear_control_system\"\n",
      "_________________________________________________________________\n",
      " Layer (type)                Output Shape              Param #   \n",
      "=================================================================\n",
      " A (Dense)                   multiple                  16        \n",
      "                                                                 \n",
      " B (Dense)                   multiple                  4         \n",
      "                                                                 \n",
      " add (Add)                   multiple                  0         \n",
      "                                                                 \n",
      "=================================================================\n",
      "Total params: 20\n",
      "Trainable params: 20\n",
      "Non-trainable params: 0\n",
      "_________________________________________________________________\n"
     ]
    }
   ],
   "source": [
    "model.summary()"
   ]
  },
  {
   "cell_type": "code",
   "execution_count": 22,
   "id": "c8d2666d",
   "metadata": {},
   "outputs": [
    {
     "name": "stdout",
     "output_type": "stream",
     "text": [
      "125/125 [==============================] - 0s 877us/step - loss: 8.4227e-07 - mean_squared_error: 8.4227e-07\n",
      "[8.4227400520831e-07, 8.4227400520831e-07]\n"
     ]
    }
   ],
   "source": [
    "prediction_result = model.evaluate(dataset_testing.batch(8))\n",
    "print(prediction_result)"
   ]
  },
  {
   "cell_type": "code",
   "execution_count": null,
   "id": "fbbbd3dc",
   "metadata": {},
   "outputs": [],
   "source": []
  }
 ],
 "metadata": {
  "kernelspec": {
   "display_name": "Python 3 (ipykernel)",
   "language": "python",
   "name": "python3"
  },
  "language_info": {
   "codemirror_mode": {
    "name": "ipython",
    "version": 3
   },
   "file_extension": ".py",
   "mimetype": "text/x-python",
   "name": "python",
   "nbconvert_exporter": "python",
   "pygments_lexer": "ipython3",
   "version": "3.8.12"
  }
 },
 "nbformat": 4,
 "nbformat_minor": 5
}
